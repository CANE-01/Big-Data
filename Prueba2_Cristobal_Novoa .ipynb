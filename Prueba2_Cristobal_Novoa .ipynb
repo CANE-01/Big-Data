{
 "cells": [
  {
   "cell_type": "markdown",
   "metadata": {},
   "source": [
    "Prueba 2 realizada por Cristóbal Novoa\n",
    "\n",
    "Descripción\n",
    "Yelp es un directorio de servicios a nivel mundial, que permite a sus usuarios evaluar los\n",
    "servicios (restaurantes, bancos, clínicas, gimnasios, entre otros) para encontrar y sugerir\n",
    "mejores servicios.\n",
    "Para esta prueba utilizaremos los datos disponibilizados por Yelp para:\n",
    "● Identificar usuarios molestosos.\n",
    "● Probabilidad de cierre de los negocios.\n",
    "Los datos se disponibilizaron en la página yelp.com.\n",
    "Para efectos prácticos de la prueba:\n",
    "● Los archivos disponibles se encuentran en el bucket del módulo, con la dirección\n",
    "s3://bigdata-desafio/yelp-data/.\n",
    "● Dentro de esta dirección encontrará distintos archivos json con:\n",
    "○ Registros respecto al negocio (business.json).\n",
    "○ check-ins del usuario en un negocio (checkin.json).\n",
    "○ Fotos asociadas al review (photo.json).\n",
    "○ Reseñas de un usuario sobre el servicio (review.json).\n",
    "○ Sugerencias del usuario sobre el servicio (tip.json).\n",
    "○ Información del usuario (user.json)\n",
    "La definición de la estructura de datos de cada json se encuentra alojada en la siguiente\n",
    "dirección provista por Yelp. (Dentro de este link se encontrarán las definiciones de las\n",
    "columnas y el tipo de registro).\n"
   ]
  },
  {
   "cell_type": "markdown",
   "metadata": {},
   "source": [
    "Ejercicio 1: Identificando usuarios molestosos (4.6 Puntos)\n",
    "Utilizando el archivo user.json.\n",
    "Desde Yelp están interesados en identificar a aquellos usuarios que se pueden considerar\n",
    "como molestosos. Para ello, tienen la siguiente definición de un usuario molestoso:\n",
    "● Un usuario molestoso es aquél que su promedio de evaluaciones es menor o igual a\n",
    "2, tiene en promedio menos de 100 reviews y tiene cero fans.\n",
    "A partir de esta definición, se le solicita los siguientes puntos:\n",
    "● Identifique en una variable dummy todos los usuarios que se puedan clasificar como\n",
    "molestosos acorde al criterio.\n",
    "● Recodificaciones en el archivo user.json:\n",
    "○ friends, que corresponde a un string con todos los user_id de otros\n",
    "usuarios j que siguen al usuario i. El objetivo es contar la cantidad de\n",
    "amigos existentes.\n",
    "○ elite, que corresponde a un string con todos los años en los que el usuario\n",
    "i fue considerado como un reviewer de elite. El objetivo es contar la cantidad\n",
    "de años en los cuales se consideró como elite.\n",
    "○ Asegúrese de eliminar los siguientes registros: friends, yelping_since,\n",
    "name, elite, user_id."
   ]
  },
  {
   "cell_type": "code",
   "execution_count": 330,
   "metadata": {},
   "outputs": [
    {
     "data": {
      "application/vnd.jupyter.widget-view+json": {
       "model_id": "",
       "version_major": 2,
       "version_minor": 0
      },
      "text/plain": [
       "FloatProgress(value=0.0, bar_style='info', description='Progress:', layout=Layout(height='25px', width='50%'),…"
      ]
     },
     "metadata": {},
     "output_type": "display_data"
    }
   ],
   "source": [
    "#Se importan librerias \n",
    "from pyspark.sql import SparkSession\n",
    "from pyspark.sql.functions import when\n",
    "from pyspark.ml.feature import VectorAssembler"
   ]
  },
  {
   "cell_type": "code",
   "execution_count": 331,
   "metadata": {},
   "outputs": [
    {
     "data": {
      "application/vnd.jupyter.widget-view+json": {
       "model_id": "",
       "version_major": 2,
       "version_minor": 0
      },
      "text/plain": [
       "FloatProgress(value=0.0, bar_style='info', description='Progress:', layout=Layout(height='25px', width='50%'),…"
      ]
     },
     "metadata": {},
     "output_type": "display_data"
    }
   ],
   "source": [
    "#Se carga archivo json desde s3\n",
    "df = spark.read.json(\"s3://bigdata-desafio/yelp-data/user.json\")"
   ]
  },
  {
   "cell_type": "code",
   "execution_count": 332,
   "metadata": {
    "scrolled": true
   },
   "outputs": [
    {
     "data": {
      "application/vnd.jupyter.widget-view+json": {
       "model_id": "",
       "version_major": 2,
       "version_minor": 0
      },
      "text/plain": [
       "FloatProgress(value=0.0, bar_style='info', description='Progress:', layout=Layout(height='25px', width='50%'),…"
      ]
     },
     "metadata": {},
     "output_type": "display_data"
    },
    {
     "name": "stdout",
     "output_type": "stream",
     "text": [
      "root\n",
      " |-- average_stars: double (nullable = true)\n",
      " |-- compliment_cool: long (nullable = true)\n",
      " |-- compliment_cute: long (nullable = true)\n",
      " |-- compliment_funny: long (nullable = true)\n",
      " |-- compliment_hot: long (nullable = true)\n",
      " |-- compliment_list: long (nullable = true)\n",
      " |-- compliment_more: long (nullable = true)\n",
      " |-- compliment_note: long (nullable = true)\n",
      " |-- compliment_photos: long (nullable = true)\n",
      " |-- compliment_plain: long (nullable = true)\n",
      " |-- compliment_profile: long (nullable = true)\n",
      " |-- compliment_writer: long (nullable = true)\n",
      " |-- cool: long (nullable = true)\n",
      " |-- elite: string (nullable = true)\n",
      " |-- fans: long (nullable = true)\n",
      " |-- friends: string (nullable = true)\n",
      " |-- funny: long (nullable = true)\n",
      " |-- name: string (nullable = true)\n",
      " |-- review_count: long (nullable = true)\n",
      " |-- useful: long (nullable = true)\n",
      " |-- user_id: string (nullable = true)\n",
      " |-- yelping_since: string (nullable = true)"
     ]
    }
   ],
   "source": [
    "#Se muestra schema del dataframe\n",
    "df.printSchema()"
   ]
  },
  {
   "cell_type": "code",
   "execution_count": 333,
   "metadata": {},
   "outputs": [
    {
     "data": {
      "application/vnd.jupyter.widget-view+json": {
       "model_id": "",
       "version_major": 2,
       "version_minor": 0
      },
      "text/plain": [
       "FloatProgress(value=0.0, bar_style='info', description='Progress:', layout=Layout(height='25px', width='50%'),…"
      ]
     },
     "metadata": {},
     "output_type": "display_data"
    },
    {
     "name": "stdout",
     "output_type": "stream",
     "text": [
      "Row(average_stars=4.03, compliment_cool=1, compliment_cute=0, compliment_funny=1, compliment_hot=2, compliment_list=0, compliment_more=0, compliment_note=1, compliment_photos=0, compliment_plain=1, compliment_profile=0, compliment_writer=2, cool=25, elite='2015,2016,2017', fans=5, friends='c78V-rj8NQcQjOI8KP3UEA, alRMgPcngYSCJ5naFRBz5g, ajcnq75Z5xxkvUSmmJ1bCg, BSMAmp2-wMzCkhTfq9ToNg, jka10dk9ygX76hJG0gfPZQ, dut0e4xvme7QSlesOycHQA, l4l5lBnK356zBua7B-UJ6Q, 0HicMOOs-M_gl2eO-zES4Q, _uI57wL2fLyftrcSFpfSGQ, T4_Qd0YWbC3co6WSMw4vxg, iBRoLWPtWmsI1kdbE9ORSA, xjrUcid6Ymq0DoTJELkYyw, GqadWVzJ6At-vgLzK_SKgA, DvB13VJBmSnbFXBVBsKmDA, vRP9nQkYTeNioDjtxZlVhg, gT0A1iN3eeQ8EMAjJhwQtw, 6yCWjFPtp_AD4x93WAwmnw, 1dKzpNnib-JlViKv8_Gt5g, 3Bv4_JxHXq-gVLOxYMQX0Q, ikQyfu1iViYh8T0us7wiFQ, f1GGltNaB7K5DR1jf3dOmg, tgeFUChlh7v8bZFVl2-hjQ, -9-9oyXlqsMG2he5xIWdLQ, Adj9fBPVJad8vSs-mIP7gw, Ce49RY8CKXVsTifxRYFTsw, M1_7TLi8CbdA89nFLlH4iw, wFsNv-hqbW_F5-IRqfBN6g, 0Q1L7zXHocaUZ2gsG2XJeg, cBFgmOCBdhYa0xoFEAzp_g, VrD_AgiFvzqtlR15vir3SQ, cpE-7HK514Sr5vpSen9CEQ, F1UYelhPFB-zIKlt0ygIZg, CQAL1hvsLMCzuJf9AglsXw, 1KnY1wr15WfEWIRLB9IS6g, QWFQ-kXBiLbid-lm5Jr3dQ, nymT8liFugCrM16lTy0ZfQ, qj69bdd885heDvUPCyHd2Q, DySCZZcgbdrlHgEovk5y9w, lZMJIDuvhT9Dy4KyquLXyA, b_9Gn7wS93AoPZPR0dIJqQ, N07g1IaLh0_6sUjtiSRe4w, YdfPX_7DxSnKvvdCJ57iOw, 8GYryZPD22W7WgQ8kvMkEQ, cpQmAgOWatghp14h1pn1dQ, EnchhymLYMqftCRjqvVWmw, -JdfKhFktE7Zs9BMDFcPeQ, uWhC9eof98zPkvsalgaqJw, eyTlNDDaiPatfe6mheIZ0g, VfHq0o73aKsODvfAhwAQtg, kvD5tICngLAaQDujSFWupA, dXacwEhqi9-3_XT6JeH0Og, NfU0zDaTMEQ4-X9dbQWd9A, cTHWBdjSKbctSUIvWsgFxw, 3IEtCbSDF5t7RkZ20T6s9A, HJJXTrp6UybYyPdQ9DA0JA, JaXogQFVjzGRAeBvzamBHg, NUonfKkjS1iVqnNITtgXZg, D5vaJAYp0sOrGfsj9qvsMA, H27Ecbwwu4FGAlLgICourw, S8HrLmMiE4u8FWYWkNEoTw, Io36Y3xWQcIX9rYvPcYfXQ, J5mcqh8KxYpqjaLBNlwcig, -nTB3_08g06fD0GT8AtDBQ, wMpFA46lihK8oFns_5p65A, RZGFJHeomGJCWp3xcL3ejA, ZoQSzzXoSP1RxOD4Amv9Bg, qzM0EB0SkuuGIFv0adjQAQ, HuM6vvuveken-fPZ7d4olA, H3oukHpGpn9n_mJwSDSQyQ, PkmsJsQ8FIZe8eh8c_u96g, wSByVbwME4MzgkJaFyfvNg, YEVqknoDmrHAoUbHX0nPnA, li3vsK1XAPmeJYAUTYflHQ, MKc8yXi0glbPYt0Qb4PECw, fQPH6W9fksi27gkuUPnFaA, amrCMrDsoRetYFg2kwwdFA, 84dVQ6n6r2ezNaTuc7RkKA, yW9QjWY0olv5-uRKv3t_Kw, 5XJDj7c3eoidfQ3jW18Zgw, txSc6a6pIDctvwyBeu7Aqg, HFbbDCyyqP9xPkUlcxeIdg, hTUv5oh2do6Z3OppPuuiJA, gSqonG9J4fNM-fl_fE71AA, pd9mgTFpBTg5F9x-MsczNg, j3VE22V2GcHiH8UZxfFLfw, NYXlMW-T-3V4Jqr4r-i0Wg, btxgAZedxX8IWhMifA7Xkg, -Hp5mPLiRJNFnyeX5Ygzag, P6-DwVg6-t2JuQwIUEk0iQ, OI2TvxYvZrAodBG_RF53Xw, bHxf_VPKmZur1Bier-6A2A, Et_Sb39cVm81_Xe9HDM8ZQ, 5HwGl2UyYbaRq8aD6YC-fA, ZK228WMcCKLo5thcjD7rdw, iTf8wojwfm0NOi7dOiz3Nw, btYRxQYNJjpecflNHtFH0A, Kgo42FzpW_dXFgDKoewbtg, MNk_1Q_dqOY3xxHZKeO8VQ, AlwD504T9k0m5lkg3k5g6Q', funny=17, name='Rashmi', review_count=95, useful=84, user_id='l6BmjZMeQD3rDxWUbiAiow', yelping_since='2013-10-08 23:11:33')"
     ]
    }
   ],
   "source": [
    "#Se muestra contenido del primer elemento en json\n",
    "df.first()"
   ]
  },
  {
   "cell_type": "code",
   "execution_count": 334,
   "metadata": {},
   "outputs": [
    {
     "data": {
      "application/vnd.jupyter.widget-view+json": {
       "model_id": "",
       "version_major": 2,
       "version_minor": 0
      },
      "text/plain": [
       "FloatProgress(value=0.0, bar_style='info', description='Progress:', layout=Layout(height='25px', width='50%'),…"
      ]
     },
     "metadata": {},
     "output_type": "display_data"
    }
   ],
   "source": [
    "#Se identifica a usuarios molestosos con promedio de evaluaciones es menor o igual a 2, tiene en promedio menos de 100 reviews y tiene cero fans\n",
    "df = df.withColumn('dummy', when((df['average_stars'] <= 2)\\\n",
    "                                         & (df['review_count'] < 100)\\\n",
    "                                         & (df['fans'] == 0), 1).otherwise(0))"
   ]
  },
  {
   "cell_type": "code",
   "execution_count": 335,
   "metadata": {},
   "outputs": [
    {
     "data": {
      "application/vnd.jupyter.widget-view+json": {
       "model_id": "",
       "version_major": 2,
       "version_minor": 0
      },
      "text/plain": [
       "FloatProgress(value=0.0, bar_style='info', description='Progress:', layout=Layout(height='25px', width='50%'),…"
      ]
     },
     "metadata": {},
     "output_type": "display_data"
    },
    {
     "name": "stdout",
     "output_type": "stream",
     "text": [
      "+-----+\n",
      "|dummy|\n",
      "+-----+\n",
      "|    0|\n",
      "|    0|\n",
      "|    0|\n",
      "|    0|\n",
      "|    0|\n",
      "|    0|\n",
      "|    0|\n",
      "|    0|\n",
      "|    0|\n",
      "|    0|\n",
      "|    0|\n",
      "|    0|\n",
      "|    0|\n",
      "|    0|\n",
      "|    0|\n",
      "|    0|\n",
      "|    0|\n",
      "|    0|\n",
      "|    0|\n",
      "|    0|\n",
      "+-----+\n",
      "only showing top 20 rows"
     ]
    }
   ],
   "source": [
    "#Se muestran columna generada\n",
    "df.select('dummy').show()"
   ]
  },
  {
   "cell_type": "code",
   "execution_count": 109,
   "metadata": {},
   "outputs": [
    {
     "data": {
      "application/vnd.jupyter.widget-view+json": {
       "model_id": "",
       "version_major": 2,
       "version_minor": 0
      },
      "text/plain": [
       "FloatProgress(value=0.0, bar_style='info', description='Progress:', layout=Layout(height='25px', width='50%'),…"
      ]
     },
     "metadata": {},
     "output_type": "display_data"
    }
   ],
   "source": [
    "#Se eliminan columnas average_stars, review_count y fans\n",
    "drop_list = ['average_stars', 'review_count', 'fans' ]\n",
    "df = df.select([column for column in df.columns if column not in drop_list])"
   ]
  },
  {
   "cell_type": "code",
   "execution_count": 110,
   "metadata": {},
   "outputs": [
    {
     "data": {
      "application/vnd.jupyter.widget-view+json": {
       "model_id": "",
       "version_major": 2,
       "version_minor": 0
      },
      "text/plain": [
       "FloatProgress(value=0.0, bar_style='info', description='Progress:', layout=Layout(height='25px', width='50%'),…"
      ]
     },
     "metadata": {},
     "output_type": "display_data"
    },
    {
     "name": "stdout",
     "output_type": "stream",
     "text": [
      "root\n",
      " |-- compliment_cool: long (nullable = true)\n",
      " |-- compliment_cute: long (nullable = true)\n",
      " |-- compliment_funny: long (nullable = true)\n",
      " |-- compliment_hot: long (nullable = true)\n",
      " |-- compliment_list: long (nullable = true)\n",
      " |-- compliment_more: long (nullable = true)\n",
      " |-- compliment_note: long (nullable = true)\n",
      " |-- compliment_photos: long (nullable = true)\n",
      " |-- compliment_plain: long (nullable = true)\n",
      " |-- compliment_profile: long (nullable = true)\n",
      " |-- compliment_writer: long (nullable = true)\n",
      " |-- cool: long (nullable = true)\n",
      " |-- elite: string (nullable = true)\n",
      " |-- friends: string (nullable = true)\n",
      " |-- funny: long (nullable = true)\n",
      " |-- name: string (nullable = true)\n",
      " |-- useful: long (nullable = true)\n",
      " |-- user_id: string (nullable = true)\n",
      " |-- yelping_since: string (nullable = true)\n",
      " |-- dummy: integer (nullable = false)"
     ]
    }
   ],
   "source": [
    "#Se revisan cambios\n",
    "df.printSchema()"
   ]
  },
  {
   "cell_type": "code",
   "execution_count": 111,
   "metadata": {},
   "outputs": [
    {
     "data": {
      "application/vnd.jupyter.widget-view+json": {
       "model_id": "",
       "version_major": 2,
       "version_minor": 0
      },
      "text/plain": [
       "FloatProgress(value=0.0, bar_style='info', description='Progress:', layout=Layout(height='25px', width='50%'),…"
      ]
     },
     "metadata": {},
     "output_type": "display_data"
    },
    {
     "name": "stdout",
     "output_type": "stream",
     "text": [
      "+--------------------+\n",
      "|             friends|\n",
      "+--------------------+\n",
      "|c78V-rj8NQcQjOI8K...|\n",
      "|kEBTgDvFX754S68Fl...|\n",
      "|4N-HU_T32hLENLnts...|\n",
      "|RZ6wS38wnlXyj-OOd...|\n",
      "|mbwrZ-RS76V1HoJ0b...|\n",
      "|AJxDPGVTzefy3vSHW...|\n",
      "|RJQTcJVlBsJ3_Yo0J...|\n",
      "|d1z7Xc9RG5TVBkdUP...|\n",
      "|ctr_BlCf3Ogny-vLs...|\n",
      "|N-xeG3U6rUkjVtQ0o...|\n",
      "|CfGCj80EdA-xS-mTW...|\n",
      "|tYyOnNs7tBfqAT9IC...|\n",
      "|Dg8_xYNvjVC6KGNRc...|\n",
      "|_5p_nO7OczVP7czj_...|\n",
      "|mFwRTTDW0Yr-rFkTF...|\n",
      "|xVv_pVxAcOfY_xBjB...|\n",
      "|Xqo1ru1F7srvbUJaC...|\n",
      "|9ljCrn-qgfAMRS5wL...|\n",
      "|zH2whhmSEhwKUqPjg...|\n",
      "|a4kpoV3nrxRPUHR6z...|\n",
      "+--------------------+\n",
      "only showing top 20 rows"
     ]
    }
   ],
   "source": [
    "#Se revisa columna friends\n",
    "df.select('friends').show()"
   ]
  },
  {
   "cell_type": "markdown",
   "metadata": {},
   "source": [
    "Se identifica como un string con los user_id de todos los usuarios de acuerdo a lo mencionado en la descripcion de la prueba"
   ]
  },
  {
   "cell_type": "code",
   "execution_count": 112,
   "metadata": {},
   "outputs": [
    {
     "data": {
      "application/vnd.jupyter.widget-view+json": {
       "model_id": "",
       "version_major": 2,
       "version_minor": 0
      },
      "text/plain": [
       "FloatProgress(value=0.0, bar_style='info', description='Progress:', layout=Layout(height='25px', width='50%'),…"
      ]
     },
     "metadata": {},
     "output_type": "display_data"
    }
   ],
   "source": [
    "#Se importan librerias para realizar separación del string y conteo de los usuarios\n",
    "from pyspark.sql.functions import split, col, count\n",
    "import pyspark.sql.functions as f"
   ]
  },
  {
   "cell_type": "code",
   "execution_count": 113,
   "metadata": {},
   "outputs": [
    {
     "data": {
      "application/vnd.jupyter.widget-view+json": {
       "model_id": "",
       "version_major": 2,
       "version_minor": 0
      },
      "text/plain": [
       "FloatProgress(value=0.0, bar_style='info', description='Progress:', layout=Layout(height='25px', width='50%'),…"
      ]
     },
     "metadata": {},
     "output_type": "display_data"
    }
   ],
   "source": [
    "#Se aplica separacion y conteo de la columna friend en columna friend_count\n",
    "df = df.withColumn('friend_count', f.size(f.split(f.col('friends'), ',')))"
   ]
  },
  {
   "cell_type": "code",
   "execution_count": 114,
   "metadata": {},
   "outputs": [
    {
     "data": {
      "application/vnd.jupyter.widget-view+json": {
       "model_id": "",
       "version_major": 2,
       "version_minor": 0
      },
      "text/plain": [
       "FloatProgress(value=0.0, bar_style='info', description='Progress:', layout=Layout(height='25px', width='50%'),…"
      ]
     },
     "metadata": {},
     "output_type": "display_data"
    },
    {
     "name": "stdout",
     "output_type": "stream",
     "text": [
      "+------------+\n",
      "|friend_count|\n",
      "+------------+\n",
      "|          99|\n",
      "|        1152|\n",
      "|          15|\n",
      "|         525|\n",
      "|         231|\n",
      "|        5450|\n",
      "|        4326|\n",
      "|        1193|\n",
      "|         382|\n",
      "|         898|\n",
      "|         194|\n",
      "|          83|\n",
      "|         582|\n",
      "|          25|\n",
      "|         248|\n",
      "|         367|\n",
      "|         286|\n",
      "|         258|\n",
      "|        3451|\n",
      "|          46|\n",
      "+------------+\n",
      "only showing top 20 rows"
     ]
    }
   ],
   "source": [
    "#Se revisa los cambios\n",
    "df.select('friend_count').show()"
   ]
  },
  {
   "cell_type": "code",
   "execution_count": 115,
   "metadata": {},
   "outputs": [
    {
     "data": {
      "application/vnd.jupyter.widget-view+json": {
       "model_id": "",
       "version_major": 2,
       "version_minor": 0
      },
      "text/plain": [
       "FloatProgress(value=0.0, bar_style='info', description='Progress:', layout=Layout(height='25px', width='50%'),…"
      ]
     },
     "metadata": {},
     "output_type": "display_data"
    },
    {
     "name": "stdout",
     "output_type": "stream",
     "text": [
      "+--------------------+\n",
      "|               elite|\n",
      "+--------------------+\n",
      "|      2015,2016,2017|\n",
      "|                    |\n",
      "|                    |\n",
      "|                    |\n",
      "| 2015,2016,2017,2018|\n",
      "| 2015,2016,2017,2018|\n",
      "|2006,2007,2008,20...|\n",
      "|                    |\n",
      "|2006,2007,2008,20...|\n",
      "|                    |\n",
      "|           2017,2018|\n",
      "|                    |\n",
      "|                    |\n",
      "|                    |\n",
      "|                    |\n",
      "|                    |\n",
      "|2011,2012,2013,20...|\n",
      "|                    |\n",
      "|2014,2015,2016,20...|\n",
      "|                    |\n",
      "+--------------------+\n",
      "only showing top 20 rows"
     ]
    }
   ],
   "source": [
    "#Se revisa columna elite\n",
    "df.select('elite').show()"
   ]
  },
  {
   "cell_type": "markdown",
   "metadata": {},
   "source": [
    "Se identifica algo similar a la columna friend"
   ]
  },
  {
   "cell_type": "code",
   "execution_count": 116,
   "metadata": {},
   "outputs": [
    {
     "data": {
      "application/vnd.jupyter.widget-view+json": {
       "model_id": "",
       "version_major": 2,
       "version_minor": 0
      },
      "text/plain": [
       "FloatProgress(value=0.0, bar_style='info', description='Progress:', layout=Layout(height='25px', width='50%'),…"
      ]
     },
     "metadata": {},
     "output_type": "display_data"
    }
   ],
   "source": [
    "#Se aplica separacion y conteo de la columna elite en columna elite_count\n",
    "df = df.withColumn('elite_count', f.size(f.split(f.col('elite'), ',')))"
   ]
  },
  {
   "cell_type": "code",
   "execution_count": 117,
   "metadata": {},
   "outputs": [
    {
     "data": {
      "application/vnd.jupyter.widget-view+json": {
       "model_id": "",
       "version_major": 2,
       "version_minor": 0
      },
      "text/plain": [
       "FloatProgress(value=0.0, bar_style='info', description='Progress:', layout=Layout(height='25px', width='50%'),…"
      ]
     },
     "metadata": {},
     "output_type": "display_data"
    },
    {
     "name": "stdout",
     "output_type": "stream",
     "text": [
      "+-----------+\n",
      "|elite_count|\n",
      "+-----------+\n",
      "|          3|\n",
      "|          1|\n",
      "|          1|\n",
      "|          1|\n",
      "|          4|\n",
      "|          4|\n",
      "|          8|\n",
      "|          1|\n",
      "|          7|\n",
      "|          1|\n",
      "|          2|\n",
      "|          1|\n",
      "|          1|\n",
      "|          1|\n",
      "|          1|\n",
      "|          1|\n",
      "|          6|\n",
      "|          1|\n",
      "|          5|\n",
      "|          1|\n",
      "+-----------+\n",
      "only showing top 20 rows"
     ]
    }
   ],
   "source": [
    "#Se revisan los cambios\n",
    "df.select('elite_count').show()"
   ]
  },
  {
   "cell_type": "code",
   "execution_count": 118,
   "metadata": {},
   "outputs": [
    {
     "data": {
      "application/vnd.jupyter.widget-view+json": {
       "model_id": "",
       "version_major": 2,
       "version_minor": 0
      },
      "text/plain": [
       "FloatProgress(value=0.0, bar_style='info', description='Progress:', layout=Layout(height='25px', width='50%'),…"
      ]
     },
     "metadata": {},
     "output_type": "display_data"
    },
    {
     "name": "stdout",
     "output_type": "stream",
     "text": [
      "root\n",
      " |-- compliment_cool: long (nullable = true)\n",
      " |-- compliment_cute: long (nullable = true)\n",
      " |-- compliment_funny: long (nullable = true)\n",
      " |-- compliment_hot: long (nullable = true)\n",
      " |-- compliment_list: long (nullable = true)\n",
      " |-- compliment_more: long (nullable = true)\n",
      " |-- compliment_note: long (nullable = true)\n",
      " |-- compliment_photos: long (nullable = true)\n",
      " |-- compliment_plain: long (nullable = true)\n",
      " |-- compliment_profile: long (nullable = true)\n",
      " |-- compliment_writer: long (nullable = true)\n",
      " |-- cool: long (nullable = true)\n",
      " |-- elite: string (nullable = true)\n",
      " |-- friends: string (nullable = true)\n",
      " |-- funny: long (nullable = true)\n",
      " |-- name: string (nullable = true)\n",
      " |-- useful: long (nullable = true)\n",
      " |-- user_id: string (nullable = true)\n",
      " |-- yelping_since: string (nullable = true)\n",
      " |-- dummy: integer (nullable = false)\n",
      " |-- friend_count: integer (nullable = false)\n",
      " |-- elite_count: integer (nullable = false)"
     ]
    }
   ],
   "source": [
    "#Se muestra schema con cambios\n",
    "df.printSchema()"
   ]
  },
  {
   "cell_type": "code",
   "execution_count": 119,
   "metadata": {},
   "outputs": [
    {
     "data": {
      "application/vnd.jupyter.widget-view+json": {
       "model_id": "",
       "version_major": 2,
       "version_minor": 0
      },
      "text/plain": [
       "FloatProgress(value=0.0, bar_style='info', description='Progress:', layout=Layout(height='25px', width='50%'),…"
      ]
     },
     "metadata": {},
     "output_type": "display_data"
    }
   ],
   "source": [
    "#Se eliminan columnas mencionadas en ejercicio\n",
    "drop_list = ['friends', 'yelping_since', 'name', 'elite', 'user_id' ]\n",
    "df = df.select([column for column in df.columns if column not in drop_list])"
   ]
  },
  {
   "cell_type": "code",
   "execution_count": 120,
   "metadata": {},
   "outputs": [
    {
     "data": {
      "application/vnd.jupyter.widget-view+json": {
       "model_id": "",
       "version_major": 2,
       "version_minor": 0
      },
      "text/plain": [
       "FloatProgress(value=0.0, bar_style='info', description='Progress:', layout=Layout(height='25px', width='50%'),…"
      ]
     },
     "metadata": {},
     "output_type": "display_data"
    },
    {
     "name": "stdout",
     "output_type": "stream",
     "text": [
      "root\n",
      " |-- compliment_cool: long (nullable = true)\n",
      " |-- compliment_cute: long (nullable = true)\n",
      " |-- compliment_funny: long (nullable = true)\n",
      " |-- compliment_hot: long (nullable = true)\n",
      " |-- compliment_list: long (nullable = true)\n",
      " |-- compliment_more: long (nullable = true)\n",
      " |-- compliment_note: long (nullable = true)\n",
      " |-- compliment_photos: long (nullable = true)\n",
      " |-- compliment_plain: long (nullable = true)\n",
      " |-- compliment_profile: long (nullable = true)\n",
      " |-- compliment_writer: long (nullable = true)\n",
      " |-- cool: long (nullable = true)\n",
      " |-- funny: long (nullable = true)\n",
      " |-- useful: long (nullable = true)\n",
      " |-- dummy: integer (nullable = false)\n",
      " |-- friend_count: integer (nullable = false)\n",
      " |-- elite_count: integer (nullable = false)"
     ]
    }
   ],
   "source": [
    "#Se revisan cambios\n",
    "df.printSchema()"
   ]
  },
  {
   "cell_type": "code",
   "execution_count": 121,
   "metadata": {},
   "outputs": [
    {
     "data": {
      "application/vnd.jupyter.widget-view+json": {
       "model_id": "",
       "version_major": 2,
       "version_minor": 0
      },
      "text/plain": [
       "FloatProgress(value=0.0, bar_style='info', description='Progress:', layout=Layout(height='25px', width='50%'),…"
      ]
     },
     "metadata": {},
     "output_type": "display_data"
    },
    {
     "name": "stdout",
     "output_type": "stream",
     "text": [
      "Row(compliment_cool=1, compliment_cute=0, compliment_funny=1, compliment_hot=2, compliment_list=0, compliment_more=0, compliment_note=1, compliment_photos=0, compliment_plain=1, compliment_profile=0, compliment_writer=2, cool=25, funny=17, useful=84, dummy=0, friend_count=99, elite_count=3)"
     ]
    }
   ],
   "source": [
    "#Se muestra primer elemento del dataframe para comparacion con el mostrado en la prueba\n",
    "df.first()"
   ]
  },
  {
   "cell_type": "markdown",
   "metadata": {},
   "source": [
    "Requerimientos Todos los objetivos se deben resolver utilizando pyspark. ● Genere la medición de usuarios molestos en base a los criterios expuestos. (0.8 Puntos). ● Divida la muestra en conjuntos de entrenamiento (preservando un 70% de los datos) y validación (preservando un 30% de los datos). (0.4 Puntos) ● Entrene tres modelos (LogisticRegression, GBTClassifier y DecisionTreeClassifier) sin modificar hiperparámetros que en base a los atributos disponibles en el archivo user.json, clasifique los usuarios molestosos. (2.2 Puntos) ● Reporte cuál es el mejor modelo en base a la métrica AUC. (0.4 Puntos) ● Identifique cuales son los principales atributos asociados a un usuario molestoso y repórtelos. (0.8 Puntos)"
   ]
  },
  {
   "cell_type": "code",
   "execution_count": 122,
   "metadata": {},
   "outputs": [
    {
     "data": {
      "application/vnd.jupyter.widget-view+json": {
       "model_id": "",
       "version_major": 2,
       "version_minor": 0
      },
      "text/plain": [
       "FloatProgress(value=0.0, bar_style='info', description='Progress:', layout=Layout(height='25px', width='50%'),…"
      ]
     },
     "metadata": {},
     "output_type": "display_data"
    },
    {
     "name": "stdout",
     "output_type": "stream",
     "text": [
      "+-----+-------+\n",
      "|dummy|  count|\n",
      "+-----+-------+\n",
      "|    1| 183676|\n",
      "|    0|1453462|\n",
      "+-----+-------+"
     ]
    }
   ],
   "source": [
    "#Se indica cantidad de usuarios molestos \n",
    "df.groupBy('dummy').count().show()"
   ]
  },
  {
   "cell_type": "markdown",
   "metadata": {},
   "source": [
    "Se indica medicion de usuarios molestos en consulta"
   ]
  },
  {
   "cell_type": "code",
   "execution_count": 123,
   "metadata": {},
   "outputs": [
    {
     "data": {
      "application/vnd.jupyter.widget-view+json": {
       "model_id": "",
       "version_major": 2,
       "version_minor": 0
      },
      "text/plain": [
       "FloatProgress(value=0.0, bar_style='info', description='Progress:', layout=Layout(height='25px', width='50%'),…"
      ]
     },
     "metadata": {},
     "output_type": "display_data"
    }
   ],
   "source": [
    "#Se renombra columna dummy por label y se guarda en un nuevo dataframe\n",
    "train_df = df.withColumnRenamed('dummy','label')"
   ]
  },
  {
   "cell_type": "code",
   "execution_count": 124,
   "metadata": {},
   "outputs": [
    {
     "data": {
      "application/vnd.jupyter.widget-view+json": {
       "model_id": "",
       "version_major": 2,
       "version_minor": 0
      },
      "text/plain": [
       "FloatProgress(value=0.0, bar_style='info', description='Progress:', layout=Layout(height='25px', width='50%'),…"
      ]
     },
     "metadata": {},
     "output_type": "display_data"
    },
    {
     "name": "stdout",
     "output_type": "stream",
     "text": [
      "['compliment_cool', 'compliment_cute', 'compliment_funny', 'compliment_hot', 'compliment_list', 'compliment_more', 'compliment_note', 'compliment_photos', 'compliment_plain', 'compliment_profile', 'compliment_writer', 'cool', 'funny', 'useful', 'friend_count', 'elite_count']"
     ]
    }
   ],
   "source": [
    "#Se remueve label del conjunto de entrenamiento\n",
    "feats = train_df.columns\n",
    "feats.remove('label')\n",
    "print(feats)"
   ]
  },
  {
   "cell_type": "code",
   "execution_count": 125,
   "metadata": {},
   "outputs": [
    {
     "data": {
      "application/vnd.jupyter.widget-view+json": {
       "model_id": "",
       "version_major": 2,
       "version_minor": 0
      },
      "text/plain": [
       "FloatProgress(value=0.0, bar_style='info', description='Progress:', layout=Layout(height='25px', width='50%'),…"
      ]
     },
     "metadata": {},
     "output_type": "display_data"
    }
   ],
   "source": [
    "#Se genera RDD indicando rango de atributos y transformamos dataframe, seleccionando elementos de interes\n",
    "assemble_feats = VectorAssembler(inputCols = feats, outputCol = 'assembled_features')\n",
    "assemble_feats = assemble_feats.transform(train_df)\n",
    "assemble_feats = assemble_feats.select('label', 'assembled_features')"
   ]
  },
  {
   "cell_type": "code",
   "execution_count": 126,
   "metadata": {},
   "outputs": [
    {
     "data": {
      "application/vnd.jupyter.widget-view+json": {
       "model_id": "",
       "version_major": 2,
       "version_minor": 0
      },
      "text/plain": [
       "FloatProgress(value=0.0, bar_style='info', description='Progress:', layout=Layout(height='25px', width='50%'),…"
      ]
     },
     "metadata": {},
     "output_type": "display_data"
    },
    {
     "name": "stdout",
     "output_type": "stream",
     "text": [
      "[Row(label=0, assembled_features=DenseVector([1.0, 0.0, 1.0, 2.0, 0.0, 0.0, 1.0, 0.0, 1.0, 0.0, 2.0, 25.0, 17.0, 84.0, 99.0, 3.0]))]"
     ]
    }
   ],
   "source": [
    "#Se muestra primer elemento del vectorEl\n",
    "assemble_feats.take(1)"
   ]
  },
  {
   "cell_type": "code",
   "execution_count": 127,
   "metadata": {},
   "outputs": [
    {
     "data": {
      "application/vnd.jupyter.widget-view+json": {
       "model_id": "",
       "version_major": 2,
       "version_minor": 0
      },
      "text/plain": [
       "FloatProgress(value=0.0, bar_style='info', description='Progress:', layout=Layout(height='25px', width='50%'),…"
      ]
     },
     "metadata": {},
     "output_type": "display_data"
    }
   ],
   "source": [
    "#Se genera separacion train y test \n",
    "train, test = assemble_feats.randomSplit([0.7, 0.3],seed = 4982 )"
   ]
  },
  {
   "cell_type": "code",
   "execution_count": 128,
   "metadata": {},
   "outputs": [
    {
     "data": {
      "application/vnd.jupyter.widget-view+json": {
       "model_id": "",
       "version_major": 2,
       "version_minor": 0
      },
      "text/plain": [
       "FloatProgress(value=0.0, bar_style='info', description='Progress:', layout=Layout(height='25px', width='50%'),…"
      ]
     },
     "metadata": {},
     "output_type": "display_data"
    }
   ],
   "source": [
    "#Se importan librerias de clasificacion\n",
    "from pyspark.ml.classification import LogisticRegression\n",
    "from pyspark.ml.classification import GBTClassifier\n",
    "from pyspark.ml.classification import DecisionTreeClassifier\n",
    "from pyspark.ml.evaluation import BinaryClassificationEvaluator\n",
    "evaluator = BinaryClassificationEvaluator()"
   ]
  },
  {
   "cell_type": "code",
   "execution_count": 129,
   "metadata": {},
   "outputs": [
    {
     "data": {
      "application/vnd.jupyter.widget-view+json": {
       "model_id": "",
       "version_major": 2,
       "version_minor": 0
      },
      "text/plain": [
       "FloatProgress(value=0.0, bar_style='info', description='Progress:', layout=Layout(height='25px', width='50%'),…"
      ]
     },
     "metadata": {},
     "output_type": "display_data"
    }
   ],
   "source": [
    "# Se genera objeto indicando de manera explicita atributos, vector objetivo y predicciones\n",
    "logistic_model = LogisticRegression(featuresCol='assembled_features',labelCol='label',\n",
    "                    predictionCol='annoying_pred')"
   ]
  },
  {
   "cell_type": "code",
   "execution_count": 130,
   "metadata": {},
   "outputs": [
    {
     "data": {
      "application/vnd.jupyter.widget-view+json": {
       "model_id": "",
       "version_major": 2,
       "version_minor": 0
      },
      "text/plain": [
       "FloatProgress(value=0.0, bar_style='info', description='Progress:', layout=Layout(height='25px', width='50%'),…"
      ]
     },
     "metadata": {},
     "output_type": "display_data"
    }
   ],
   "source": [
    "#Se entrena modelo de regresion logistica\n",
    "logistic_model = logistic_model.fit(train)"
   ]
  },
  {
   "cell_type": "code",
   "execution_count": 131,
   "metadata": {},
   "outputs": [
    {
     "data": {
      "application/vnd.jupyter.widget-view+json": {
       "model_id": "",
       "version_major": 2,
       "version_minor": 0
      },
      "text/plain": [
       "FloatProgress(value=0.0, bar_style='info', description='Progress:', layout=Layout(height='25px', width='50%'),…"
      ]
     },
     "metadata": {},
     "output_type": "display_data"
    },
    {
     "name": "stdout",
     "output_type": "stream",
     "text": [
      "+-----+--------------------+--------------------+--------------------+-------------+\n",
      "|label|  assembled_features|       rawPrediction|         probability|annoying_pred|\n",
      "+-----+--------------------+--------------------+--------------------+-------------+\n",
      "|    0|(16,[0,1,2,3,6,11...|[10.9736645074473...|[0.99998285290274...|          0.0|\n",
      "|    0|(16,[0,1,2,5,11,1...|[10.2452000648680...|[0.99996447363964...|          0.0|\n",
      "|    0|(16,[0,1,2,6,11,1...|[13.6501356778461...|[0.99999882016605...|          0.0|\n",
      "|    0|(16,[0,1,2,7,11,1...|[14.2161432830640...|[0.99999933010439...|          0.0|\n",
      "|    0|(16,[0,1,2,8,11,1...|[11.1106013003195...|[0.99998504726382...|          0.0|\n",
      "+-----+--------------------+--------------------+--------------------+-------------+\n",
      "only showing top 5 rows"
     ]
    }
   ],
   "source": [
    "#Se visualiza comportamiento del modelo en cuanto a su probabilidad cruda, la normalizada y la mas probable\n",
    "logistic_model.transform(test).show(5)"
   ]
  },
  {
   "cell_type": "code",
   "execution_count": 132,
   "metadata": {},
   "outputs": [
    {
     "data": {
      "application/vnd.jupyter.widget-view+json": {
       "model_id": "",
       "version_major": 2,
       "version_minor": 0
      },
      "text/plain": [
       "FloatProgress(value=0.0, bar_style='info', description='Progress:', layout=Layout(height='25px', width='50%'),…"
      ]
     },
     "metadata": {},
     "output_type": "display_data"
    },
    {
     "name": "stdout",
     "output_type": "stream",
     "text": [
      "Area Under ROC: 0.737494065984864"
     ]
    }
   ],
   "source": [
    "#Se indica valor puntaje ROC\n",
    "print(f\"Area Under ROC: {logistic_model.evaluate(test).areaUnderROC}\")"
   ]
  },
  {
   "cell_type": "code",
   "execution_count": 133,
   "metadata": {},
   "outputs": [
    {
     "data": {
      "application/vnd.jupyter.widget-view+json": {
       "model_id": "",
       "version_major": 2,
       "version_minor": 0
      },
      "text/plain": [
       "FloatProgress(value=0.0, bar_style='info', description='Progress:', layout=Layout(height='25px', width='50%'),…"
      ]
     },
     "metadata": {},
     "output_type": "display_data"
    }
   ],
   "source": [
    "# Se genera objeto indicando de manera explicita atributos, vector objetivo y predicciones\n",
    "gbt_model = GBTClassifier(featuresCol='assembled_features',labelCol='label',\n",
    "                    predictionCol='annoying_pred')"
   ]
  },
  {
   "cell_type": "code",
   "execution_count": 134,
   "metadata": {},
   "outputs": [
    {
     "data": {
      "application/vnd.jupyter.widget-view+json": {
       "model_id": "",
       "version_major": 2,
       "version_minor": 0
      },
      "text/plain": [
       "FloatProgress(value=0.0, bar_style='info', description='Progress:', layout=Layout(height='25px', width='50%'),…"
      ]
     },
     "metadata": {},
     "output_type": "display_data"
    }
   ],
   "source": [
    "#Se entrena modelo gradient boosting\n",
    "gbt_model = gbt_model.fit(train)"
   ]
  },
  {
   "cell_type": "code",
   "execution_count": 135,
   "metadata": {},
   "outputs": [
    {
     "data": {
      "application/vnd.jupyter.widget-view+json": {
       "model_id": "",
       "version_major": 2,
       "version_minor": 0
      },
      "text/plain": [
       "FloatProgress(value=0.0, bar_style='info', description='Progress:', layout=Layout(height='25px', width='50%'),…"
      ]
     },
     "metadata": {},
     "output_type": "display_data"
    },
    {
     "name": "stdout",
     "output_type": "stream",
     "text": [
      "+-----+--------------------+--------------------+--------------------+-------------+\n",
      "|label|  assembled_features|       rawPrediction|         probability|annoying_pred|\n",
      "+-----+--------------------+--------------------+--------------------+-------------+\n",
      "|    0|(16,[0,1,2,3,6,11...|[1.53321390234645...|[0.95548648655102...|          0.0|\n",
      "|    0|(16,[0,1,2,5,11,1...|[1.53454215608874...|[0.95559933667287...|          0.0|\n",
      "|    0|(16,[0,1,2,6,11,1...|[1.54087814306956...|[0.95613390555061...|          0.0|\n",
      "|    0|(16,[0,1,2,7,11,1...|[1.54087814306956...|[0.95613390555061...|          0.0|\n",
      "|    0|(16,[0,1,2,8,11,1...|[1.51253829786626...|[0.95369423285479...|          0.0|\n",
      "+-----+--------------------+--------------------+--------------------+-------------+\n",
      "only showing top 5 rows"
     ]
    }
   ],
   "source": [
    "#Se visualiza comportamiento del modelo en cuanto a su probabilidad cruda, la normalizada y la mas probable\n",
    "gbt_model.transform(test).show(5)"
   ]
  },
  {
   "cell_type": "code",
   "execution_count": 136,
   "metadata": {},
   "outputs": [
    {
     "data": {
      "application/vnd.jupyter.widget-view+json": {
       "model_id": "",
       "version_major": 2,
       "version_minor": 0
      },
      "text/plain": [
       "FloatProgress(value=0.0, bar_style='info', description='Progress:', layout=Layout(height='25px', width='50%'),…"
      ]
     },
     "metadata": {},
     "output_type": "display_data"
    }
   ],
   "source": [
    "#Se guarda comportamiento en objeto gbt\n",
    "gbt = gbt_model.transform(test)"
   ]
  },
  {
   "cell_type": "code",
   "execution_count": 137,
   "metadata": {},
   "outputs": [
    {
     "data": {
      "application/vnd.jupyter.widget-view+json": {
       "model_id": "",
       "version_major": 2,
       "version_minor": 0
      },
      "text/plain": [
       "FloatProgress(value=0.0, bar_style='info', description='Progress:', layout=Layout(height='25px', width='50%'),…"
      ]
     },
     "metadata": {},
     "output_type": "display_data"
    },
    {
     "name": "stdout",
     "output_type": "stream",
     "text": [
      "Area Under ROC: 0.7483202148423891"
     ]
    }
   ],
   "source": [
    "#Se indica puntaje ROC\n",
    "print(f\"Area Under ROC: {evaluator.evaluate(gbt)}\")"
   ]
  },
  {
   "cell_type": "code",
   "execution_count": 138,
   "metadata": {},
   "outputs": [
    {
     "data": {
      "application/vnd.jupyter.widget-view+json": {
       "model_id": "",
       "version_major": 2,
       "version_minor": 0
      },
      "text/plain": [
       "FloatProgress(value=0.0, bar_style='info', description='Progress:', layout=Layout(height='25px', width='50%'),…"
      ]
     },
     "metadata": {},
     "output_type": "display_data"
    }
   ],
   "source": [
    "# Se genera objeto indicando de manera explicita atributos, vector objetivo y predicciones\n",
    "dct_model = DecisionTreeClassifier(featuresCol='assembled_features',labelCol='label',\n",
    "                    predictionCol='annoying_pred')"
   ]
  },
  {
   "cell_type": "code",
   "execution_count": 139,
   "metadata": {},
   "outputs": [
    {
     "data": {
      "application/vnd.jupyter.widget-view+json": {
       "model_id": "",
       "version_major": 2,
       "version_minor": 0
      },
      "text/plain": [
       "FloatProgress(value=0.0, bar_style='info', description='Progress:', layout=Layout(height='25px', width='50%'),…"
      ]
     },
     "metadata": {},
     "output_type": "display_data"
    }
   ],
   "source": [
    "#Se entrena modelo decision tree classifier\n",
    "dct_model = dct_model.fit(train)"
   ]
  },
  {
   "cell_type": "code",
   "execution_count": 140,
   "metadata": {},
   "outputs": [
    {
     "data": {
      "application/vnd.jupyter.widget-view+json": {
       "model_id": "",
       "version_major": 2,
       "version_minor": 0
      },
      "text/plain": [
       "FloatProgress(value=0.0, bar_style='info', description='Progress:', layout=Layout(height='25px', width='50%'),…"
      ]
     },
     "metadata": {},
     "output_type": "display_data"
    },
    {
     "name": "stdout",
     "output_type": "stream",
     "text": [
      "+-----+--------------------+--------------------+--------------------+-------------+\n",
      "|label|  assembled_features|       rawPrediction|         probability|annoying_pred|\n",
      "+-----+--------------------+--------------------+--------------------+-------------+\n",
      "|    0|(16,[0,1,2,3,6,11...|[1016844.0,129027.0]|[0.88739831970614...|          0.0|\n",
      "|    0|(16,[0,1,2,5,11,1...|[1016844.0,129027.0]|[0.88739831970614...|          0.0|\n",
      "|    0|(16,[0,1,2,6,11,1...|[1016844.0,129027.0]|[0.88739831970614...|          0.0|\n",
      "|    0|(16,[0,1,2,7,11,1...|[1016844.0,129027.0]|[0.88739831970614...|          0.0|\n",
      "|    0|(16,[0,1,2,8,11,1...|[1016844.0,129027.0]|[0.88739831970614...|          0.0|\n",
      "+-----+--------------------+--------------------+--------------------+-------------+\n",
      "only showing top 5 rows"
     ]
    }
   ],
   "source": [
    "#Se visualiza comportamiento del modelo en cuanto a su probabilidad cruda, la normalizada y la mas probable\n",
    "dct_model.transform(test).show(5)"
   ]
  },
  {
   "cell_type": "code",
   "execution_count": 141,
   "metadata": {},
   "outputs": [
    {
     "data": {
      "application/vnd.jupyter.widget-view+json": {
       "model_id": "",
       "version_major": 2,
       "version_minor": 0
      },
      "text/plain": [
       "FloatProgress(value=0.0, bar_style='info', description='Progress:', layout=Layout(height='25px', width='50%'),…"
      ]
     },
     "metadata": {},
     "output_type": "display_data"
    }
   ],
   "source": [
    "#Se guarda comportamiento en objeto dct\n",
    "dct = dct_model.transform(test)"
   ]
  },
  {
   "cell_type": "code",
   "execution_count": 142,
   "metadata": {},
   "outputs": [
    {
     "data": {
      "application/vnd.jupyter.widget-view+json": {
       "model_id": "",
       "version_major": 2,
       "version_minor": 0
      },
      "text/plain": [
       "FloatProgress(value=0.0, bar_style='info', description='Progress:', layout=Layout(height='25px', width='50%'),…"
      ]
     },
     "metadata": {},
     "output_type": "display_data"
    },
    {
     "name": "stdout",
     "output_type": "stream",
     "text": [
      "Area Under ROC: 0.5"
     ]
    }
   ],
   "source": [
    "#Se indica puntaje ROC\n",
    "print(f\"Area Under ROC: {evaluator.evaluate(dct)}\")"
   ]
  },
  {
   "cell_type": "markdown",
   "metadata": {},
   "source": [
    "El mejor modelo es Gradient Boosting Classifier"
   ]
  },
  {
   "cell_type": "code",
   "execution_count": 143,
   "metadata": {},
   "outputs": [
    {
     "data": {
      "application/vnd.jupyter.widget-view+json": {
       "model_id": "",
       "version_major": 2,
       "version_minor": 0
      },
      "text/plain": [
       "FloatProgress(value=0.0, bar_style='info', description='Progress:', layout=Layout(height='25px', width='50%'),…"
      ]
     },
     "metadata": {},
     "output_type": "display_data"
    },
    {
     "name": "stdout",
     "output_type": "stream",
     "text": [
      "SparseVector(16, {0: 0.0111, 1: 0.0011, 3: 0.008, 5: 0.0002, 6: 0.0001, 7: 0.0045, 8: 0.0064, 9: 0.0018, 10: 0.0021, 11: 0.8687, 12: 0.0416, 13: 0.014, 14: 0.0403})"
     ]
    }
   ],
   "source": [
    "#Se indica importancia de los atributos para gbt\n",
    "gbt_model.featureImportances"
   ]
  },
  {
   "cell_type": "code",
   "execution_count": 144,
   "metadata": {},
   "outputs": [
    {
     "data": {
      "application/vnd.jupyter.widget-view+json": {
       "model_id": "",
       "version_major": 2,
       "version_minor": 0
      },
      "text/plain": [
       "FloatProgress(value=0.0, bar_style='info', description='Progress:', layout=Layout(height='25px', width='50%'),…"
      ]
     },
     "metadata": {},
     "output_type": "display_data"
    },
    {
     "name": "stdout",
     "output_type": "stream",
     "text": [
      "[(0.8687327862337242, 'cool'), (0.04156570055572947, 'funny'), (0.0403120355947416, 'friend_count'), (0.013982980798536482, 'useful'), (0.011113685928693854, 'compliment_cool'), (0.008023341010039941, 'compliment_hot'), (0.006441703276079543, 'compliment_plain'), (0.004499575710379125, 'compliment_photos'), (0.002113169512751205, 'compliment_writer'), (0.0018062440514676147, 'compliment_profile'), (0.0010953507145389232, 'compliment_cute'), (0.00017452265202530208, 'compliment_more'), (0.00013890396129270303, 'compliment_note'), (0.0, 'elite_count'), (0.0, 'compliment_list'), (0.0, 'compliment_funny')]"
     ]
    }
   ],
   "source": [
    "#Se reportan los atributos por orden de importancia\n",
    "importances = list(zip(gbt_model.featureImportances, feats))\n",
    "importances.sort(reverse = True)\n",
    "importances"
   ]
  },
  {
   "cell_type": "markdown",
   "metadata": {},
   "source": [
    "Los atributos más importantes son cool, funny y friend_count"
   ]
  },
  {
   "cell_type": "markdown",
   "metadata": {},
   "source": [
    "Ejercicio 2: Identificando la probabilidad de cierre de un servicio (5.4\n",
    "Puntos)\n",
    "Utilizando el archivo business.json.\n",
    "Desde Yelp están interesados en predecir la probabilidad de cierre de un servicio en base a\n",
    "los reviews y características de un negocio. Así, la primera iteración del modelo es generar\n",
    "una identificación de qué factores están asociados al cierre.\n",
    "El equipo de desarrollo de Yelp le hace entrega de un archivo llamado\n",
    "recoding_business_schema.py que describe:\n",
    "● Atributos a recodificar.\n",
    "● Atributos a mantener.\n",
    "Este archivo sirve como guía y no implementa la recodificación en el\n",
    "pyspark.sql.dataframe.DataFrame, esto es tarea de usted.\n",
    "De manera adicional, cabe destacar que este archivo no incluye la recodificación del vector\n",
    "objetivo (is_open). Usted deberá recodificarla de manera tal de identificar como 1 aquellos\n",
    "servicios que cerraron y 0 el resto."
   ]
  },
  {
   "cell_type": "markdown",
   "metadata": {},
   "source": [
    "Requerimientos\n",
    "Todos los objetivos se deben resolver utilizando pyspark.\n",
    "● Implemente el esquema de recodificación. (0.8 Puntos)\n",
    "● Genere la recodificación del vector objetivo. (0.8 Puntos)\n",
    "● Divida la muestra en conjuntos de entrenamiento (Preservando un 70% de los datos)\n",
    "y validación (preservando un 30% de los datos). (0.4 Puntos)\n",
    "● Entrene tres modelos (LogisticRegression, GBTClassifier y\n",
    "DecisionTreeClassifier) sin modificar hiperparámetros que en base a los\n",
    "atributos recodificados del archivo business.json, clasifique aquellos servicios\n",
    "cerrados. (2.2 Puntos)\n",
    "● Reporte cuál es el mejor modelo en base a la métrica AUC. (0.4 Puntos)\n",
    "● Identifique cuales son los principales atributos asociados al cierre de un servicio.\n",
    "(0.8 Puntos)"
   ]
  },
  {
   "cell_type": "code",
   "execution_count": 261,
   "metadata": {},
   "outputs": [
    {
     "data": {
      "application/vnd.jupyter.widget-view+json": {
       "model_id": "",
       "version_major": 2,
       "version_minor": 0
      },
      "text/plain": [
       "FloatProgress(value=0.0, bar_style='info', description='Progress:', layout=Layout(height='25px', width='50%'),…"
      ]
     },
     "metadata": {},
     "output_type": "display_data"
    }
   ],
   "source": [
    "#Se carga json desde s3\n",
    "load_business_data = spark.read.json(\"s3://bigdata-desafio/yelp-data/business.json\")"
   ]
  },
  {
   "cell_type": "code",
   "execution_count": 262,
   "metadata": {},
   "outputs": [
    {
     "data": {
      "application/vnd.jupyter.widget-view+json": {
       "model_id": "",
       "version_major": 2,
       "version_minor": 0
      },
      "text/plain": [
       "FloatProgress(value=0.0, bar_style='info', description='Progress:', layout=Layout(height='25px', width='50%'),…"
      ]
     },
     "metadata": {},
     "output_type": "display_data"
    },
    {
     "name": "stdout",
     "output_type": "stream",
     "text": [
      "root\n",
      " |-- address: string (nullable = true)\n",
      " |-- attributes: struct (nullable = true)\n",
      " |    |-- AcceptsInsurance: string (nullable = true)\n",
      " |    |-- AgesAllowed: string (nullable = true)\n",
      " |    |-- Alcohol: string (nullable = true)\n",
      " |    |-- Ambience: string (nullable = true)\n",
      " |    |-- BYOB: string (nullable = true)\n",
      " |    |-- BYOBCorkage: string (nullable = true)\n",
      " |    |-- BestNights: string (nullable = true)\n",
      " |    |-- BikeParking: string (nullable = true)\n",
      " |    |-- BusinessAcceptsBitcoin: string (nullable = true)\n",
      " |    |-- BusinessAcceptsCreditCards: string (nullable = true)\n",
      " |    |-- BusinessParking: string (nullable = true)\n",
      " |    |-- ByAppointmentOnly: string (nullable = true)\n",
      " |    |-- Caters: string (nullable = true)\n",
      " |    |-- CoatCheck: string (nullable = true)\n",
      " |    |-- Corkage: string (nullable = true)\n",
      " |    |-- DietaryRestrictions: string (nullable = true)\n",
      " |    |-- DogsAllowed: string (nullable = true)\n",
      " |    |-- DriveThru: string (nullable = true)\n",
      " |    |-- GoodForDancing: string (nullable = true)\n",
      " |    |-- GoodForKids: string (nullable = true)\n",
      " |    |-- GoodForMeal: string (nullable = true)\n",
      " |    |-- HairSpecializesIn: string (nullable = true)\n",
      " |    |-- HappyHour: string (nullable = true)\n",
      " |    |-- HasTV: string (nullable = true)\n",
      " |    |-- Music: string (nullable = true)\n",
      " |    |-- NoiseLevel: string (nullable = true)\n",
      " |    |-- Open24Hours: string (nullable = true)\n",
      " |    |-- OutdoorSeating: string (nullable = true)\n",
      " |    |-- RestaurantsAttire: string (nullable = true)\n",
      " |    |-- RestaurantsCounterService: string (nullable = true)\n",
      " |    |-- RestaurantsDelivery: string (nullable = true)\n",
      " |    |-- RestaurantsGoodForGroups: string (nullable = true)\n",
      " |    |-- RestaurantsPriceRange2: string (nullable = true)\n",
      " |    |-- RestaurantsReservations: string (nullable = true)\n",
      " |    |-- RestaurantsTableService: string (nullable = true)\n",
      " |    |-- RestaurantsTakeOut: string (nullable = true)\n",
      " |    |-- Smoking: string (nullable = true)\n",
      " |    |-- WheelchairAccessible: string (nullable = true)\n",
      " |    |-- WiFi: string (nullable = true)\n",
      " |-- business_id: string (nullable = true)\n",
      " |-- categories: string (nullable = true)\n",
      " |-- city: string (nullable = true)\n",
      " |-- hours: struct (nullable = true)\n",
      " |    |-- Friday: string (nullable = true)\n",
      " |    |-- Monday: string (nullable = true)\n",
      " |    |-- Saturday: string (nullable = true)\n",
      " |    |-- Sunday: string (nullable = true)\n",
      " |    |-- Thursday: string (nullable = true)\n",
      " |    |-- Tuesday: string (nullable = true)\n",
      " |    |-- Wednesday: string (nullable = true)\n",
      " |-- is_open: long (nullable = true)\n",
      " |-- latitude: double (nullable = true)\n",
      " |-- longitude: double (nullable = true)\n",
      " |-- name: string (nullable = true)\n",
      " |-- postal_code: string (nullable = true)\n",
      " |-- review_count: long (nullable = true)\n",
      " |-- stars: double (nullable = true)\n",
      " |-- state: string (nullable = true)"
     ]
    }
   ],
   "source": [
    "#Se muestra schema del json\n",
    "load_business_data.printSchema()"
   ]
  },
  {
   "cell_type": "code",
   "execution_count": 263,
   "metadata": {},
   "outputs": [
    {
     "data": {
      "application/vnd.jupyter.widget-view+json": {
       "model_id": "",
       "version_major": 2,
       "version_minor": 0
      },
      "text/plain": [
       "FloatProgress(value=0.0, bar_style='info', description='Progress:', layout=Layout(height='25px', width='50%'),…"
      ]
     },
     "metadata": {},
     "output_type": "display_data"
    },
    {
     "name": "stdout",
     "output_type": "stream",
     "text": [
      "+----------------+\n",
      "|AcceptsInsurance|\n",
      "+----------------+\n",
      "|            null|\n",
      "|            True|\n",
      "|            None|\n",
      "|           False|\n",
      "+----------------+"
     ]
    }
   ],
   "source": [
    "#Se muestran las categorias  \n",
    "load_business_data\\\n",
    "    .select(\"attributes.AcceptsInsurance\")\\\n",
    "    .distinct()\\\n",
    "    .show()"
   ]
  },
  {
   "cell_type": "code",
   "execution_count": 264,
   "metadata": {},
   "outputs": [
    {
     "data": {
      "application/vnd.jupyter.widget-view+json": {
       "model_id": "",
       "version_major": 2,
       "version_minor": 0
      },
      "text/plain": [
       "FloatProgress(value=0.0, bar_style='info', description='Progress:', layout=Layout(height='25px', width='50%'),…"
      ]
     },
     "metadata": {},
     "output_type": "display_data"
    }
   ],
   "source": [
    "# Se recodifica columna accepts insurance con 1 en el caso de ser True, de lo contrario 0\n",
    "load_business_data = load_business_data\\\n",
    "    .withColumn('accepts_insurance',\n",
    "        when((col('attributes.AcceptsInsurance') == 'True')\\\n",
    "             | (col('attributes.AcceptsInsurance') == \"\\'True\\'\")\\\n",
    "             | (col('attributes.AcceptsInsurance') == \"u\\'True\\'\"), 1)\\\n",
    "        .otherwise(0))"
   ]
  },
  {
   "cell_type": "code",
   "execution_count": 265,
   "metadata": {},
   "outputs": [
    {
     "data": {
      "application/vnd.jupyter.widget-view+json": {
       "model_id": "",
       "version_major": 2,
       "version_minor": 0
      },
      "text/plain": [
       "FloatProgress(value=0.0, bar_style='info', description='Progress:', layout=Layout(height='25px', width='50%'),…"
      ]
     },
     "metadata": {},
     "output_type": "display_data"
    },
    {
     "name": "stdout",
     "output_type": "stream",
     "text": [
      "+----------------+-----------------+\n",
      "|AcceptsInsurance|accepts_insurance|\n",
      "+----------------+-----------------+\n",
      "|            null|                0|\n",
      "+----------------+-----------------+\n",
      "only showing top 1 row"
     ]
    }
   ],
   "source": [
    "#Se muestra comparativa de las columnas para revisar cambios\n",
    "load_business_data\\\n",
    "    .select(\"attributes.AcceptsInsurance\",\"accepts_insurance\")\\\n",
    "    .show(1)"
   ]
  },
  {
   "cell_type": "code",
   "execution_count": 266,
   "metadata": {},
   "outputs": [
    {
     "data": {
      "application/vnd.jupyter.widget-view+json": {
       "model_id": "",
       "version_major": 2,
       "version_minor": 0
      },
      "text/plain": [
       "FloatProgress(value=0.0, bar_style='info', description='Progress:', layout=Layout(height='25px', width='50%'),…"
      ]
     },
     "metadata": {},
     "output_type": "display_data"
    },
    {
     "name": "stdout",
     "output_type": "stream",
     "text": [
      "+-----------+\n",
      "|AgesAllowed|\n",
      "+-----------+\n",
      "|       null|\n",
      "|  u'19plus'|\n",
      "|  u'21plus'|\n",
      "| u'allages'|\n",
      "|       None|\n",
      "|  u'18plus'|\n",
      "+-----------+"
     ]
    }
   ],
   "source": [
    "#Se revisan etiquetas de la columna\n",
    "load_business_data\\\n",
    "    .select(\"attributes.AgesAllowed\")\\\n",
    "    .distinct()\\\n",
    "    .show()"
   ]
  },
  {
   "cell_type": "code",
   "execution_count": 267,
   "metadata": {},
   "outputs": [
    {
     "data": {
      "application/vnd.jupyter.widget-view+json": {
       "model_id": "",
       "version_major": 2,
       "version_minor": 0
      },
      "text/plain": [
       "FloatProgress(value=0.0, bar_style='info', description='Progress:', layout=Layout(height='25px', width='50%'),…"
      ]
     },
     "metadata": {},
     "output_type": "display_data"
    }
   ],
   "source": [
    "#Se recodifica columna de acuerdo a lo indicado allages con 1 de lo contrario 0\n",
    "load_business_data = load_business_data\\\n",
    "    .withColumn('all_ages_allowed',\n",
    "        when((col('attributes.AgesAllowed') == 'allages')\\\n",
    "            | (col('attributes.AgesAllowed') == \"\\'allages\\'\")\\\n",
    "            | (col('attributes.AgesAllowed') == \"u\\'allages\\'\"), 1)\\\n",
    "        .otherwise(0))\n"
   ]
  },
  {
   "cell_type": "code",
   "execution_count": 268,
   "metadata": {},
   "outputs": [
    {
     "data": {
      "application/vnd.jupyter.widget-view+json": {
       "model_id": "",
       "version_major": 2,
       "version_minor": 0
      },
      "text/plain": [
       "FloatProgress(value=0.0, bar_style='info', description='Progress:', layout=Layout(height='25px', width='50%'),…"
      ]
     },
     "metadata": {},
     "output_type": "display_data"
    },
    {
     "name": "stdout",
     "output_type": "stream",
     "text": [
      "+-----------+----------------+\n",
      "|AgesAllowed|all_ages_allowed|\n",
      "+-----------+----------------+\n",
      "|       null|               0|\n",
      "+-----------+----------------+\n",
      "only showing top 1 row"
     ]
    }
   ],
   "source": [
    "#Se comparan resultados de las columnas\n",
    "load_business_data\\\n",
    "    .select(\"attributes.AgesAllowed\",\"all_ages_allowed\")\\\n",
    "    .show(1)"
   ]
  },
  {
   "cell_type": "code",
   "execution_count": 269,
   "metadata": {},
   "outputs": [
    {
     "data": {
      "application/vnd.jupyter.widget-view+json": {
       "model_id": "",
       "version_major": 2,
       "version_minor": 0
      },
      "text/plain": [
       "FloatProgress(value=0.0, bar_style='info', description='Progress:', layout=Layout(height='25px', width='50%'),…"
      ]
     },
     "metadata": {},
     "output_type": "display_data"
    },
    {
     "name": "stdout",
     "output_type": "stream",
     "text": [
      "+----------------+\n",
      "|         Alcohol|\n",
      "+----------------+\n",
      "|            null|\n",
      "|          'none'|\n",
      "| 'beer_and_wine'|\n",
      "|      'full_bar'|\n",
      "|            None|\n",
      "|     u'full_bar'|\n",
      "|         u'none'|\n",
      "|u'beer_and_wine'|\n",
      "+----------------+"
     ]
    }
   ],
   "source": [
    "#Se revisan etiquetas de la columna\n",
    "load_business_data\\\n",
    "    .select(\"attributes.Alcohol\")\\\n",
    "    .distinct()\\\n",
    "    .show()"
   ]
  },
  {
   "cell_type": "code",
   "execution_count": 270,
   "metadata": {},
   "outputs": [
    {
     "data": {
      "application/vnd.jupyter.widget-view+json": {
       "model_id": "",
       "version_major": 2,
       "version_minor": 0
      },
      "text/plain": [
       "FloatProgress(value=0.0, bar_style='info', description='Progress:', layout=Layout(height='25px', width='50%'),…"
      ]
     },
     "metadata": {},
     "output_type": "display_data"
    }
   ],
   "source": [
    "# Se recodifica de acuerdo a lo indicado beer and wine y full bar con 1 de lo contrario 0\n",
    "load_business_data = load_business_data\\\n",
    "    .withColumn('alcohol_consumption',\n",
    "        when((col('attributes.Alcohol') == 'beer_and_wine')\\\n",
    "             | (col('attributes.Alcohol') == \"\\'beer_and_wine\\'\")\\\n",
    "             | (col('attributes.Alcohol') == \"u\\'beer_and_wine\\'\")\\\n",
    "             | (col('attributes.Alcohol') == 'full_bar')\\\n",
    "             | (col('attributes.Alcohol') == \"\\'full_bar\\'\")\\\n",
    "             | (col('attributes.Alcohol') == \"u\\'full_bar\\'\"), 1)\\\n",
    "        .otherwise(0))\n"
   ]
  },
  {
   "cell_type": "code",
   "execution_count": 271,
   "metadata": {},
   "outputs": [
    {
     "data": {
      "application/vnd.jupyter.widget-view+json": {
       "model_id": "",
       "version_major": 2,
       "version_minor": 0
      },
      "text/plain": [
       "FloatProgress(value=0.0, bar_style='info', description='Progress:', layout=Layout(height='25px', width='50%'),…"
      ]
     },
     "metadata": {},
     "output_type": "display_data"
    },
    {
     "name": "stdout",
     "output_type": "stream",
     "text": [
      "+-------+-------------------+\n",
      "|Alcohol|alcohol_consumption|\n",
      "+-------+-------------------+\n",
      "|   null|                  0|\n",
      "+-------+-------------------+\n",
      "only showing top 1 row"
     ]
    }
   ],
   "source": [
    "#Se muestra primera fila para verificar cambios\n",
    "load_business_data\\\n",
    "    .select(\"attributes.Alcohol\",\"alcohol_consumption\")\\\n",
    "    .show(1)"
   ]
  },
  {
   "cell_type": "code",
   "execution_count": 272,
   "metadata": {},
   "outputs": [
    {
     "data": {
      "application/vnd.jupyter.widget-view+json": {
       "model_id": "",
       "version_major": 2,
       "version_minor": 0
      },
      "text/plain": [
       "FloatProgress(value=0.0, bar_style='info', description='Progress:', layout=Layout(height='25px', width='50%'),…"
      ]
     },
     "metadata": {},
     "output_type": "display_data"
    },
    {
     "name": "stdout",
     "output_type": "stream",
     "text": [
      "+----------------------+\n",
      "|BusinessAcceptsBitcoin|\n",
      "+----------------------+\n",
      "|                  null|\n",
      "|                  True|\n",
      "|                  None|\n",
      "|                 False|\n",
      "+----------------------+"
     ]
    }
   ],
   "source": [
    "#Se revisan etiquetas de la columna\n",
    "load_business_data\\\n",
    "    .select(\"attributes.BusinessAcceptsBitcoin\")\\\n",
    "    .distinct()\\\n",
    "    .show()"
   ]
  },
  {
   "cell_type": "code",
   "execution_count": 273,
   "metadata": {},
   "outputs": [
    {
     "data": {
      "application/vnd.jupyter.widget-view+json": {
       "model_id": "",
       "version_major": 2,
       "version_minor": 0
      },
      "text/plain": [
       "FloatProgress(value=0.0, bar_style='info', description='Progress:', layout=Layout(height='25px', width='50%'),…"
      ]
     },
     "metadata": {},
     "output_type": "display_data"
    }
   ],
   "source": [
    "#Se recodifica de acuerdo a lo indicado, True con 1, de lo contrario 0\n",
    "load_business_data = load_business_data\\\n",
    "    .withColumn('bitcoin_friendly',\n",
    "        when((col('attributes.BusinessAcceptsBitcoin') == 'True')\\\n",
    "             | (col('attributes.BusinessAcceptsBitcoin') == True)\\\n",
    "             | (col('attributes.BusinessAcceptsBitcoin') == \"\\'True\\'\")\\\n",
    "             | (col('attributes.BusinessAcceptsBitcoin') == \"u\\'True\\'\"), 1)\\\n",
    "        .otherwise(0))\n"
   ]
  },
  {
   "cell_type": "code",
   "execution_count": 274,
   "metadata": {},
   "outputs": [
    {
     "data": {
      "application/vnd.jupyter.widget-view+json": {
       "model_id": "",
       "version_major": 2,
       "version_minor": 0
      },
      "text/plain": [
       "FloatProgress(value=0.0, bar_style='info', description='Progress:', layout=Layout(height='25px', width='50%'),…"
      ]
     },
     "metadata": {},
     "output_type": "display_data"
    },
    {
     "name": "stdout",
     "output_type": "stream",
     "text": [
      "+----------------------+----------------+\n",
      "|BusinessAcceptsBitcoin|bitcoin_friendly|\n",
      "+----------------------+----------------+\n",
      "|                  null|               0|\n",
      "+----------------------+----------------+\n",
      "only showing top 1 row"
     ]
    }
   ],
   "source": [
    "#Se muestra primera fila para verificar cambios\n",
    "load_business_data\\\n",
    "    .select(\"attributes.BusinessAcceptsBitcoin\",\"bitcoin_friendly\")\\\n",
    "    .show(1)"
   ]
  },
  {
   "cell_type": "code",
   "execution_count": 275,
   "metadata": {},
   "outputs": [
    {
     "data": {
      "application/vnd.jupyter.widget-view+json": {
       "model_id": "",
       "version_major": 2,
       "version_minor": 0
      },
      "text/plain": [
       "FloatProgress(value=0.0, bar_style='info', description='Progress:', layout=Layout(height='25px', width='50%'),…"
      ]
     },
     "metadata": {},
     "output_type": "display_data"
    },
    {
     "name": "stdout",
     "output_type": "stream",
     "text": [
      "+--------------------+\n",
      "|          categories|\n",
      "+--------------------+\n",
      "|Home Health Care,...|\n",
      "|Cocktail Bars, It...|\n",
      "|Used, Vintage & C...|\n",
      "|Convenience Store...|\n",
      "|Coffee & Tea, Bak...|\n",
      "|Food, Fast Food, ...|\n",
      "|Bikes, Local Serv...|\n",
      "|Tires, Oil Change...|\n",
      "|Movers, Professio...|\n",
      "|Japanese, Restaur...|\n",
      "|Bars, Party Bus R...|\n",
      "|Coffee & Tea, Gro...|\n",
      "|Bars, American (N...|\n",
      "|Vape Shops, Head ...|\n",
      "|Active Life, Gyms...|\n",
      "|Sandwiches, Resta...|\n",
      "|Heating & Air Con...|\n",
      "|Automotive, Local...|\n",
      "|Beauty & Spas, Ha...|\n",
      "|Venues & Event Sp...|\n",
      "+--------------------+\n",
      "only showing top 20 rows"
     ]
    }
   ],
   "source": [
    "#Se revisan etiquetas de la columna\n",
    "load_business_data\\\n",
    "    .select(\"categories\")\\\n",
    "    .distinct()\\\n",
    "    .show()"
   ]
  },
  {
   "cell_type": "code",
   "execution_count": 276,
   "metadata": {},
   "outputs": [
    {
     "data": {
      "application/vnd.jupyter.widget-view+json": {
       "model_id": "",
       "version_major": 2,
       "version_minor": 0
      },
      "text/plain": [
       "FloatProgress(value=0.0, bar_style='info', description='Progress:', layout=Layout(height='25px', width='50%'),…"
      ]
     },
     "metadata": {},
     "output_type": "display_data"
    }
   ],
   "source": [
    "# Se recodifica categories en food_related que hacen referencia a Food, restaurants y bars con 1, de lo contrario 0\n",
    "load_business_data = load_business_data\\\n",
    "    .withColumn('food_related',\n",
    "        when((col('categories').rlike('Food'))\\\n",
    "             | (col('categories').rlike('Restaurants'))\\\n",
    "             | (col('categories').rlike('Bars')), 1)\\\n",
    "        .otherwise(0))\n"
   ]
  },
  {
   "cell_type": "code",
   "execution_count": 277,
   "metadata": {},
   "outputs": [
    {
     "data": {
      "application/vnd.jupyter.widget-view+json": {
       "model_id": "",
       "version_major": 2,
       "version_minor": 0
      },
      "text/plain": [
       "FloatProgress(value=0.0, bar_style='info', description='Progress:', layout=Layout(height='25px', width='50%'),…"
      ]
     },
     "metadata": {},
     "output_type": "display_data"
    }
   ],
   "source": [
    "# Se recodifica categories en finance_related que hace referencia a Banks, Insurance y Finance con 1, de lo contrario 0\n",
    "load_business_data = load_business_data\\\n",
    "    .withColumn('finance_related', when(\n",
    "        (col('categories').rlike('Banks'))\\\n",
    "         | (col('categories').rlike('Insurance'))\\\n",
    "         | (col('categories').rlike('Finance')), 1)\\\n",
    "        .otherwise(0))"
   ]
  },
  {
   "cell_type": "code",
   "execution_count": 278,
   "metadata": {},
   "outputs": [
    {
     "data": {
      "application/vnd.jupyter.widget-view+json": {
       "model_id": "",
       "version_major": 2,
       "version_minor": 0
      },
      "text/plain": [
       "FloatProgress(value=0.0, bar_style='info', description='Progress:', layout=Layout(height='25px', width='50%'),…"
      ]
     },
     "metadata": {},
     "output_type": "display_data"
    }
   ],
   "source": [
    "# Se recodifica categories en health_related que hace referencia a Fitness, Hospitals y Health con 1, de lo contrario 0\n",
    "load_business_data = load_business_data\\\n",
    "    .withColumn('health_related', when(\n",
    "        (col('categories').rlike('Fitness'))\\\n",
    "        | (col('categories').rlike('Hospitals'))\\\n",
    "        | (col('categories').rlike('Health')), 1)\\\n",
    "            .otherwise(0))\n"
   ]
  },
  {
   "cell_type": "code",
   "execution_count": 279,
   "metadata": {},
   "outputs": [
    {
     "data": {
      "application/vnd.jupyter.widget-view+json": {
       "model_id": "",
       "version_major": 2,
       "version_minor": 0
      },
      "text/plain": [
       "FloatProgress(value=0.0, bar_style='info', description='Progress:', layout=Layout(height='25px', width='50%'),…"
      ]
     },
     "metadata": {},
     "output_type": "display_data"
    },
    {
     "name": "stdout",
     "output_type": "stream",
     "text": [
      "+----------+\n",
      "|   Smoking|\n",
      "+----------+\n",
      "|      null|\n",
      "|      'no'|\n",
      "|     'yes'|\n",
      "|     u'no'|\n",
      "| 'outdoor'|\n",
      "|    u'yes'|\n",
      "|      None|\n",
      "|u'outdoor'|\n",
      "+----------+"
     ]
    }
   ],
   "source": [
    "#Se revisan etiquetas de la columna\n",
    "load_business_data\\\n",
    "    .select(\"attributes.Smoking\")\\\n",
    "    .distinct()\\\n",
    "    .show()"
   ]
  },
  {
   "cell_type": "code",
   "execution_count": 280,
   "metadata": {},
   "outputs": [
    {
     "data": {
      "application/vnd.jupyter.widget-view+json": {
       "model_id": "",
       "version_major": 2,
       "version_minor": 0
      },
      "text/plain": [
       "FloatProgress(value=0.0, bar_style='info', description='Progress:', layout=Layout(height='25px', width='50%'),…"
      ]
     },
     "metadata": {},
     "output_type": "display_data"
    }
   ],
   "source": [
    "# Se recodifica yes y outdoor con 1, de lo contrario 0\n",
    "load_business_data = load_business_data\\\n",
    "    .withColumn('smoking',when((col('attributes.Smoking') == '\\'yes\\'')\\\n",
    "                 |(col('attributes.Smoking') == 'u\\'yes\\'')\\\n",
    "                 |(col('attributes.Smoking') == 'yes')\\\n",
    "                 |(col('attributes.Smoking') == '\\'outdoor\\'')\\\n",
    "                 |(col('attributes.Smoking') == 'u\\'outdoor\\'')\\\n",
    "                 |(col('attributes.Smoking') == 'outdoor'), 1)\\\n",
    "           .otherwise(0))"
   ]
  },
  {
   "cell_type": "code",
   "execution_count": 281,
   "metadata": {},
   "outputs": [
    {
     "data": {
      "application/vnd.jupyter.widget-view+json": {
       "model_id": "",
       "version_major": 2,
       "version_minor": 0
      },
      "text/plain": [
       "FloatProgress(value=0.0, bar_style='info', description='Progress:', layout=Layout(height='25px', width='50%'),…"
      ]
     },
     "metadata": {},
     "output_type": "display_data"
    },
    {
     "name": "stdout",
     "output_type": "stream",
     "text": [
      "+-------+-------+\n",
      "|Smoking|smoking|\n",
      "+-------+-------+\n",
      "|   null|      0|\n",
      "+-------+-------+\n",
      "only showing top 1 row"
     ]
    }
   ],
   "source": [
    "#Se muestra primera fila para verificar cambios\n",
    "load_business_data\\\n",
    "    .select(\"attributes.Smoking\",\"smoking\")\\\n",
    "    .show(1)"
   ]
  },
  {
   "cell_type": "code",
   "execution_count": 282,
   "metadata": {},
   "outputs": [
    {
     "data": {
      "application/vnd.jupyter.widget-view+json": {
       "model_id": "",
       "version_major": 2,
       "version_minor": 0
      },
      "text/plain": [
       "FloatProgress(value=0.0, bar_style='info', description='Progress:', layout=Layout(height='25px', width='50%'),…"
      ]
     },
     "metadata": {},
     "output_type": "display_data"
    },
    {
     "name": "stdout",
     "output_type": "stream",
     "text": [
      "+-------+\n",
      "|   WiFi|\n",
      "+-------+\n",
      "|   null|\n",
      "|   'no'|\n",
      "|  u'no'|\n",
      "| 'free'|\n",
      "|u'paid'|\n",
      "|u'free'|\n",
      "|   None|\n",
      "| 'paid'|\n",
      "+-------+"
     ]
    }
   ],
   "source": [
    "#Se revisan etiquetas de la columna\n",
    "load_business_data\\\n",
    "    .select(\"attributes.WiFi\")\\\n",
    "    .distinct()\\\n",
    "    .show()"
   ]
  },
  {
   "cell_type": "code",
   "execution_count": 283,
   "metadata": {},
   "outputs": [
    {
     "data": {
      "application/vnd.jupyter.widget-view+json": {
       "model_id": "",
       "version_major": 2,
       "version_minor": 0
      },
      "text/plain": [
       "FloatProgress(value=0.0, bar_style='info', description='Progress:', layout=Layout(height='25px', width='50%'),…"
      ]
     },
     "metadata": {},
     "output_type": "display_data"
    }
   ],
   "source": [
    "# Se recodifica columna free_wifi con 1 si es free, de lo contrario 0\n",
    "load_business_data = load_business_data\\\n",
    "    .withColumn('free_wifi',when((col('attributes.WiFi') == '\\'free\\'')\\\n",
    "                | (col('attributes.WiFi') == 'u\\'free\\'')\\\n",
    "                | (col('attributes.WiFi') == 'free'), 1)\\\n",
    "           .otherwise(0))\n"
   ]
  },
  {
   "cell_type": "code",
   "execution_count": 284,
   "metadata": {},
   "outputs": [
    {
     "data": {
      "application/vnd.jupyter.widget-view+json": {
       "model_id": "",
       "version_major": 2,
       "version_minor": 0
      },
      "text/plain": [
       "FloatProgress(value=0.0, bar_style='info', description='Progress:', layout=Layout(height='25px', width='50%'),…"
      ]
     },
     "metadata": {},
     "output_type": "display_data"
    },
    {
     "name": "stdout",
     "output_type": "stream",
     "text": [
      "+----+---------+\n",
      "|WiFi|free_wifi|\n",
      "+----+---------+\n",
      "|null|        0|\n",
      "+----+---------+\n",
      "only showing top 1 row"
     ]
    }
   ],
   "source": [
    "#Se muestra primera fila para verificar cambios\n",
    "load_business_data\\\n",
    "    .select(\"attributes.WiFi\",\"free_wifi\")\\\n",
    "    .show(1)"
   ]
  },
  {
   "cell_type": "code",
   "execution_count": 285,
   "metadata": {},
   "outputs": [
    {
     "data": {
      "application/vnd.jupyter.widget-view+json": {
       "model_id": "",
       "version_major": 2,
       "version_minor": 0
      },
      "text/plain": [
       "FloatProgress(value=0.0, bar_style='info', description='Progress:', layout=Layout(height='25px', width='50%'),…"
      ]
     },
     "metadata": {},
     "output_type": "display_data"
    },
    {
     "name": "stdout",
     "output_type": "stream",
     "text": [
      "+----------------------+\n",
      "|RestaurantsPriceRange2|\n",
      "+----------------------+\n",
      "|                  null|\n",
      "|                     3|\n",
      "|                  None|\n",
      "|                     1|\n",
      "|                     4|\n",
      "|                     2|\n",
      "+----------------------+"
     ]
    }
   ],
   "source": [
    "#Se revisan etiquetas de la columna\n",
    "load_business_data\\\n",
    "    .select(\"attributes.RestaurantsPriceRange2\")\\\n",
    "    .distinct()\\\n",
    "    .show()"
   ]
  },
  {
   "cell_type": "code",
   "execution_count": 286,
   "metadata": {},
   "outputs": [
    {
     "data": {
      "application/vnd.jupyter.widget-view+json": {
       "model_id": "",
       "version_major": 2,
       "version_minor": 0
      },
      "text/plain": [
       "FloatProgress(value=0.0, bar_style='info', description='Progress:', layout=Layout(height='25px', width='50%'),…"
      ]
     },
     "metadata": {},
     "output_type": "display_data"
    }
   ],
   "source": [
    "# Se recodifica expensive_restaurant con 1 si es 3 y 4, de lo contrario 0\n",
    "load_business_data = load_business_data\\\n",
    "    .withColumn('expensive_restaurant',when((col('attributes.RestaurantsPriceRange2') == 3)\\\n",
    "                 | (col('attributes.RestaurantsPriceRange2') == 4), 1)\\\n",
    "            .otherwise(0))\n"
   ]
  },
  {
   "cell_type": "code",
   "execution_count": 287,
   "metadata": {},
   "outputs": [
    {
     "data": {
      "application/vnd.jupyter.widget-view+json": {
       "model_id": "",
       "version_major": 2,
       "version_minor": 0
      },
      "text/plain": [
       "FloatProgress(value=0.0, bar_style='info', description='Progress:', layout=Layout(height='25px', width='50%'),…"
      ]
     },
     "metadata": {},
     "output_type": "display_data"
    },
    {
     "name": "stdout",
     "output_type": "stream",
     "text": [
      "+----------------------+--------------------+\n",
      "|RestaurantsPriceRange2|expensive_restaurant|\n",
      "+----------------------+--------------------+\n",
      "|                  null|                   0|\n",
      "+----------------------+--------------------+\n",
      "only showing top 1 row"
     ]
    }
   ],
   "source": [
    "#Se muestra primera fila para verificar cambios\n",
    "load_business_data\\\n",
    "    .select(\"attributes.RestaurantsPriceRange2\",\"expensive_restaurant\")\\\n",
    "    .show(1)"
   ]
  },
  {
   "cell_type": "code",
   "execution_count": 288,
   "metadata": {},
   "outputs": [
    {
     "data": {
      "application/vnd.jupyter.widget-view+json": {
       "model_id": "",
       "version_major": 2,
       "version_minor": 0
      },
      "text/plain": [
       "FloatProgress(value=0.0, bar_style='info', description='Progress:', layout=Layout(height='25px', width='50%'),…"
      ]
     },
     "metadata": {},
     "output_type": "display_data"
    },
    {
     "name": "stdout",
     "output_type": "stream",
     "text": [
      "+-----------+\n",
      "|GoodForKids|\n",
      "+-----------+\n",
      "|       null|\n",
      "|       True|\n",
      "|       None|\n",
      "|      False|\n",
      "+-----------+"
     ]
    }
   ],
   "source": [
    "#Se revisan etiquetas de la columna\n",
    "load_business_data\\\n",
    "    .select(\"attributes.GoodForKids\")\\\n",
    "    .distinct()\\\n",
    "    .show()"
   ]
  },
  {
   "cell_type": "code",
   "execution_count": 289,
   "metadata": {},
   "outputs": [
    {
     "data": {
      "application/vnd.jupyter.widget-view+json": {
       "model_id": "",
       "version_major": 2,
       "version_minor": 0
      },
      "text/plain": [
       "FloatProgress(value=0.0, bar_style='info', description='Progress:', layout=Layout(height='25px', width='50%'),…"
      ]
     },
     "metadata": {},
     "output_type": "display_data"
    }
   ],
   "source": [
    "# Se recodifica con 1 si es True, de lo contrario 0\n",
    "load_business_data = load_business_data\\\n",
    "    .withColumn('kid_friendly',when((col('attributes.GoodForKids') == 'True')\\\n",
    "                 | (col('attributes.GoodForKids') == True)\\\n",
    "                 | (col('attributes.GoodForKids') == \"\\'True\\'\")\\\n",
    "                 | (col('attributes.GoodForKids') == \"u\\'True\\'\"), 1)\\\n",
    "            .otherwise(0))"
   ]
  },
  {
   "cell_type": "code",
   "execution_count": 290,
   "metadata": {},
   "outputs": [
    {
     "data": {
      "application/vnd.jupyter.widget-view+json": {
       "model_id": "",
       "version_major": 2,
       "version_minor": 0
      },
      "text/plain": [
       "FloatProgress(value=0.0, bar_style='info', description='Progress:', layout=Layout(height='25px', width='50%'),…"
      ]
     },
     "metadata": {},
     "output_type": "display_data"
    },
    {
     "name": "stdout",
     "output_type": "stream",
     "text": [
      "+-----------+------------+\n",
      "|GoodForKids|kid_friendly|\n",
      "+-----------+------------+\n",
      "|      False|           0|\n",
      "+-----------+------------+\n",
      "only showing top 1 row"
     ]
    }
   ],
   "source": [
    "#Se muestra primera fila para verificar cambios\n",
    "load_business_data\\\n",
    "    .select(\"attributes.GoodForKids\", \"kid_friendly\")\\\n",
    "    .show(1)"
   ]
  },
  {
   "cell_type": "code",
   "execution_count": 291,
   "metadata": {},
   "outputs": [
    {
     "data": {
      "application/vnd.jupyter.widget-view+json": {
       "model_id": "",
       "version_major": 2,
       "version_minor": 0
      },
      "text/plain": [
       "FloatProgress(value=0.0, bar_style='info', description='Progress:', layout=Layout(height='25px', width='50%'),…"
      ]
     },
     "metadata": {},
     "output_type": "display_data"
    },
    {
     "name": "stdout",
     "output_type": "stream",
     "text": [
      "+-----+\n",
      "|HasTv|\n",
      "+-----+\n",
      "| null|\n",
      "| True|\n",
      "| None|\n",
      "|False|\n",
      "+-----+"
     ]
    }
   ],
   "source": [
    "#Se revisan etiquetas de la columna\n",
    "load_business_data\\\n",
    "    .select(\"attributes.HasTv\")\\\n",
    "    .distinct()\\\n",
    "    .show()"
   ]
  },
  {
   "cell_type": "code",
   "execution_count": 292,
   "metadata": {},
   "outputs": [
    {
     "data": {
      "application/vnd.jupyter.widget-view+json": {
       "model_id": "",
       "version_major": 2,
       "version_minor": 0
      },
      "text/plain": [
       "FloatProgress(value=0.0, bar_style='info', description='Progress:', layout=Layout(height='25px', width='50%'),…"
      ]
     },
     "metadata": {},
     "output_type": "display_data"
    }
   ],
   "source": [
    "# Se recodifica True con 1, de lo contrario 0\n",
    "load_business_data = load_business_data\\\n",
    "    .withColumn('has_tv', when((col('attributes.HasTV') == 'True')\\\n",
    "                 | (col('attributes.HasTV') == True)\\\n",
    "                 | (col('attributes.HasTV') == \"\\'True\\'\")\\\n",
    "                 | (col('attributes.HasTV') == \"u\\'True\\'\"), 1)\\\n",
    "            .otherwise(0))\n"
   ]
  },
  {
   "cell_type": "code",
   "execution_count": 293,
   "metadata": {},
   "outputs": [
    {
     "data": {
      "application/vnd.jupyter.widget-view+json": {
       "model_id": "",
       "version_major": 2,
       "version_minor": 0
      },
      "text/plain": [
       "FloatProgress(value=0.0, bar_style='info', description='Progress:', layout=Layout(height='25px', width='50%'),…"
      ]
     },
     "metadata": {},
     "output_type": "display_data"
    },
    {
     "name": "stdout",
     "output_type": "stream",
     "text": [
      "+-----+------+\n",
      "|HasTV|has_tv|\n",
      "+-----+------+\n",
      "| null|     0|\n",
      "+-----+------+\n",
      "only showing top 1 row"
     ]
    }
   ],
   "source": [
    "#Se muestra primera fila para verificar cambios\n",
    "load_business_data\\\n",
    "    .select(\"attributes.HasTV\", \"has_tv\")\\\n",
    "    .show(1)"
   ]
  },
  {
   "cell_type": "code",
   "execution_count": 294,
   "metadata": {},
   "outputs": [
    {
     "data": {
      "application/vnd.jupyter.widget-view+json": {
       "model_id": "",
       "version_major": 2,
       "version_minor": 0
      },
      "text/plain": [
       "FloatProgress(value=0.0, bar_style='info', description='Progress:', layout=Layout(height='25px', width='50%'),…"
      ]
     },
     "metadata": {},
     "output_type": "display_data"
    },
    {
     "name": "stdout",
     "output_type": "stream",
     "text": [
      "+-----------+\n",
      "|DogsAllowed|\n",
      "+-----------+\n",
      "|       null|\n",
      "|       True|\n",
      "|       None|\n",
      "|      False|\n",
      "+-----------+"
     ]
    }
   ],
   "source": [
    "#Se revisan etiquetas de la columna\n",
    "load_business_data\\\n",
    "    .select(\"attributes.DogsAllowed\")\\\n",
    "    .distinct()\\\n",
    "    .show()"
   ]
  },
  {
   "cell_type": "code",
   "execution_count": 295,
   "metadata": {},
   "outputs": [
    {
     "data": {
      "application/vnd.jupyter.widget-view+json": {
       "model_id": "",
       "version_major": 2,
       "version_minor": 0
      },
      "text/plain": [
       "FloatProgress(value=0.0, bar_style='info', description='Progress:', layout=Layout(height='25px', width='50%'),…"
      ]
     },
     "metadata": {},
     "output_type": "display_data"
    }
   ],
   "source": [
    "# Se recodifica True con 1, de lo contrario 0\n",
    "load_business_data= load_business_data\\\n",
    "    .withColumn('dog_friendly', when((col('attributes.DogsAllowed') == 'True')\\\n",
    "                 | (col('attributes.DogsAllowed') == True)\\\n",
    "                 | (col('attributes.DogsAllowed') == \"\\True'\\'\")\\\n",
    "                 | (col('attributes.DogsAllowed') == \"u\\'True\\'\"), 1)\\\n",
    "            .otherwise(0))"
   ]
  },
  {
   "cell_type": "code",
   "execution_count": 296,
   "metadata": {},
   "outputs": [
    {
     "data": {
      "application/vnd.jupyter.widget-view+json": {
       "model_id": "",
       "version_major": 2,
       "version_minor": 0
      },
      "text/plain": [
       "FloatProgress(value=0.0, bar_style='info', description='Progress:', layout=Layout(height='25px', width='50%'),…"
      ]
     },
     "metadata": {},
     "output_type": "display_data"
    },
    {
     "name": "stdout",
     "output_type": "stream",
     "text": [
      "+-----------+------------+\n",
      "|DogsAllowed|dog_friendly|\n",
      "+-----------+------------+\n",
      "|       null|           0|\n",
      "+-----------+------------+\n",
      "only showing top 1 row"
     ]
    }
   ],
   "source": [
    "#Se muestra primera fila para verificar cambios\n",
    "load_business_data\\\n",
    "    .select(\"attributes.DogsAllowed\", \"dog_friendly\")\\\n",
    "    .show(1)"
   ]
  },
  {
   "cell_type": "code",
   "execution_count": 297,
   "metadata": {},
   "outputs": [
    {
     "data": {
      "application/vnd.jupyter.widget-view+json": {
       "model_id": "",
       "version_major": 2,
       "version_minor": 0
      },
      "text/plain": [
       "FloatProgress(value=0.0, bar_style='info', description='Progress:', layout=Layout(height='25px', width='50%'),…"
      ]
     },
     "metadata": {},
     "output_type": "display_data"
    },
    {
     "name": "stdout",
     "output_type": "stream",
     "text": [
      "+------------+\n",
      "|  NoiseLevel|\n",
      "+------------+\n",
      "|     u'loud'|\n",
      "|    u'quiet'|\n",
      "|        null|\n",
      "|u'very_loud'|\n",
      "|     'quiet'|\n",
      "|        None|\n",
      "| 'very_loud'|\n",
      "|   'average'|\n",
      "|  u'average'|\n",
      "|      'loud'|\n",
      "+------------+"
     ]
    }
   ],
   "source": [
    "#Se revisan etiquetas de la columna\n",
    "load_business_data\\\n",
    "    .select(\"attributes.NoiseLevel\")\\\n",
    "    .distinct()\\\n",
    "    .show()"
   ]
  },
  {
   "cell_type": "code",
   "execution_count": 298,
   "metadata": {},
   "outputs": [
    {
     "data": {
      "application/vnd.jupyter.widget-view+json": {
       "model_id": "",
       "version_major": 2,
       "version_minor": 0
      },
      "text/plain": [
       "FloatProgress(value=0.0, bar_style='info', description='Progress:', layout=Layout(height='25px', width='50%'),…"
      ]
     },
     "metadata": {},
     "output_type": "display_data"
    }
   ],
   "source": [
    "# Se recodifica loud y very_loud con 1, de lo contrario 0\n",
    "load_business_data = load_business_data\\\n",
    "    .withColumn('loud_place', when((col('attributes.NoiseLevel') == 'loud')\\\n",
    "                 | (col('attributes.NoiseLevel') == \"\\'loud\\'\")\\\n",
    "                 | (col('attributes.NoiseLevel') == \"u\\'loud\\'\")\\\n",
    "                 | (col('attributes.NoiseLevel') == \"very_loud\")\\\n",
    "                 | (col('attributes.NoiseLevel') == \"\\'very_loud\\'\")\\\n",
    "                 | (col('attributes.NoiseLevel') == \"u\\'very_loud\\'\"), 1)\\\n",
    "            .otherwise(0))\n"
   ]
  },
  {
   "cell_type": "code",
   "execution_count": 299,
   "metadata": {},
   "outputs": [
    {
     "data": {
      "application/vnd.jupyter.widget-view+json": {
       "model_id": "",
       "version_major": 2,
       "version_minor": 0
      },
      "text/plain": [
       "FloatProgress(value=0.0, bar_style='info', description='Progress:', layout=Layout(height='25px', width='50%'),…"
      ]
     },
     "metadata": {},
     "output_type": "display_data"
    },
    {
     "name": "stdout",
     "output_type": "stream",
     "text": [
      "+----------+----------+\n",
      "|NoiseLevel|loud_place|\n",
      "+----------+----------+\n",
      "|      null|         0|\n",
      "+----------+----------+\n",
      "only showing top 1 row"
     ]
    }
   ],
   "source": [
    "#Se muestra primera fila para verificar cambios\n",
    "load_business_data\\\n",
    "    .select(\"attributes.NoiseLevel\", \"loud_place\")\\\n",
    "    .show(1)"
   ]
  },
  {
   "cell_type": "code",
   "execution_count": 300,
   "metadata": {},
   "outputs": [
    {
     "data": {
      "application/vnd.jupyter.widget-view+json": {
       "model_id": "",
       "version_major": 2,
       "version_minor": 0
      },
      "text/plain": [
       "FloatProgress(value=0.0, bar_style='info', description='Progress:', layout=Layout(height='25px', width='50%'),…"
      ]
     },
     "metadata": {},
     "output_type": "display_data"
    },
    {
     "name": "stdout",
     "output_type": "stream",
     "text": [
      "+---------+\n",
      "|HappyHour|\n",
      "+---------+\n",
      "|     null|\n",
      "|     True|\n",
      "|     None|\n",
      "|    False|\n",
      "+---------+"
     ]
    }
   ],
   "source": [
    "#Se revisan etiquetas de la columna\n",
    "load_business_data\\\n",
    "    .select(\"attributes.HappyHour\")\\\n",
    "    .distinct()\\\n",
    "    .show()"
   ]
  },
  {
   "cell_type": "code",
   "execution_count": 301,
   "metadata": {},
   "outputs": [
    {
     "data": {
      "application/vnd.jupyter.widget-view+json": {
       "model_id": "",
       "version_major": 2,
       "version_minor": 0
      },
      "text/plain": [
       "FloatProgress(value=0.0, bar_style='info', description='Progress:', layout=Layout(height='25px', width='50%'),…"
      ]
     },
     "metadata": {},
     "output_type": "display_data"
    }
   ],
   "source": [
    "# 1 if business offers happy hours, 0 otherwise (applies only to restaurants)\n",
    "load_business_data = load_business_data\\\n",
    "    .withColumn('happy_hour', when((col('attributes.HappyHour') == 'True')\\\n",
    "                 | (col('attributes.HappyHour') == True)\\\n",
    "                 | (col('attributes.HappyHour') == \"\\'True\\'\")\\\n",
    "                 | (col('attributes.HappyHour') == \"u\\'True\\'\"), 1)\\\n",
    "            .otherwise(0))"
   ]
  },
  {
   "cell_type": "code",
   "execution_count": 302,
   "metadata": {},
   "outputs": [
    {
     "data": {
      "application/vnd.jupyter.widget-view+json": {
       "model_id": "",
       "version_major": 2,
       "version_minor": 0
      },
      "text/plain": [
       "FloatProgress(value=0.0, bar_style='info', description='Progress:', layout=Layout(height='25px', width='50%'),…"
      ]
     },
     "metadata": {},
     "output_type": "display_data"
    },
    {
     "name": "stdout",
     "output_type": "stream",
     "text": [
      "+---------+----------+\n",
      "|HappyHour|happy_hour|\n",
      "+---------+----------+\n",
      "|     null|         0|\n",
      "+---------+----------+\n",
      "only showing top 1 row"
     ]
    }
   ],
   "source": [
    "#Se muestra primera fila para verificar cambios\n",
    "load_business_data\\\n",
    "    .select(\"attributes.HappyHour\", \"happy_hour\")\\\n",
    "    .show(1)"
   ]
  },
  {
   "cell_type": "code",
   "execution_count": 303,
   "metadata": {},
   "outputs": [
    {
     "data": {
      "application/vnd.jupyter.widget-view+json": {
       "model_id": "",
       "version_major": 2,
       "version_minor": 0
      },
      "text/plain": [
       "FloatProgress(value=0.0, bar_style='info', description='Progress:', layout=Layout(height='25px', width='50%'),…"
      ]
     },
     "metadata": {},
     "output_type": "display_data"
    },
    {
     "name": "stdout",
     "output_type": "stream",
     "text": [
      "[Row(address='2818 E Camino Acequia Drive', attributes=Row(AcceptsInsurance=None, AgesAllowed=None, Alcohol=None, Ambience=None, BYOB=None, BYOBCorkage=None, BestNights=None, BikeParking=None, BusinessAcceptsBitcoin=None, BusinessAcceptsCreditCards=None, BusinessParking=None, ByAppointmentOnly=None, Caters=None, CoatCheck=None, Corkage=None, DietaryRestrictions=None, DogsAllowed=None, DriveThru=None, GoodForDancing=None, GoodForKids='False', GoodForMeal=None, HairSpecializesIn=None, HappyHour=None, HasTV=None, Music=None, NoiseLevel=None, Open24Hours=None, OutdoorSeating=None, RestaurantsAttire=None, RestaurantsCounterService=None, RestaurantsDelivery=None, RestaurantsGoodForGroups=None, RestaurantsPriceRange2=None, RestaurantsReservations=None, RestaurantsTableService=None, RestaurantsTakeOut=None, Smoking=None, WheelchairAccessible=None, WiFi=None), business_id='1SWheh84yJXfytovILXOAQ', categories='Golf, Active Life', city='Phoenix', hours=None, is_open=0, latitude=33.5221425, longitude=-112.0184807, name='Arizona Biltmore Golf Club', postal_code='85016', review_count=5, stars=3.0, state='AZ', accepts_insurance=0, all_ages_allowed=0, alcohol_consumption=0, bitcoin_friendly=0, food_related=0, finance_related=0, health_related=0, smoking=0, free_wifi=0, expensive_restaurant=0, kid_friendly=0, has_tv=0, dog_friendly=0, loud_place=0, happy_hour=0)]"
     ]
    }
   ],
   "source": [
    "#Se muestra primer elemento del json\n",
    "load_business_data.take(1)"
   ]
  },
  {
   "cell_type": "code",
   "execution_count": 304,
   "metadata": {},
   "outputs": [
    {
     "data": {
      "application/vnd.jupyter.widget-view+json": {
       "model_id": "",
       "version_major": 2,
       "version_minor": 0
      },
      "text/plain": [
       "FloatProgress(value=0.0, bar_style='info', description='Progress:', layout=Layout(height='25px', width='50%'),…"
      ]
     },
     "metadata": {},
     "output_type": "display_data"
    },
    {
     "name": "stdout",
     "output_type": "stream",
     "text": [
      "+-------+\n",
      "|is_open|\n",
      "+-------+\n",
      "|      0|\n",
      "|      1|\n",
      "|      1|\n",
      "|      1|\n",
      "|      1|\n",
      "|      1|\n",
      "|      1|\n",
      "|      1|\n",
      "|      0|\n",
      "|      1|\n",
      "|      1|\n",
      "|      1|\n",
      "|      1|\n",
      "|      1|\n",
      "|      1|\n",
      "|      1|\n",
      "|      1|\n",
      "|      0|\n",
      "|      1|\n",
      "|      1|\n",
      "+-------+\n",
      "only showing top 20 rows"
     ]
    }
   ],
   "source": [
    "#Se muestra columna is_open\n",
    "load_business_data.select('is_open').show()"
   ]
  },
  {
   "cell_type": "code",
   "execution_count": 305,
   "metadata": {},
   "outputs": [
    {
     "data": {
      "application/vnd.jupyter.widget-view+json": {
       "model_id": "",
       "version_major": 2,
       "version_minor": 0
      },
      "text/plain": [
       "FloatProgress(value=0.0, bar_style='info', description='Progress:', layout=Layout(height='25px', width='50%'),…"
      ]
     },
     "metadata": {},
     "output_type": "display_data"
    }
   ],
   "source": [
    "#Se recodifica is_open de acuerdo a lo indicado\n",
    "load_business_data = load_business_data\\\n",
    "    .withColumn('is_open', when(load_business_data['is_open'] == 0, 1)\\\n",
    "    .otherwise(0))"
   ]
  },
  {
   "cell_type": "code",
   "execution_count": 306,
   "metadata": {},
   "outputs": [
    {
     "data": {
      "application/vnd.jupyter.widget-view+json": {
       "model_id": "",
       "version_major": 2,
       "version_minor": 0
      },
      "text/plain": [
       "FloatProgress(value=0.0, bar_style='info', description='Progress:', layout=Layout(height='25px', width='50%'),…"
      ]
     },
     "metadata": {},
     "output_type": "display_data"
    }
   ],
   "source": [
    "#Se cambia el nombre a columna is open por label\n",
    "load_business_data = load_business_data.withColumnRenamed('is_open','label')"
   ]
  },
  {
   "cell_type": "code",
   "execution_count": 307,
   "metadata": {},
   "outputs": [
    {
     "data": {
      "application/vnd.jupyter.widget-view+json": {
       "model_id": "",
       "version_major": 2,
       "version_minor": 0
      },
      "text/plain": [
       "FloatProgress(value=0.0, bar_style='info', description='Progress:', layout=Layout(height='25px', width='50%'),…"
      ]
     },
     "metadata": {},
     "output_type": "display_data"
    }
   ],
   "source": [
    "#Se seleccionan columnas para dataframe recodificado\n",
    "business = load_business_data.select('label', 'review_count', 'stars', 'accepts_insurance',\n",
    "'all_ages_allowed', 'alcohol_consumption', 'bitcoin_friendly', 'food_related',\n",
    "'finance_related', 'health_related','smoking','free_wifi','has_tv',\n",
    "'dog_friendly','kid_friendly','expensive_restaurant','loud_place','happy_hour')"
   ]
  },
  {
   "cell_type": "code",
   "execution_count": 308,
   "metadata": {},
   "outputs": [
    {
     "data": {
      "application/vnd.jupyter.widget-view+json": {
       "model_id": "",
       "version_major": 2,
       "version_minor": 0
      },
      "text/plain": [
       "FloatProgress(value=0.0, bar_style='info', description='Progress:', layout=Layout(height='25px', width='50%'),…"
      ]
     },
     "metadata": {},
     "output_type": "display_data"
    },
    {
     "name": "stdout",
     "output_type": "stream",
     "text": [
      "[Row(label=1, review_count=5, stars=3.0, accepts_insurance=0, all_ages_allowed=0, alcohol_consumption=0, bitcoin_friendly=0, food_related=0, finance_related=0, health_related=0, smoking=0, free_wifi=0, has_tv=0, dog_friendly=0, kid_friendly=0, expensive_restaurant=0, loud_place=0, happy_hour=0)]"
     ]
    }
   ],
   "source": [
    "#Se muestra primer elemento del dataframe recodificado\n",
    "business.take(1)"
   ]
  },
  {
   "cell_type": "code",
   "execution_count": 309,
   "metadata": {},
   "outputs": [
    {
     "data": {
      "application/vnd.jupyter.widget-view+json": {
       "model_id": "",
       "version_major": 2,
       "version_minor": 0
      },
      "text/plain": [
       "FloatProgress(value=0.0, bar_style='info', description='Progress:', layout=Layout(height='25px', width='50%'),…"
      ]
     },
     "metadata": {},
     "output_type": "display_data"
    },
    {
     "name": "stdout",
     "output_type": "stream",
     "text": [
      "+-----+------+\n",
      "|label| count|\n",
      "+-----+------+\n",
      "|    1| 34084|\n",
      "|    0|158525|\n",
      "+-----+------+"
     ]
    }
   ],
   "source": [
    "#Se eliminan columnas mencionadas en ejercicio\n",
    "drop_list = ['friends', 'yelping_since', 'name', 'elite', 'user_id' ]\n",
    "df = df.select([column for column in df.columns if column not in drop_list])#Se indican servicios que cerraron y los que no\n",
    "business.groupBy('label').count().show()"
   ]
  },
  {
   "cell_type": "code",
   "execution_count": 310,
   "metadata": {},
   "outputs": [
    {
     "data": {
      "application/vnd.jupyter.widget-view+json": {
       "model_id": "",
       "version_major": 2,
       "version_minor": 0
      },
      "text/plain": [
       "FloatProgress(value=0.0, bar_style='info', description='Progress:', layout=Layout(height='25px', width='50%'),…"
      ]
     },
     "metadata": {},
     "output_type": "display_data"
    },
    {
     "name": "stdout",
     "output_type": "stream",
     "text": [
      "['review_count', 'stars', 'accepts_insurance', 'all_ages_allowed', 'alcohol_consumption', 'bitcoin_friendly', 'food_related', 'finance_related', 'health_related', 'smoking', 'free_wifi', 'has_tv', 'dog_friendly', 'kid_friendly', 'expensive_restaurant', 'loud_place', 'happy_hour']"
     ]
    }
   ],
   "source": [
    "#Se remueve label del conjunto de entrenamiento\n",
    "feats = business.columns\n",
    "feats.remove('label')\n",
    "print(feats)"
   ]
  },
  {
   "cell_type": "code",
   "execution_count": 311,
   "metadata": {},
   "outputs": [
    {
     "data": {
      "application/vnd.jupyter.widget-view+json": {
       "model_id": "",
       "version_major": 2,
       "version_minor": 0
      },
      "text/plain": [
       "FloatProgress(value=0.0, bar_style='info', description='Progress:', layout=Layout(height='25px', width='50%'),…"
      ]
     },
     "metadata": {},
     "output_type": "display_data"
    }
   ],
   "source": [
    "#Se genera RDD indicando rango de atributos y transformamos dataframe, seleccionando\n",
    "assemble_feats = VectorAssembler(inputCols = feats, outputCol = 'assembled_features')\n",
    "assemble_feats = assemble_feats.transform(business)\n",
    "assemble_feats = assemble_feats.select('label', 'assembled_features')"
   ]
  },
  {
   "cell_type": "code",
   "execution_count": 312,
   "metadata": {},
   "outputs": [
    {
     "data": {
      "application/vnd.jupyter.widget-view+json": {
       "model_id": "",
       "version_major": 2,
       "version_minor": 0
      },
      "text/plain": [
       "FloatProgress(value=0.0, bar_style='info', description='Progress:', layout=Layout(height='25px', width='50%'),…"
      ]
     },
     "metadata": {},
     "output_type": "display_data"
    },
    {
     "name": "stdout",
     "output_type": "stream",
     "text": [
      "[Row(label=1, assembled_features=SparseVector(17, {0: 5.0, 1: 3.0}))]"
     ]
    }
   ],
   "source": [
    "#Se muestra primer elemento\n",
    "assemble_feats.take(1)"
   ]
  },
  {
   "cell_type": "code",
   "execution_count": 313,
   "metadata": {},
   "outputs": [
    {
     "data": {
      "application/vnd.jupyter.widget-view+json": {
       "model_id": "",
       "version_major": 2,
       "version_minor": 0
      },
      "text/plain": [
       "FloatProgress(value=0.0, bar_style='info', description='Progress:', layout=Layout(height='25px', width='50%'),…"
      ]
     },
     "metadata": {},
     "output_type": "display_data"
    }
   ],
   "source": [
    "#Se genera la separacion en conjuntos de test y train\n",
    "train, test = assemble_feats.randomSplit([0.7, 0.3], seed = 4982)"
   ]
  },
  {
   "cell_type": "code",
   "execution_count": 314,
   "metadata": {},
   "outputs": [
    {
     "data": {
      "application/vnd.jupyter.widget-view+json": {
       "model_id": "",
       "version_major": 2,
       "version_minor": 0
      },
      "text/plain": [
       "FloatProgress(value=0.0, bar_style='info', description='Progress:', layout=Layout(height='25px', width='50%'),…"
      ]
     },
     "metadata": {},
     "output_type": "display_data"
    }
   ],
   "source": [
    "# Se genera objeto indicando de manera explicita atributos, vector objetivo y predicciones\n",
    "logistic_model = LogisticRegression(featuresCol='assembled_features',labelCol='label',\n",
    "                    predictionCol='open_pred')"
   ]
  },
  {
   "cell_type": "code",
   "execution_count": 315,
   "metadata": {},
   "outputs": [
    {
     "data": {
      "application/vnd.jupyter.widget-view+json": {
       "model_id": "",
       "version_major": 2,
       "version_minor": 0
      },
      "text/plain": [
       "FloatProgress(value=0.0, bar_style='info', description='Progress:', layout=Layout(height='25px', width='50%'),…"
      ]
     },
     "metadata": {},
     "output_type": "display_data"
    }
   ],
   "source": [
    "#Se entrena modelo de regresion logistica\n",
    "logistic_model = logistic_model.fit(train)"
   ]
  },
  {
   "cell_type": "code",
   "execution_count": 316,
   "metadata": {},
   "outputs": [
    {
     "data": {
      "application/vnd.jupyter.widget-view+json": {
       "model_id": "",
       "version_major": 2,
       "version_minor": 0
      },
      "text/plain": [
       "FloatProgress(value=0.0, bar_style='info', description='Progress:', layout=Layout(height='25px', width='50%'),…"
      ]
     },
     "metadata": {},
     "output_type": "display_data"
    },
    {
     "name": "stdout",
     "output_type": "stream",
     "text": [
      "+-----+--------------------+--------------------+--------------------+---------+\n",
      "|label|  assembled_features|       rawPrediction|         probability|open_pred|\n",
      "+-----+--------------------+--------------------+--------------------+---------+\n",
      "|    0|(17,[0,1],[3.0,1.0])|[1.78138615815434...|[0.85586794397960...|      0.0|\n",
      "|    0|(17,[0,1],[3.0,1.0])|[1.78138615815434...|[0.85586794397960...|      0.0|\n",
      "|    0|(17,[0,1],[3.0,1.0])|[1.78138615815434...|[0.85586794397960...|      0.0|\n",
      "|    0|(17,[0,1],[3.0,1.0])|[1.78138615815434...|[0.85586794397960...|      0.0|\n",
      "|    0|(17,[0,1],[3.0,1.0])|[1.78138615815434...|[0.85586794397960...|      0.0|\n",
      "+-----+--------------------+--------------------+--------------------+---------+\n",
      "only showing top 5 rows"
     ]
    }
   ],
   "source": [
    "#Se visualiza comportamiento del modelo en cuanto a su probabilidad cruda, la normalizada y la mas probable\n",
    "logistic_model.transform(test).show(5)"
   ]
  },
  {
   "cell_type": "code",
   "execution_count": 317,
   "metadata": {},
   "outputs": [
    {
     "data": {
      "application/vnd.jupyter.widget-view+json": {
       "model_id": "",
       "version_major": 2,
       "version_minor": 0
      },
      "text/plain": [
       "FloatProgress(value=0.0, bar_style='info', description='Progress:', layout=Layout(height='25px', width='50%'),…"
      ]
     },
     "metadata": {},
     "output_type": "display_data"
    },
    {
     "name": "stdout",
     "output_type": "stream",
     "text": [
      "Area Under ROC: 0.6897550315459314"
     ]
    }
   ],
   "source": [
    "#Se indica puntaje ROC\n",
    "print(f\"Area Under ROC: {logistic_model.evaluate(test).areaUnderROC}\")"
   ]
  },
  {
   "cell_type": "code",
   "execution_count": 318,
   "metadata": {},
   "outputs": [
    {
     "data": {
      "application/vnd.jupyter.widget-view+json": {
       "model_id": "",
       "version_major": 2,
       "version_minor": 0
      },
      "text/plain": [
       "FloatProgress(value=0.0, bar_style='info', description='Progress:', layout=Layout(height='25px', width='50%'),…"
      ]
     },
     "metadata": {},
     "output_type": "display_data"
    }
   ],
   "source": [
    "# Se genera objeto indicando de manera explicita atributos, vector objetivo y predicciones\n",
    "gbt_model = GBTClassifier(featuresCol='assembled_features',labelCol='label',\n",
    "                    predictionCol='open_pred')"
   ]
  },
  {
   "cell_type": "code",
   "execution_count": 319,
   "metadata": {},
   "outputs": [
    {
     "data": {
      "application/vnd.jupyter.widget-view+json": {
       "model_id": "",
       "version_major": 2,
       "version_minor": 0
      },
      "text/plain": [
       "FloatProgress(value=0.0, bar_style='info', description='Progress:', layout=Layout(height='25px', width='50%'),…"
      ]
     },
     "metadata": {},
     "output_type": "display_data"
    }
   ],
   "source": [
    "#Se entrena modelo gradient boosting\n",
    "gbt_model = gbt_model.fit(train)"
   ]
  },
  {
   "cell_type": "code",
   "execution_count": 320,
   "metadata": {},
   "outputs": [
    {
     "data": {
      "application/vnd.jupyter.widget-view+json": {
       "model_id": "",
       "version_major": 2,
       "version_minor": 0
      },
      "text/plain": [
       "FloatProgress(value=0.0, bar_style='info', description='Progress:', layout=Layout(height='25px', width='50%'),…"
      ]
     },
     "metadata": {},
     "output_type": "display_data"
    },
    {
     "name": "stdout",
     "output_type": "stream",
     "text": [
      "+-----+--------------------+--------------------+--------------------+---------+\n",
      "|label|  assembled_features|       rawPrediction|         probability|open_pred|\n",
      "+-----+--------------------+--------------------+--------------------+---------+\n",
      "|    0|(17,[0,1],[3.0,1.0])|[0.92004930751026...|[0.86296037003160...|      0.0|\n",
      "|    0|(17,[0,1],[3.0,1.0])|[0.92004930751026...|[0.86296037003160...|      0.0|\n",
      "|    0|(17,[0,1],[3.0,1.0])|[0.92004930751026...|[0.86296037003160...|      0.0|\n",
      "|    0|(17,[0,1],[3.0,1.0])|[0.92004930751026...|[0.86296037003160...|      0.0|\n",
      "|    0|(17,[0,1],[3.0,1.0])|[0.92004930751026...|[0.86296037003160...|      0.0|\n",
      "+-----+--------------------+--------------------+--------------------+---------+\n",
      "only showing top 5 rows"
     ]
    }
   ],
   "source": [
    "#Se visualiza comportamiento del modelo en cuanto a su probabilidad cruda, la normalizada y la mas probable\n",
    "gbt_model.transform(test).show(5)"
   ]
  },
  {
   "cell_type": "code",
   "execution_count": 321,
   "metadata": {},
   "outputs": [
    {
     "data": {
      "application/vnd.jupyter.widget-view+json": {
       "model_id": "",
       "version_major": 2,
       "version_minor": 0
      },
      "text/plain": [
       "FloatProgress(value=0.0, bar_style='info', description='Progress:', layout=Layout(height='25px', width='50%'),…"
      ]
     },
     "metadata": {},
     "output_type": "display_data"
    }
   ],
   "source": [
    "#Se guarda comportamiento en objeto gbt\n",
    "gbt = gbt_model.transform(test)"
   ]
  },
  {
   "cell_type": "code",
   "execution_count": 322,
   "metadata": {},
   "outputs": [
    {
     "data": {
      "application/vnd.jupyter.widget-view+json": {
       "model_id": "",
       "version_major": 2,
       "version_minor": 0
      },
      "text/plain": [
       "FloatProgress(value=0.0, bar_style='info', description='Progress:', layout=Layout(height='25px', width='50%'),…"
      ]
     },
     "metadata": {},
     "output_type": "display_data"
    },
    {
     "name": "stdout",
     "output_type": "stream",
     "text": [
      "Area Under ROC: 0.704484378921334"
     ]
    }
   ],
   "source": [
    "#Se indica puntaje roc gbt\n",
    "print(f\"Area Under ROC: {evaluator.evaluate(gbt)}\")"
   ]
  },
  {
   "cell_type": "code",
   "execution_count": 323,
   "metadata": {},
   "outputs": [
    {
     "data": {
      "application/vnd.jupyter.widget-view+json": {
       "model_id": "",
       "version_major": 2,
       "version_minor": 0
      },
      "text/plain": [
       "FloatProgress(value=0.0, bar_style='info', description='Progress:', layout=Layout(height='25px', width='50%'),…"
      ]
     },
     "metadata": {},
     "output_type": "display_data"
    }
   ],
   "source": [
    "## Se genera objeto indicando de manera explicita atributos, vector objetivo y predicciones\n",
    "dct_model = DecisionTreeClassifier(featuresCol='assembled_features',labelCol='label',\n",
    "                    predictionCol='open_pred')"
   ]
  },
  {
   "cell_type": "code",
   "execution_count": 324,
   "metadata": {},
   "outputs": [
    {
     "data": {
      "application/vnd.jupyter.widget-view+json": {
       "model_id": "",
       "version_major": 2,
       "version_minor": 0
      },
      "text/plain": [
       "FloatProgress(value=0.0, bar_style='info', description='Progress:', layout=Layout(height='25px', width='50%'),…"
      ]
     },
     "metadata": {},
     "output_type": "display_data"
    }
   ],
   "source": [
    "#Se entrena modelo decision tree classifier\n",
    "dct_model = dct_model.fit(train)"
   ]
  },
  {
   "cell_type": "code",
   "execution_count": 325,
   "metadata": {},
   "outputs": [
    {
     "data": {
      "application/vnd.jupyter.widget-view+json": {
       "model_id": "",
       "version_major": 2,
       "version_minor": 0
      },
      "text/plain": [
       "FloatProgress(value=0.0, bar_style='info', description='Progress:', layout=Layout(height='25px', width='50%'),…"
      ]
     },
     "metadata": {},
     "output_type": "display_data"
    },
    {
     "name": "stdout",
     "output_type": "stream",
     "text": [
      "+-----+--------------------+----------------+--------------------+---------+\n",
      "|label|  assembled_features|   rawPrediction|         probability|open_pred|\n",
      "+-----+--------------------+----------------+--------------------+---------+\n",
      "|    0|(17,[0,1],[3.0,1.0])|[71259.0,9213.0]|[0.88551297345660...|      0.0|\n",
      "|    0|(17,[0,1],[3.0,1.0])|[71259.0,9213.0]|[0.88551297345660...|      0.0|\n",
      "|    0|(17,[0,1],[3.0,1.0])|[71259.0,9213.0]|[0.88551297345660...|      0.0|\n",
      "|    0|(17,[0,1],[3.0,1.0])|[71259.0,9213.0]|[0.88551297345660...|      0.0|\n",
      "|    0|(17,[0,1],[3.0,1.0])|[71259.0,9213.0]|[0.88551297345660...|      0.0|\n",
      "+-----+--------------------+----------------+--------------------+---------+\n",
      "only showing top 5 rows"
     ]
    }
   ],
   "source": [
    "#Se visualiza comportamiento del modelo en cuanto a su probabilidad cruda, la normalizada y la mas probable\n",
    "dct_model.transform(test).show(5)"
   ]
  },
  {
   "cell_type": "code",
   "execution_count": 326,
   "metadata": {},
   "outputs": [
    {
     "data": {
      "application/vnd.jupyter.widget-view+json": {
       "model_id": "",
       "version_major": 2,
       "version_minor": 0
      },
      "text/plain": [
       "FloatProgress(value=0.0, bar_style='info', description='Progress:', layout=Layout(height='25px', width='50%'),…"
      ]
     },
     "metadata": {},
     "output_type": "display_data"
    }
   ],
   "source": [
    "#Se guarda su comportamiento en un objeto\n",
    "dct = dct_model.transform(test)"
   ]
  },
  {
   "cell_type": "code",
   "execution_count": 327,
   "metadata": {},
   "outputs": [
    {
     "data": {
      "application/vnd.jupyter.widget-view+json": {
       "model_id": "",
       "version_major": 2,
       "version_minor": 0
      },
      "text/plain": [
       "FloatProgress(value=0.0, bar_style='info', description='Progress:', layout=Layout(height='25px', width='50%'),…"
      ]
     },
     "metadata": {},
     "output_type": "display_data"
    },
    {
     "name": "stdout",
     "output_type": "stream",
     "text": [
      "Area Under ROC: 0.36349751197389435"
     ]
    }
   ],
   "source": [
    "#Se indica puntaje ROC\n",
    "print(f\"Area Under ROC: {evaluator.evaluate(dct)}\")"
   ]
  },
  {
   "cell_type": "code",
   "execution_count": 328,
   "metadata": {},
   "outputs": [
    {
     "data": {
      "application/vnd.jupyter.widget-view+json": {
       "model_id": "",
       "version_major": 2,
       "version_minor": 0
      },
      "text/plain": [
       "FloatProgress(value=0.0, bar_style='info', description='Progress:', layout=Layout(height='25px', width='50%'),…"
      ]
     },
     "metadata": {},
     "output_type": "display_data"
    },
    {
     "name": "stdout",
     "output_type": "stream",
     "text": [
      "SparseVector(17, {0: 0.2104, 1: 0.1841, 2: 0.0771, 3: 0.0004, 4: 0.1085, 5: 0.0018, 6: 0.1617, 7: 0.0251, 8: 0.0195, 9: 0.0027, 10: 0.031, 11: 0.0382, 12: 0.0045, 13: 0.0625, 14: 0.0398, 15: 0.0189, 16: 0.0138})"
     ]
    }
   ],
   "source": [
    "#Se indican importancias de los atributos \n",
    "gbt_model.featureImportances"
   ]
  },
  {
   "cell_type": "code",
   "execution_count": 329,
   "metadata": {},
   "outputs": [
    {
     "data": {
      "application/vnd.jupyter.widget-view+json": {
       "model_id": "",
       "version_major": 2,
       "version_minor": 0
      },
      "text/plain": [
       "FloatProgress(value=0.0, bar_style='info', description='Progress:', layout=Layout(height='25px', width='50%'),…"
      ]
     },
     "metadata": {},
     "output_type": "display_data"
    },
    {
     "name": "stdout",
     "output_type": "stream",
     "text": [
      "[(0.21043643080701604, 'review_count'), (0.184106795545111, 'stars'), (0.1616908057325615, 'food_related'), (0.10846847288536979, 'alcohol_consumption'), (0.07705823480821926, 'accepts_insurance'), (0.06253224214329314, 'kid_friendly'), (0.03981474556172798, 'expensive_restaurant'), (0.0382396455856052, 'has_tv'), (0.030977606079952362, 'free_wifi'), (0.025137524088466857, 'finance_related'), (0.019454306986342994, 'health_related'), (0.018858574540806618, 'loud_place'), (0.013844185514394588, 'happy_hour'), (0.004476831955784336, 'dog_friendly'), (0.002701146375408592, 'smoking'), (0.0018466945489796552, 'bitcoin_friendly'), (0.0003557568409600836, 'all_ages_allowed')]"
     ]
    }
   ],
   "source": [
    "#Se reportan los atributos por orden de importancia\n",
    "importances = list(zip(gbt_model.featureImportances, feats))\n",
    "importances.sort(reverse = True)\n",
    "importances"
   ]
  },
  {
   "cell_type": "markdown",
   "metadata": {},
   "source": [
    "Los atributos más importantes son review_count, stars y food_related"
   ]
  },
  {
   "cell_type": "code",
   "execution_count": null,
   "metadata": {},
   "outputs": [],
   "source": []
  }
 ],
 "metadata": {
  "kernelspec": {
   "display_name": "PySpark",
   "language": "python",
   "name": "pysparkkernel"
  },
  "language_info": {
   "codemirror_mode": {
    "name": "python",
    "version": 3
   },
   "file_extension": ".py",
   "mimetype": "text/x-python",
   "name": "pyspark",
   "pygments_lexer": "python3"
  }
 },
 "nbformat": 4,
 "nbformat_minor": 4
}
