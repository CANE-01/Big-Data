{
 "cells": [
  {
   "cell_type": "markdown",
   "id": "8ad4d296",
   "metadata": {},
   "source": [
    "Prueba 1 realizada por Cristóbal Novoa"
   ]
  },
  {
   "cell_type": "code",
   "execution_count": 1,
   "id": "08498032",
   "metadata": {},
   "outputs": [
    {
     "name": "stdout",
     "output_type": "stream",
     "text": [
      "Starting Spark application\n"
     ]
    },
    {
     "data": {
      "text/html": [
       "<table>\n",
       "<tr><th>ID</th><th>YARN Application ID</th><th>Kind</th><th>State</th><th>Spark UI</th><th>Driver log</th><th>User</th><th>Current session?</th></tr><tr><td>0</td><td>application_1639865383821_0001</td><td>pyspark</td><td>idle</td><td><a target=\"_blank\" href=\"http://ip-172-31-86-58.ec2.internal:20888/proxy/application_1639865383821_0001/\">Link</a></td><td><a target=\"_blank\" href=\"http://ip-172-31-82-23.ec2.internal:8042/node/containerlogs/container_1639865383821_0001_01_000001/livy\">Link</a></td><td>None</td><td>✔</td></tr></table>"
      ],
      "text/plain": [
       "<IPython.core.display.HTML object>"
      ]
     },
     "metadata": {},
     "output_type": "display_data"
    },
    {
     "data": {
      "application/vnd.jupyter.widget-view+json": {
       "model_id": "",
       "version_major": 2,
       "version_minor": 0
      },
      "text/plain": [
       "FloatProgress(value=0.0, bar_style='info', description='Progress:', layout=Layout(height='25px', width='50%'),…"
      ]
     },
     "metadata": {},
     "output_type": "display_data"
    },
    {
     "name": "stdout",
     "output_type": "stream",
     "text": [
      "SparkSession available as 'spark'.\n"
     ]
    },
    {
     "data": {
      "application/vnd.jupyter.widget-view+json": {
       "model_id": "",
       "version_major": 2,
       "version_minor": 0
      },
      "text/plain": [
       "FloatProgress(value=0.0, bar_style='info', description='Progress:', layout=Layout(height='25px', width='50%'),…"
      ]
     },
     "metadata": {},
     "output_type": "display_data"
    }
   ],
   "source": [
    "##Se importan librerias necesarias\n",
    "from pyspark.sql import SparkSession"
   ]
  },
  {
   "cell_type": "code",
   "execution_count": 2,
   "id": "b2b22629",
   "metadata": {},
   "outputs": [
    {
     "data": {
      "application/vnd.jupyter.widget-view+json": {
       "model_id": "",
       "version_major": 2,
       "version_minor": 0
      },
      "text/plain": [
       "FloatProgress(value=0.0, bar_style='info', description='Progress:', layout=Layout(height='25px', width='50%'),…"
      ]
     },
     "metadata": {},
     "output_type": "display_data"
    }
   ],
   "source": [
    "#Se indica ruta donde esta ubicado el parquet\n",
    "path ='s3://bigdata-desafio/transantiago/'"
   ]
  },
  {
   "cell_type": "code",
   "execution_count": 3,
   "id": "93f16b13",
   "metadata": {},
   "outputs": [
    {
     "data": {
      "application/vnd.jupyter.widget-view+json": {
       "model_id": "",
       "version_major": 2,
       "version_minor": 0
      },
      "text/plain": [
       "FloatProgress(value=0.0, bar_style='info', description='Progress:', layout=Layout(height='25px', width='50%'),…"
      ]
     },
     "metadata": {},
     "output_type": "display_data"
    }
   ],
   "source": [
    "#Se lee el parquet\n",
    "df = spark.read.parquet(path)"
   ]
  },
  {
   "cell_type": "code",
   "execution_count": 5,
   "id": "99b7df06",
   "metadata": {},
   "outputs": [
    {
     "data": {
      "application/vnd.jupyter.widget-view+json": {
       "model_id": "",
       "version_major": 2,
       "version_minor": 0
      },
      "text/plain": [
       "FloatProgress(value=0.0, bar_style='info', description='Progress:', layout=Layout(height='25px', width='50%'),…"
      ]
     },
     "metadata": {},
     "output_type": "display_data"
    },
    {
     "name": "stdout",
     "output_type": "stream",
     "text": [
      "root\n",
      " |-- fechahoratrx: timestamp (nullable = true)\n",
      " |-- codigoentidad: long (nullable = true)\n",
      " |-- nombreentidad: string (nullable = true)\n",
      " |-- codigositio: long (nullable = true)\n",
      " |-- nombresitio: string (nullable = true)\n",
      " |-- nrotarjeta: string (nullable = true)\n",
      " |-- day: integer (nullable = true)\n",
      " |-- from: integer (nullable = true)\n",
      " |-- to: integer (nullable = true)"
     ]
    }
   ],
   "source": [
    "#Se muestra Schema\n",
    "df.printSchema()"
   ]
  },
  {
   "cell_type": "code",
   "execution_count": 6,
   "id": "1649a471",
   "metadata": {},
   "outputs": [
    {
     "data": {
      "application/vnd.jupyter.widget-view+json": {
       "model_id": "",
       "version_major": 2,
       "version_minor": 0
      },
      "text/plain": [
       "FloatProgress(value=0.0, bar_style='info', description='Progress:', layout=Layout(height='25px', width='50%'),…"
      ]
     },
     "metadata": {},
     "output_type": "display_data"
    },
    {
     "name": "stdout",
     "output_type": "stream",
     "text": [
      "+-------------------+-------------+-------------+-----------+-----------+--------------------+--------+--------+--------+\n",
      "|       fechahoratrx|codigoentidad|nombreentidad|codigositio|nombresitio|          nrotarjeta|     day|    from|      to|\n",
      "+-------------------+-------------+-------------+-----------+-----------+--------------------+--------+--------+--------+\n",
      "|2018-08-08 06:17:00|            4| U4 - Express|       5517|    ZN-6156|10699ec735e3a7ef1...|20180903|20180827|20180829|\n",
      "|2018-08-08 06:17:03|            4| U4 - Express|       5517|    ZN-6156|43ce6a265f01a62f1...|20180903|20180827|20180829|\n",
      "|2018-08-08 06:17:40|            4| U4 - Express|       5517|    ZN-6156|b5476ff3fd038b53d...|20180903|20180827|20180829|\n",
      "|2018-08-08 06:17:44|            4| U4 - Express|       5517|    ZN-6156|c79b63a8c7112ea5f...|20180903|20180827|20180829|\n",
      "|2018-08-08 06:17:47|            4| U4 - Express|       5517|    ZN-6156|d2c27d8ff4b0f0701...|20180903|20180827|20180829|\n",
      "|2018-08-08 06:17:50|            4| U4 - Express|       5517|    ZN-6156|d692905b2918b5f0b...|20180903|20180827|20180829|\n",
      "|2018-08-08 06:17:53|            4| U4 - Express|       5517|    ZN-6156|8077be428d544836a...|20180903|20180827|20180829|\n",
      "|2018-08-08 06:17:56|            4| U4 - Express|       5517|    ZN-6156|d28587469af48c2de...|20180903|20180827|20180829|\n",
      "|2018-08-08 06:18:05|            4| U4 - Express|       5517|    ZN-6156|b7f460c9e1f8c5d76...|20180903|20180827|20180829|\n",
      "|2018-08-08 06:18:09|            4| U4 - Express|       5517|    ZN-6156|110524c289fa6e32a...|20180903|20180827|20180829|\n",
      "|2018-08-08 06:18:49|            4| U4 - Express|       5517|    ZN-6156|127f28fd397c04eb1...|20180903|20180827|20180829|\n",
      "|2018-08-08 06:18:53|            4| U4 - Express|       5517|    ZN-6156|a84a5ec62e8e4deae...|20180903|20180827|20180829|\n",
      "|2018-08-08 06:19:07|            4| U4 - Express|       5517|    ZN-6156|8a3af76f690691df2...|20180903|20180827|20180829|\n",
      "|2018-08-08 06:19:39|            4| U4 - Express|       5517|    ZN-6156|0883f3fd284ca0099...|20180903|20180827|20180829|\n",
      "|2018-08-08 06:20:21|            4| U4 - Express|       5517|    ZN-6156|d9ab95d677109453f...|20180903|20180827|20180829|\n",
      "|2018-08-08 06:20:27|            4| U4 - Express|       5517|    ZN-6156|2ecf2cafa93aa4a13...|20180903|20180827|20180829|\n",
      "|2018-08-08 06:20:31|            4| U4 - Express|       5517|    ZN-6156|e39afa4e2d9460263...|20180903|20180827|20180829|\n",
      "|2018-08-08 06:20:34|            4| U4 - Express|       5517|    ZN-6156|4f212d203506b113d...|20180903|20180827|20180829|\n",
      "|2018-08-08 06:20:38|            4| U4 - Express|       5517|    ZN-6156|52cfe948a2250c3ce...|20180903|20180827|20180829|\n",
      "|2018-08-08 06:20:41|            4| U4 - Express|       5517|    ZN-6156|8f052afbec6ba4df6...|20180903|20180827|20180829|\n",
      "+-------------------+-------------+-------------+-----------+-----------+--------------------+--------+--------+--------+\n",
      "only showing top 20 rows"
     ]
    }
   ],
   "source": [
    "#Se muestra el contenido del parquet\n",
    "df.show()"
   ]
  },
  {
   "cell_type": "code",
   "execution_count": 7,
   "id": "47951658",
   "metadata": {},
   "outputs": [
    {
     "data": {
      "application/vnd.jupyter.widget-view+json": {
       "model_id": "",
       "version_major": 2,
       "version_minor": 0
      },
      "text/plain": [
       "FloatProgress(value=0.0, bar_style='info', description='Progress:', layout=Layout(height='25px', width='50%'),…"
      ]
     },
     "metadata": {},
     "output_type": "display_data"
    }
   ],
   "source": [
    "#Se crea tabla temporal para realizar consultas SQL\n",
    "df.createOrReplaceTempView(\"ts_tb\")"
   ]
  },
  {
   "cell_type": "markdown",
   "id": "61243c87",
   "metadata": {},
   "source": [
    "Ejercicio 1: Operaciones básicas (1 Punto)\n",
    "● Determine:\n",
    "○ Cantidad de transacciones."
   ]
  },
  {
   "cell_type": "code",
   "execution_count": 8,
   "id": "b6d1622b",
   "metadata": {},
   "outputs": [
    {
     "data": {
      "application/vnd.jupyter.widget-view+json": {
       "model_id": "",
       "version_major": 2,
       "version_minor": 0
      },
      "text/plain": [
       "FloatProgress(value=0.0, bar_style='info', description='Progress:', layout=Layout(height='25px', width='50%'),…"
      ]
     },
     "metadata": {},
     "output_type": "display_data"
    },
    {
     "data": {
      "application/vnd.jupyter.widget-view+json": {
       "model_id": "8108482076294950842343303e211a91",
       "version_major": 2,
       "version_minor": 0
      },
      "text/plain": [
       "VBox(children=(HBox(children=(HTML(value='Type:'), Button(description='Table', layout=Layout(width='70px'), st…"
      ]
     },
     "metadata": {},
     "output_type": "display_data"
    },
    {
     "data": {
      "application/vnd.jupyter.widget-view+json": {
       "model_id": "82b2a124607445dab7acf43d3be1a223",
       "version_major": 2,
       "version_minor": 0
      },
      "text/plain": [
       "Output()"
      ]
     },
     "metadata": {},
     "output_type": "display_data"
    }
   ],
   "source": [
    "%%sql\n",
    "SELECT COUNT(1) as cantidad_transacciones\n",
    "FROM ts_tb"
   ]
  },
  {
   "cell_type": "markdown",
   "id": "e63b377b",
   "metadata": {},
   "source": [
    "La cantidad de transacciones realizadas es de 456532128"
   ]
  },
  {
   "cell_type": "markdown",
   "id": "a12e544e",
   "metadata": {},
   "source": [
    "○ Primera y última transacción en función de la columna fechahoratrx."
   ]
  },
  {
   "cell_type": "code",
   "execution_count": 9,
   "id": "fd8c75b0",
   "metadata": {},
   "outputs": [
    {
     "data": {
      "application/vnd.jupyter.widget-view+json": {
       "model_id": "",
       "version_major": 2,
       "version_minor": 0
      },
      "text/plain": [
       "FloatProgress(value=0.0, bar_style='info', description='Progress:', layout=Layout(height='25px', width='50%'),…"
      ]
     },
     "metadata": {},
     "output_type": "display_data"
    },
    {
     "data": {
      "application/vnd.jupyter.widget-view+json": {
       "model_id": "51565619d7d84506a0b2728755394d99",
       "version_major": 2,
       "version_minor": 0
      },
      "text/plain": [
       "VBox(children=(HBox(children=(HTML(value='Type:'), Button(description='Table', layout=Layout(width='70px'), st…"
      ]
     },
     "metadata": {},
     "output_type": "display_data"
    },
    {
     "data": {
      "application/vnd.jupyter.widget-view+json": {
       "model_id": "4b885ec0d92347bebc706c4d42a4528a",
       "version_major": 2,
       "version_minor": 0
      },
      "text/plain": [
       "Output()"
      ]
     },
     "metadata": {},
     "output_type": "display_data"
    }
   ],
   "source": [
    "%%sql\n",
    "SELECT *\n",
    "FROM ts_tb\n",
    "ORDER BY fechahoratrx\n",
    "LIMIT 1"
   ]
  },
  {
   "cell_type": "markdown",
   "id": "fc95e628",
   "metadata": {},
   "source": [
    "La primera transacción realizada fue el 16 de Abril del 2016"
   ]
  },
  {
   "cell_type": "code",
   "execution_count": 10,
   "id": "a1e0ba45",
   "metadata": {},
   "outputs": [
    {
     "data": {
      "application/vnd.jupyter.widget-view+json": {
       "model_id": "",
       "version_major": 2,
       "version_minor": 0
      },
      "text/plain": [
       "FloatProgress(value=0.0, bar_style='info', description='Progress:', layout=Layout(height='25px', width='50%'),…"
      ]
     },
     "metadata": {},
     "output_type": "display_data"
    },
    {
     "data": {
      "application/vnd.jupyter.widget-view+json": {
       "model_id": "898f6c28bf4e49bba177d8d759e4070c",
       "version_major": 2,
       "version_minor": 0
      },
      "text/plain": [
       "VBox(children=(HBox(children=(HTML(value='Type:'), Button(description='Table', layout=Layout(width='70px'), st…"
      ]
     },
     "metadata": {},
     "output_type": "display_data"
    },
    {
     "data": {
      "application/vnd.jupyter.widget-view+json": {
       "model_id": "93fffd7a72a04d6d8151b4e8fcf8488a",
       "version_major": 2,
       "version_minor": 0
      },
      "text/plain": [
       "Output()"
      ]
     },
     "metadata": {},
     "output_type": "display_data"
    }
   ],
   "source": [
    "%%sql\n",
    "SELECT * \n",
    "FROM ts_tb\n",
    "ORDER BY fechahoratrx DESC \n",
    "LIMIT 1"
   ]
  },
  {
   "cell_type": "markdown",
   "id": "e114b02a",
   "metadata": {},
   "source": [
    "La última transacción realizada fue el 03 de Septiembre del 2018"
   ]
  },
  {
   "cell_type": "markdown",
   "id": "a57c8331",
   "metadata": {},
   "source": [
    "Ejercicio 2: Operadores del servicio (1 punto)\n",
    "● Liste los distintos operadores.\n"
   ]
  },
  {
   "cell_type": "code",
   "execution_count": 11,
   "id": "09d43c39",
   "metadata": {},
   "outputs": [
    {
     "data": {
      "application/vnd.jupyter.widget-view+json": {
       "model_id": "",
       "version_major": 2,
       "version_minor": 0
      },
      "text/plain": [
       "FloatProgress(value=0.0, bar_style='info', description='Progress:', layout=Layout(height='25px', width='50%'),…"
      ]
     },
     "metadata": {},
     "output_type": "display_data"
    },
    {
     "data": {
      "application/vnd.jupyter.widget-view+json": {
       "model_id": "efb451792132454e9666ed0ca573f3e7",
       "version_major": 2,
       "version_minor": 0
      },
      "text/plain": [
       "VBox(children=(HBox(children=(HTML(value='Type:'), Button(description='Table', layout=Layout(width='70px'), st…"
      ]
     },
     "metadata": {},
     "output_type": "display_data"
    },
    {
     "data": {
      "application/vnd.jupyter.widget-view+json": {
       "model_id": "9c896241fac640ebad4b4d3ba4d0ef77",
       "version_major": 2,
       "version_minor": 0
      },
      "text/plain": [
       "Output()"
      ]
     },
     "metadata": {},
     "output_type": "display_data"
    }
   ],
   "source": [
    "%%sql\n",
    "SELECT DISTINCT nombreentidad\n",
    "FROM ts_tb"
   ]
  },
  {
   "cell_type": "markdown",
   "id": "d0556041",
   "metadata": {},
   "source": [
    "La lista de operadores es la indicada en la query"
   ]
  },
  {
   "cell_type": "markdown",
   "id": "041180a3",
   "metadata": {},
   "source": [
    "● Muestre la cantidad de transacciones para cada operador."
   ]
  },
  {
   "cell_type": "code",
   "execution_count": 12,
   "id": "3390e135",
   "metadata": {},
   "outputs": [
    {
     "data": {
      "application/vnd.jupyter.widget-view+json": {
       "model_id": "",
       "version_major": 2,
       "version_minor": 0
      },
      "text/plain": [
       "FloatProgress(value=0.0, bar_style='info', description='Progress:', layout=Layout(height='25px', width='50%'),…"
      ]
     },
     "metadata": {},
     "output_type": "display_data"
    },
    {
     "data": {
      "application/vnd.jupyter.widget-view+json": {
       "model_id": "e064bec372e64f54a67ba27ba44f569d",
       "version_major": 2,
       "version_minor": 0
      },
      "text/plain": [
       "VBox(children=(HBox(children=(HTML(value='Type:'), Button(description='Table', layout=Layout(width='70px'), st…"
      ]
     },
     "metadata": {},
     "output_type": "display_data"
    },
    {
     "data": {
      "application/vnd.jupyter.widget-view+json": {
       "model_id": "73d9283cb6724c3f94edddae19132890",
       "version_major": 2,
       "version_minor": 0
      },
      "text/plain": [
       "Output()"
      ]
     },
     "metadata": {},
     "output_type": "display_data"
    }
   ],
   "source": [
    "%%sql\n",
    "SELECT nombreentidad, COUNT(*) as cantidad_transacciones\n",
    "FROM ts_tb\n",
    "GROUP BY nombreentidad"
   ]
  },
  {
   "cell_type": "markdown",
   "id": "e5325bf9",
   "metadata": {},
   "source": [
    "La cantidad de transacciones realizadas para cada operador es la indicada en la query"
   ]
  },
  {
   "cell_type": "markdown",
   "id": "4da88250",
   "metadata": {},
   "source": [
    "Ejercicio 3: Tarjetas Bip! (4 Puntos)\n",
    "● Muestre las 20 tarjetas con más transacciones. (2 Puntos)"
   ]
  },
  {
   "cell_type": "code",
   "execution_count": 14,
   "id": "0b077388",
   "metadata": {},
   "outputs": [
    {
     "data": {
      "application/vnd.jupyter.widget-view+json": {
       "model_id": "",
       "version_major": 2,
       "version_minor": 0
      },
      "text/plain": [
       "FloatProgress(value=0.0, bar_style='info', description='Progress:', layout=Layout(height='25px', width='50%'),…"
      ]
     },
     "metadata": {},
     "output_type": "display_data"
    },
    {
     "data": {
      "application/vnd.jupyter.widget-view+json": {
       "model_id": "93a91e46474b4aaf8c4ec6b88801a659",
       "version_major": 2,
       "version_minor": 0
      },
      "text/plain": [
       "VBox(children=(HBox(children=(HTML(value='Type:'), Button(description='Table', layout=Layout(width='70px'), st…"
      ]
     },
     "metadata": {},
     "output_type": "display_data"
    },
    {
     "data": {
      "application/vnd.jupyter.widget-view+json": {
       "model_id": "7bb8ed2dbe414c8da97aa9fe1003a942",
       "version_major": 2,
       "version_minor": 0
      },
      "text/plain": [
       "Output()"
      ]
     },
     "metadata": {},
     "output_type": "display_data"
    }
   ],
   "source": [
    "%%sql\n",
    "SELECT DISTINCT nrotarjeta, COUNT(*) as numero_transacciones \n",
    "FROM ts_tb\n",
    "GROUP BY nrotarjeta\n",
    "ORDER BY numero_transacciones DESC\n",
    "LIMIT 20"
   ]
  },
  {
   "cell_type": "markdown",
   "id": "94d20794",
   "metadata": {},
   "source": [
    "Se indica en la query las 20 tarjetas con más transacciones"
   ]
  },
  {
   "cell_type": "markdown",
   "id": "537c9b61",
   "metadata": {},
   "source": [
    "● Cuente todas las tarjetas que posean más de 2 transacciones por día. (2 Puntos)"
   ]
  },
  {
   "cell_type": "code",
   "execution_count": 16,
   "id": "5e1e9e63",
   "metadata": {},
   "outputs": [
    {
     "data": {
      "application/vnd.jupyter.widget-view+json": {
       "model_id": "",
       "version_major": 2,
       "version_minor": 0
      },
      "text/plain": [
       "FloatProgress(value=0.0, bar_style='info', description='Progress:', layout=Layout(height='25px', width='50%'),…"
      ]
     },
     "metadata": {},
     "output_type": "display_data"
    },
    {
     "data": {
      "application/vnd.jupyter.widget-view+json": {
       "model_id": "d42ee0abb8e84e6baeff0be271b30669",
       "version_major": 2,
       "version_minor": 0
      },
      "text/plain": [
       "VBox(children=(HBox(children=(HTML(value='Type:'), Button(description='Table', layout=Layout(width='70px'), st…"
      ]
     },
     "metadata": {},
     "output_type": "display_data"
    },
    {
     "data": {
      "application/vnd.jupyter.widget-view+json": {
       "model_id": "d8654c9cc78d493fb2e6c46d657de7f2",
       "version_major": 2,
       "version_minor": 0
      },
      "text/plain": [
       "Output()"
      ]
     },
     "metadata": {},
     "output_type": "display_data"
    }
   ],
   "source": [
    "%%sql\n",
    "SELECT COUNT(DISTINCT nrotarjeta)\n",
    "FROM(\n",
    "SELECT nrotarjeta, CAST(fechahoratrx AS date) AS fecha, COUNT(nrotarjeta) AS conteo_tarjetas\n",
    "FROM ts_tb\n",
    "GROUP BY nrotarjeta, fecha\n",
    "HAVING conteo_tarjetas > 2\n",
    ")TEMP"
   ]
  },
  {
   "cell_type": "markdown",
   "id": "2f50b939",
   "metadata": {},
   "source": [
    "La cantidad de tarjetas con más de 2 transacciones por día son 5353814"
   ]
  },
  {
   "cell_type": "markdown",
   "id": "8893fbfd",
   "metadata": {},
   "source": [
    "Ejercicio 4: Fechas y rangos de horario (4 Puntos)\n",
    "● Determine los 10 días con más transacciones. (1 Punto)"
   ]
  },
  {
   "cell_type": "code",
   "execution_count": 18,
   "id": "c15c3abe",
   "metadata": {},
   "outputs": [
    {
     "data": {
      "application/vnd.jupyter.widget-view+json": {
       "model_id": "",
       "version_major": 2,
       "version_minor": 0
      },
      "text/plain": [
       "FloatProgress(value=0.0, bar_style='info', description='Progress:', layout=Layout(height='25px', width='50%'),…"
      ]
     },
     "metadata": {},
     "output_type": "display_data"
    },
    {
     "data": {
      "application/vnd.jupyter.widget-view+json": {
       "model_id": "3e5edb3cb3814a8290ff68ba24aae841",
       "version_major": 2,
       "version_minor": 0
      },
      "text/plain": [
       "VBox(children=(HBox(children=(HTML(value='Type:'), Button(description='Table', layout=Layout(width='70px'), st…"
      ]
     },
     "metadata": {},
     "output_type": "display_data"
    },
    {
     "data": {
      "application/vnd.jupyter.widget-view+json": {
       "model_id": "08392c4cb9c641619a840b4bd98d4a42",
       "version_major": 2,
       "version_minor": 0
      },
      "text/plain": [
       "Output()"
      ]
     },
     "metadata": {},
     "output_type": "display_data"
    }
   ],
   "source": [
    "%%sql\n",
    "SELECT CAST(fechahoratrx AS date) AS dia, COUNT(*) AS transacciones\n",
    "FROM ts_tb\n",
    "WHERE \n",
    "GROUP BY dia\n",
    "ORDER BY transacciones DESC\n",
    "LIMIT 10"
   ]
  },
  {
   "cell_type": "markdown",
   "id": "34eca153",
   "metadata": {},
   "source": [
    "Se indican en la query los días con más transacciones"
   ]
  },
  {
   "cell_type": "markdown",
   "id": "951bbc62",
   "metadata": {},
   "source": [
    "● Realice una comparación de la cantidad de transacciones por hora para cada\n",
    "operador. Muestre sus resultados en un gráfico donde el eje X sea la hora del día y el\n",
    "eje Y la cantidad de transacciones. (3 Puntos)"
   ]
  },
  {
   "cell_type": "code",
   "execution_count": 19,
   "id": "0aea2a4a",
   "metadata": {},
   "outputs": [
    {
     "data": {
      "application/vnd.jupyter.widget-view+json": {
       "model_id": "",
       "version_major": 2,
       "version_minor": 0
      },
      "text/plain": [
       "FloatProgress(value=0.0, bar_style='info', description='Progress:', layout=Layout(height='25px', width='50%'),…"
      ]
     },
     "metadata": {},
     "output_type": "display_data"
    }
   ],
   "source": [
    "#Se importan librerias\n",
    "import pyspark\n",
    "import pyspark.sql.functions as f"
   ]
  },
  {
   "cell_type": "code",
   "execution_count": 20,
   "id": "a75082cd",
   "metadata": {},
   "outputs": [
    {
     "name": "stdout",
     "output_type": "stream",
     "text": [
      "Requirement already satisfied: matplotlib in /opt/conda/lib/python3.9/site-packages (3.4.2)\n",
      "Requirement already satisfied: pillow>=6.2.0 in /opt/conda/lib/python3.9/site-packages (from matplotlib) (8.3.1)\n",
      "Requirement already satisfied: python-dateutil>=2.7 in /opt/conda/lib/python3.9/site-packages (from matplotlib) (2.8.2)\n",
      "Requirement already satisfied: cycler>=0.10 in /opt/conda/lib/python3.9/site-packages (from matplotlib) (0.10.0)\n",
      "Requirement already satisfied: numpy>=1.16 in /opt/conda/lib/python3.9/site-packages (from matplotlib) (1.21.1)\n",
      "Requirement already satisfied: pyparsing>=2.2.1 in /opt/conda/lib/python3.9/site-packages (from matplotlib) (2.4.7)\n",
      "Requirement already satisfied: kiwisolver>=1.0.1 in /opt/conda/lib/python3.9/site-packages (from matplotlib) (1.3.1)\n",
      "Requirement already satisfied: six in /opt/conda/lib/python3.9/site-packages (from cycler>=0.10->matplotlib) (1.16.0)\n",
      "Collecting seaborn\n",
      "  Downloading seaborn-0.11.2-py3-none-any.whl (292 kB)\n",
      "\u001b[K     |████████████████████████████████| 292 kB 8.5 MB/s eta 0:00:01\n",
      "\u001b[?25hRequirement already satisfied: pandas>=0.23 in /opt/conda/lib/python3.9/site-packages (from seaborn) (1.3.1)\n",
      "Requirement already satisfied: scipy>=1.0 in /opt/conda/lib/python3.9/site-packages (from seaborn) (1.7.0)\n",
      "Requirement already satisfied: numpy>=1.15 in /opt/conda/lib/python3.9/site-packages (from seaborn) (1.21.1)\n",
      "Requirement already satisfied: matplotlib>=2.2 in /opt/conda/lib/python3.9/site-packages (from seaborn) (3.4.2)\n",
      "Requirement already satisfied: pyparsing>=2.2.1 in /opt/conda/lib/python3.9/site-packages (from matplotlib>=2.2->seaborn) (2.4.7)\n",
      "Requirement already satisfied: cycler>=0.10 in /opt/conda/lib/python3.9/site-packages (from matplotlib>=2.2->seaborn) (0.10.0)\n",
      "Requirement already satisfied: pillow>=6.2.0 in /opt/conda/lib/python3.9/site-packages (from matplotlib>=2.2->seaborn) (8.3.1)\n",
      "Requirement already satisfied: python-dateutil>=2.7 in /opt/conda/lib/python3.9/site-packages (from matplotlib>=2.2->seaborn) (2.8.2)\n",
      "Requirement already satisfied: kiwisolver>=1.0.1 in /opt/conda/lib/python3.9/site-packages (from matplotlib>=2.2->seaborn) (1.3.1)\n",
      "Requirement already satisfied: six in /opt/conda/lib/python3.9/site-packages (from cycler>=0.10->matplotlib>=2.2->seaborn) (1.16.0)\n",
      "Requirement already satisfied: pytz>=2017.3 in /opt/conda/lib/python3.9/site-packages (from pandas>=0.23->seaborn) (2021.1)\n",
      "Installing collected packages: seaborn\n",
      "Successfully installed seaborn-0.11.2\n"
     ]
    }
   ],
   "source": [
    "%%local\n",
    "#Se instalan librerias en local\n",
    "!pip3 install matplotlib\n",
    "!pip3 install seaborn"
   ]
  },
  {
   "cell_type": "code",
   "execution_count": 21,
   "id": "f3f13a16",
   "metadata": {},
   "outputs": [],
   "source": [
    "%%local\n",
    "#Se importan librerias necesarias para graficar \n",
    "\n",
    "import matplotlib.pyplot as plt\n",
    "import seaborn as sns"
   ]
  },
  {
   "cell_type": "code",
   "execution_count": 22,
   "id": "fa50af76",
   "metadata": {},
   "outputs": [
    {
     "data": {
      "application/vnd.jupyter.widget-view+json": {
       "model_id": "",
       "version_major": 2,
       "version_minor": 0
      },
      "text/plain": [
       "FloatProgress(value=0.0, bar_style='info', description='Progress:', layout=Layout(height='25px', width='50%'),…"
      ]
     },
     "metadata": {},
     "output_type": "display_data"
    },
    {
     "data": {
      "application/vnd.jupyter.widget-view+json": {
       "model_id": "",
       "version_major": 2,
       "version_minor": 0
      },
      "text/plain": [
       "FloatProgress(value=0.0, bar_style='info', description='Progress:', layout=Layout(height='25px', width='50%'),…"
      ]
     },
     "metadata": {},
     "output_type": "display_data"
    }
   ],
   "source": [
    "%%spark -o dfx\n",
    "\n",
    "#Se genera tabla para obtener data de la grafica comparativa\n",
    "dfx = df\\\n",
    "    .select(f.hour('fechahoratrx').alias('hora'), df.codigoentidad.alias('codigo_operador'), df.nombreentidad.alias('nombre_operador'))\\\n",
    "    .groupBy(\"nombre_operador\", \"hora\").count().orderBy(\"hora\", ascending=True)"
   ]
  },
  {
   "cell_type": "code",
   "execution_count": 23,
   "id": "12542594",
   "metadata": {},
   "outputs": [
    {
     "data": {
      "application/vnd.jupyter.widget-view+json": {
       "model_id": "c0589f4ff43d42c58f1371356a42e2e0",
       "version_major": 2,
       "version_minor": 0
      },
      "text/plain": [
       "VBox(children=(HBox(children=(HTML(value='Type:'), Button(description='Table', layout=Layout(width='70px'), st…"
      ]
     },
     "metadata": {},
     "output_type": "display_data"
    },
    {
     "data": {
      "application/vnd.jupyter.widget-view+json": {
       "model_id": "eee5969be4324f90b102a061166ea575",
       "version_major": 2,
       "version_minor": 0
      },
      "text/plain": [
       "Output()"
      ]
     },
     "metadata": {},
     "output_type": "display_data"
    }
   ],
   "source": [
    "%%local\n",
    "#Se muestran primeros resultados\n",
    "dfx.head()"
   ]
  },
  {
   "cell_type": "code",
   "execution_count": 24,
   "id": "858686bf",
   "metadata": {},
   "outputs": [
    {
     "data": {
      "image/png": "[encoded data removed]",
      "text/plain": [
       "<Figure size 1152x720 with 1 Axes>"
      ]
     },
     "metadata": {
      "needs_background": "light"
     },
     "output_type": "display_data"
    }
   ],
   "source": [
    "%%local\n",
    "#Se genera grafica comparativa hora-transacciones por operador\n",
    "plt.figure(figsize=(16,10))\n",
    "sns.lineplot(data = dfx, y = 'count', x = 'hora', hue = 'nombre_operador')\n",
    "plt.title('Comparativa  hora - transacciones por operador', fontsize = 18)\n",
    "plt.show()"
   ]
  }
 ],
 "metadata": {
  "kernelspec": {
   "display_name": "PySpark",
   "language": "python",
   "name": "pysparkkernel"
  },
  "language_info": {
   "codemirror_mode": {
    "name": "python",
    "version": 3
   },
   "file_extension": ".py",
   "mimetype": "text/x-python",
   "name": "pyspark",
   "pygments_lexer": "python3"
  }
 },
 "nbformat": 4,
 "nbformat_minor": 5
}
