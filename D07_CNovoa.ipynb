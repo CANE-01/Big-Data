{
 "cells": [
  {
   "cell_type": "markdown",
   "metadata": {},
   "source": [
    "## Ejercicio 1: Preliminares y datos perdidos"
   ]
  },
  {
   "cell_type": "markdown",
   "metadata": {},
   "source": [
    "### Genere los objetos SparkConf y SparkContext ."
   ]
  },
  {
   "cell_type": "code",
   "execution_count": 1,
   "metadata": {},
   "outputs": [
    {
     "name": "stdout",
     "output_type": "stream",
     "text": [
      "Starting Spark application\n"
     ]
    },
    {
     "data": {
      "text/html": [
       "<table>\n",
       "<tr><th>ID</th><th>YARN Application ID</th><th>Kind</th><th>State</th><th>Spark UI</th><th>Driver log</th><th>User</th><th>Current session?</th></tr><tr><td>0</td><td>application_1639255716588_0001</td><td>pyspark</td><td>idle</td><td><a target=\"_blank\" href=\"http://ip-172-31-86-64.ec2.internal:20888/proxy/application_1639255716588_0001/\">Link</a></td><td><a target=\"_blank\" href=\"http://ip-172-31-83-162.ec2.internal:8042/node/containerlogs/container_1639255716588_0001_01_000001/livy\">Link</a></td><td>None</td><td>✔</td></tr></table>"
      ],
      "text/plain": [
       "<IPython.core.display.HTML object>"
      ]
     },
     "metadata": {},
     "output_type": "display_data"
    },
    {
     "data": {
      "application/vnd.jupyter.widget-view+json": {
       "model_id": "",
       "version_major": 2,
       "version_minor": 0
      },
      "text/plain": [
       "FloatProgress(value=0.0, bar_style='info', description='Progress:', layout=Layout(height='25px', width='50%'),…"
      ]
     },
     "metadata": {},
     "output_type": "display_data"
    },
    {
     "name": "stdout",
     "output_type": "stream",
     "text": [
      "SparkSession available as 'spark'.\n"
     ]
    },
    {
     "data": {
      "application/vnd.jupyter.widget-view+json": {
       "model_id": "",
       "version_major": 2,
       "version_minor": 0
      },
      "text/plain": [
       "FloatProgress(value=0.0, bar_style='info', description='Progress:', layout=Layout(height='25px', width='50%'),…"
      ]
     },
     "metadata": {},
     "output_type": "display_data"
    },
    {
     "name": "stdout",
     "output_type": "stream",
     "text": [
      "<SparkContext master=yarn appName=livy-session-0>"
     ]
    }
   ],
   "source": [
    "#inspeccionamos el SparkContex\n",
    "sc"
   ]
  },
  {
   "cell_type": "markdown",
   "metadata": {},
   "source": [
    "### Genere los objetos SparkConf y SparkContext ."
   ]
  },
  {
   "cell_type": "code",
   "execution_count": 2,
   "metadata": {},
   "outputs": [
    {
     "data": {
      "application/vnd.jupyter.widget-view+json": {
       "model_id": "",
       "version_major": 2,
       "version_minor": 0
      },
      "text/plain": [
       "FloatProgress(value=0.0, bar_style='info', description='Progress:', layout=Layout(height='25px', width='50%'),…"
      ]
     },
     "metadata": {},
     "output_type": "display_data"
    }
   ],
   "source": [
    "#importamos la data\n",
    "hpc = sc.textFile('s3://bigdata-desafio/challenges/u4lec1/household_power_consumption.txt')"
   ]
  },
  {
   "cell_type": "code",
   "execution_count": 3,
   "metadata": {},
   "outputs": [
    {
     "data": {
      "application/vnd.jupyter.widget-view+json": {
       "model_id": "",
       "version_major": 2,
       "version_minor": 0
      },
      "text/plain": [
       "FloatProgress(value=0.0, bar_style='info', description='Progress:', layout=Layout(height='25px', width='50%'),…"
      ]
     },
     "metadata": {},
     "output_type": "display_data"
    },
    {
     "name": "stdout",
     "output_type": "stream",
     "text": [
      "['Date;Time;Global_active_power;Global_reactive_power;Voltage;Global_intensity;Sub_metering_1;Sub_metering_2;Sub_metering_3', '16/12/2006;17:24:00;4.216;0.418;234.840;18.400;0.000;1.000;17.000']"
     ]
    }
   ],
   "source": [
    "#la inspeccionamos\n",
    "hpc.take(2)"
   ]
  },
  {
   "cell_type": "markdown",
   "metadata": {},
   "source": [
    "### El primer registro del archivo corresponde a las etiquetas asociadas a cada columna. Elimínelo de su RDD."
   ]
  },
  {
   "cell_type": "code",
   "execution_count": 4,
   "metadata": {},
   "outputs": [
    {
     "data": {
      "application/vnd.jupyter.widget-view+json": {
       "model_id": "",
       "version_major": 2,
       "version_minor": 0
      },
      "text/plain": [
       "FloatProgress(value=0.0, bar_style='info', description='Progress:', layout=Layout(height='25px', width='50%'),…"
      ]
     },
     "metadata": {},
     "output_type": "display_data"
    },
    {
     "name": "stdout",
     "output_type": "stream",
     "text": [
      "'Date;Time;Global_active_power;Global_reactive_power;Voltage;Global_intensity;Sub_metering_1;Sub_metering_2;Sub_metering_3'"
     ]
    }
   ],
   "source": [
    "#obtenemos el listado de columnas\n",
    "hpc_columnas = hpc.first()\n",
    "hpc_columnas"
   ]
  },
  {
   "cell_type": "code",
   "execution_count": 5,
   "metadata": {},
   "outputs": [
    {
     "data": {
      "application/vnd.jupyter.widget-view+json": {
       "model_id": "",
       "version_major": 2,
       "version_minor": 0
      },
      "text/plain": [
       "FloatProgress(value=0.0, bar_style='info', description='Progress:', layout=Layout(height='25px', width='50%'),…"
      ]
     },
     "metadata": {},
     "output_type": "display_data"
    }
   ],
   "source": [
    "#creamos un RDD sin los nombres de las columnas\n",
    "hpc_data = hpc.filter(lambda x: x != hpc_columnas)"
   ]
  },
  {
   "cell_type": "code",
   "execution_count": 6,
   "metadata": {},
   "outputs": [
    {
     "data": {
      "application/vnd.jupyter.widget-view+json": {
       "model_id": "",
       "version_major": 2,
       "version_minor": 0
      },
      "text/plain": [
       "FloatProgress(value=0.0, bar_style='info', description='Progress:', layout=Layout(height='25px', width='50%'),…"
      ]
     },
     "metadata": {},
     "output_type": "display_data"
    },
    {
     "name": "stdout",
     "output_type": "stream",
     "text": [
      "['16/12/2006;17:24:00;4.216;0.418;234.840;18.400;0.000;1.000;17.000']"
     ]
    }
   ],
   "source": [
    "#lo revisamos\n",
    "hpc_data.take(1)"
   ]
  },
  {
   "cell_type": "markdown",
   "metadata": {},
   "source": [
    "### Cada campo dentro del registro está separado por un ; . Separe cada campo del registro por éste caracter."
   ]
  },
  {
   "cell_type": "code",
   "execution_count": 7,
   "metadata": {},
   "outputs": [
    {
     "data": {
      "application/vnd.jupyter.widget-view+json": {
       "model_id": "",
       "version_major": 2,
       "version_minor": 0
      },
      "text/plain": [
       "FloatProgress(value=0.0, bar_style='info', description='Progress:', layout=Layout(height='25px', width='50%'),…"
      ]
     },
     "metadata": {},
     "output_type": "display_data"
    }
   ],
   "source": [
    "#creamos un RDD con los datos separados por ;\n",
    "hcp_data_splitted = hpc_data.map(lambda x: x.split(';'))"
   ]
  },
  {
   "cell_type": "code",
   "execution_count": 8,
   "metadata": {},
   "outputs": [
    {
     "data": {
      "application/vnd.jupyter.widget-view+json": {
       "model_id": "",
       "version_major": 2,
       "version_minor": 0
      },
      "text/plain": [
       "FloatProgress(value=0.0, bar_style='info', description='Progress:', layout=Layout(height='25px', width='50%'),…"
      ]
     },
     "metadata": {},
     "output_type": "display_data"
    },
    {
     "name": "stdout",
     "output_type": "stream",
     "text": [
      "[['16/12/2006', '17:24:00', '4.216', '0.418', '234.840', '18.400', '0.000', '1.000', '17.000']]"
     ]
    }
   ],
   "source": [
    "#lo revisamos\n",
    "hcp_data_splitted.take(1)"
   ]
  },
  {
   "cell_type": "markdown",
   "metadata": {},
   "source": [
    "### Reporte las siguientes métricas:"
   ]
  },
  {
   "cell_type": "markdown",
   "metadata": {},
   "source": [
    "### * La cantidad total de registros antes de eliminar los datos perdidos."
   ]
  },
  {
   "cell_type": "code",
   "execution_count": 9,
   "metadata": {},
   "outputs": [
    {
     "data": {
      "application/vnd.jupyter.widget-view+json": {
       "model_id": "",
       "version_major": 2,
       "version_minor": 0
      },
      "text/plain": [
       "FloatProgress(value=0.0, bar_style='info', description='Progress:', layout=Layout(height='25px', width='50%'),…"
      ]
     },
     "metadata": {},
     "output_type": "display_data"
    }
   ],
   "source": [
    "#contamos la data total incluyendo los datos perdidos\n",
    "total_datos = hcp_data_splitted.count()"
   ]
  },
  {
   "cell_type": "code",
   "execution_count": 10,
   "metadata": {},
   "outputs": [
    {
     "data": {
      "application/vnd.jupyter.widget-view+json": {
       "model_id": "",
       "version_major": 2,
       "version_minor": 0
      },
      "text/plain": [
       "FloatProgress(value=0.0, bar_style='info', description='Progress:', layout=Layout(height='25px', width='50%'),…"
      ]
     },
     "metadata": {},
     "output_type": "display_data"
    },
    {
     "name": "stdout",
     "output_type": "stream",
     "text": [
      "Cantidad total de registros antes de eliminar los datos perdidos: ==> \u001b[1m2075259\u001b[0m"
     ]
    }
   ],
   "source": [
    "#lo reportamos\n",
    "print(f\"Cantidad total de registros antes de eliminar los datos perdidos: ==> \\033[1m{total_datos}\\033[0m\")"
   ]
  },
  {
   "cell_type": "markdown",
   "metadata": {},
   "source": [
    "### * La cantidad total de registros nulos."
   ]
  },
  {
   "cell_type": "code",
   "execution_count": 11,
   "metadata": {},
   "outputs": [
    {
     "data": {
      "application/vnd.jupyter.widget-view+json": {
       "model_id": "",
       "version_major": 2,
       "version_minor": 0
      },
      "text/plain": [
       "FloatProgress(value=0.0, bar_style='info', description='Progress:', layout=Layout(height='25px', width='50%'),…"
      ]
     },
     "metadata": {},
     "output_type": "display_data"
    }
   ],
   "source": [
    "#almacenamos los registros con datos nulos y los contamos\n",
    "datos_perdidos = hcp_data_splitted.filter(lambda x: x.count('?') > 0 )\n",
    "total_datos_nulos = datos_perdidos.count()"
   ]
  },
  {
   "cell_type": "code",
   "execution_count": 12,
   "metadata": {},
   "outputs": [
    {
     "data": {
      "application/vnd.jupyter.widget-view+json": {
       "model_id": "",
       "version_major": 2,
       "version_minor": 0
      },
      "text/plain": [
       "FloatProgress(value=0.0, bar_style='info', description='Progress:', layout=Layout(height='25px', width='50%'),…"
      ]
     },
     "metadata": {},
     "output_type": "display_data"
    },
    {
     "name": "stdout",
     "output_type": "stream",
     "text": [
      "Cantidad total de datos nulos: ==> \u001b[1m25979\u001b[0m"
     ]
    }
   ],
   "source": [
    "#reportamos el total\n",
    "print(f\"Cantidad total de datos nulos: ==> \\033[1m{total_datos_nulos}\\033[0m\")"
   ]
  },
  {
   "cell_type": "markdown",
   "metadata": {},
   "source": [
    "###  * La cantidad de registros nulos por año. ¿En qué año hubo más registros nulos?"
   ]
  },
  {
   "cell_type": "code",
   "execution_count": 13,
   "metadata": {},
   "outputs": [
    {
     "data": {
      "application/vnd.jupyter.widget-view+json": {
       "model_id": "",
       "version_major": 2,
       "version_minor": 0
      },
      "text/plain": [
       "FloatProgress(value=0.0, bar_style='info', description='Progress:', layout=Layout(height='25px', width='50%'),…"
      ]
     },
     "metadata": {},
     "output_type": "display_data"
    }
   ],
   "source": [
    "#creamos un RDD con los datos nulos por año\n",
    "datos_nulos_ano = datos_perdidos\\\n",
    "    .map(lambda x: (int(x[0].split('/')[-1]), 1))\\\n",
    "    .reduceByKey(lambda x, y : x + y)\\\n",
    "    .sortBy(lambda x: x[1], ascending=False)\\\n",
    "    .collect()\n",
    "#obtenemos el año con mas datos nulos y su total de datos nulos\n",
    "anno_con_mas = datos_nulos_ano[0][0]\n",
    "anno_con_mas_nulos = datos_nulos_ano[0][1]"
   ]
  },
  {
   "cell_type": "code",
   "execution_count": 14,
   "metadata": {},
   "outputs": [
    {
     "data": {
      "application/vnd.jupyter.widget-view+json": {
       "model_id": "",
       "version_major": 2,
       "version_minor": 0
      },
      "text/plain": [
       "FloatProgress(value=0.0, bar_style='info', description='Progress:', layout=Layout(height='25px', width='50%'),…"
      ]
     },
     "metadata": {},
     "output_type": "display_data"
    },
    {
     "name": "stdout",
     "output_type": "stream",
     "text": [
      "El a?o con m?s registros nulos fue \u001b[1m2010\u001b[0m, con \u001b[1m17629\u001b[0m registros nulos."
     ]
    }
   ],
   "source": [
    "#reportamos el año con mas datos nulos y el total de ellos\n",
    "print(f\"El año con más registros nulos fue \\033[1m{anno_con_mas}\\033[0m, con \\033[1m{anno_con_mas_nulos}\\033[0m registros nulos.\")"
   ]
  },
  {
   "cell_type": "markdown",
   "metadata": {},
   "source": [
    "### * La cantidad de registros nulos por mes para el año con una mayor cantidad de registros nulos. ¿En qué mes hubo más registros nulos?"
   ]
  },
  {
   "cell_type": "code",
   "execution_count": 15,
   "metadata": {},
   "outputs": [
    {
     "data": {
      "application/vnd.jupyter.widget-view+json": {
       "model_id": "",
       "version_major": 2,
       "version_minor": 0
      },
      "text/plain": [
       "FloatProgress(value=0.0, bar_style='info', description='Progress:', layout=Layout(height='25px', width='50%'),…"
      ]
     },
     "metadata": {},
     "output_type": "display_data"
    }
   ],
   "source": [
    "#creamos un RDD con los meses y total de registros nulos, filtrado por el año con mas datos nulos\n",
    "datos_nulos_ano_mes = datos_perdidos\\\n",
    "    .map(lambda x: (int(x[0].split('/')[-1]), int(x[0].split('/')[1]), 1))\\\n",
    "    .filter(lambda x: x[0] == anno_con_mas)\\\n",
    "    .map(lambda x: (x[1], x[2]))\\\n",
    "    .reduceByKey(lambda x, y: x + y)\\\n",
    "    .sortBy(lambda x: x[1], ascending=False)\\\n",
    "    .collect()\n",
    "#obtenemos el mes con más datos nulos y el total de estos\n",
    "mes_con_mas = datos_nulos_ano_mes[0][0]\n",
    "mes_con_mas_nulos = datos_nulos_ano_mes[0][1]"
   ]
  },
  {
   "cell_type": "code",
   "execution_count": 16,
   "metadata": {},
   "outputs": [
    {
     "data": {
      "application/vnd.jupyter.widget-view+json": {
       "model_id": "",
       "version_major": 2,
       "version_minor": 0
      },
      "text/plain": [
       "FloatProgress(value=0.0, bar_style='info', description='Progress:', layout=Layout(height='25px', width='50%'),…"
      ]
     },
     "metadata": {},
     "output_type": "display_data"
    },
    {
     "name": "stdout",
     "output_type": "stream",
     "text": [
      "El mes con m?s registros nulos, para el a?o \u001b[1m2010\u001b[0m, fue el mes \u001b[1m8\u001b[0m, con \u001b[1m7226\u001b[0m registros nulos."
     ]
    }
   ],
   "source": [
    "#reportamos el mes del año con mas datos nulos, y el total de estos\n",
    "print(f\"El mes con más registros nulos, para el año \\033[1m{anno_con_mas}\\033[0m, fue el mes \\033[1m{mes_con_mas}\\033[0m, con \\033[1m{mes_con_mas_nulos}\\033[0m registros nulos.\")"
   ]
  },
  {
   "cell_type": "markdown",
   "metadata": {},
   "source": [
    "## Ejercicio 2: Preparación de los datos"
   ]
  },
  {
   "cell_type": "markdown",
   "metadata": {},
   "source": [
    "### * Genere un objeto donde se encuentren sólo aquellos datos sin registros perdidos."
   ]
  },
  {
   "cell_type": "code",
   "execution_count": 17,
   "metadata": {},
   "outputs": [
    {
     "data": {
      "application/vnd.jupyter.widget-view+json": {
       "model_id": "",
       "version_major": 2,
       "version_minor": 0
      },
      "text/plain": [
       "FloatProgress(value=0.0, bar_style='info', description='Progress:', layout=Layout(height='25px', width='50%'),…"
      ]
     },
     "metadata": {},
     "output_type": "display_data"
    }
   ],
   "source": [
    "#creamos un RDD sin datos nulos\n",
    "datos_completos = hcp_data_splitted.filter(lambda x: x.count('?') == 0 )"
   ]
  },
  {
   "cell_type": "code",
   "execution_count": 18,
   "metadata": {},
   "outputs": [
    {
     "data": {
      "application/vnd.jupyter.widget-view+json": {
       "model_id": "",
       "version_major": 2,
       "version_minor": 0
      },
      "text/plain": [
       "FloatProgress(value=0.0, bar_style='info', description='Progress:', layout=Layout(height='25px', width='50%'),…"
      ]
     },
     "metadata": {},
     "output_type": "display_data"
    },
    {
     "name": "stdout",
     "output_type": "stream",
     "text": [
      "[['16/12/2006', '17:24:00', '4.216', '0.418', '234.840', '18.400', '0.000', '1.000', '17.000']]"
     ]
    }
   ],
   "source": [
    "#lo inspeccionamos\n",
    "datos_completos.take(1)"
   ]
  },
  {
   "cell_type": "markdown",
   "metadata": {},
   "source": [
    "### * Con el objeto sin datos perdidos, genere un objeto RDD donde los registro tengan la siguiente estructura:\n",
    "`\n",
    "[(2006, 12, 18, 4.464, 0.136, 234.66, 19.0, 0.0, 37.0),\n",
    "(2006, 12, 18, 1.944, 0.084, 236.56, 8.2, 0.0, 2.0),\n",
    "(2006, 12, 9, 3.706, 0.062, 237.81, 15.6, 1.0, 38.0),\n",
    "(2006, 12, 1, 0.204, 0.0, 244.48, 0.8, 0.0, 0.0), \n",
    "(2006, 12, 10, 1.34, 0.092, 238.72, 5.6, 0.0, 0.0)]\n",
    "`\n",
    "### donde cada registro tendrá la siguiente composición:\n",
    "`(año, mes, dia, global_activity_power, global_reactive_power, voltage, global_intensity, submetering_1, submetering_2, submetering_3)`\n",
    "\n",
    "### * Por defecto todos los datos dentro de este objeto serán considerados como strings. Conviértalos al tipo de dato pertinente ( int o float )."
   ]
  },
  {
   "cell_type": "code",
   "execution_count": 19,
   "metadata": {},
   "outputs": [
    {
     "data": {
      "application/vnd.jupyter.widget-view+json": {
       "model_id": "",
       "version_major": 2,
       "version_minor": 0
      },
      "text/plain": [
       "FloatProgress(value=0.0, bar_style='info', description='Progress:', layout=Layout(height='25px', width='50%'),…"
      ]
     },
     "metadata": {},
     "output_type": "display_data"
    }
   ],
   "source": [
    "#creamos un RDD con los datos formateados acorde a lo solicitado\n",
    "datos_formateados = datos_completos\\\n",
    "    .map(lambda x: (x[0].split('/'), float(x[2]), float(x[3]), float(x[4]), float(x[5]), float(x[6]), float(x[7]), float(x[8])))\\\n",
    "    .map(lambda x: (int(x[0][2]), int(x[0][1]), int(x[0][0]), x[1], x[2], x[3], x[4], x[5], x[6], x[7]))"
   ]
  },
  {
   "cell_type": "markdown",
   "metadata": {},
   "source": [
    "### * Devuelva con collect las primeras 5 observaciones."
   ]
  },
  {
   "cell_type": "code",
   "execution_count": 20,
   "metadata": {},
   "outputs": [
    {
     "data": {
      "application/vnd.jupyter.widget-view+json": {
       "model_id": "",
       "version_major": 2,
       "version_minor": 0
      },
      "text/plain": [
       "FloatProgress(value=0.0, bar_style='info', description='Progress:', layout=Layout(height='25px', width='50%'),…"
      ]
     },
     "metadata": {},
     "output_type": "display_data"
    },
    {
     "name": "stdout",
     "output_type": "stream",
     "text": [
      "[(2006, 12, 16, 4.216, 0.418, 234.84, 18.4, 0.0, 1.0, 17.0), (2006, 12, 16, 5.36, 0.436, 233.63, 23.0, 0.0, 1.0, 16.0), (2006, 12, 16, 5.374, 0.498, 233.29, 23.0, 0.0, 2.0, 17.0), (2006, 12, 16, 5.388, 0.502, 233.74, 23.0, 0.0, 1.0, 17.0), (2006, 12, 16, 3.666, 0.528, 235.68, 15.8, 0.0, 1.0, 17.0)]"
     ]
    }
   ],
   "source": [
    "#reportamos lo solicitado\n",
    "datos_formateados.collect()[:5]"
   ]
  },
  {
   "cell_type": "markdown",
   "metadata": {},
   "source": [
    "## Ejercicio 3: Patrones globales"
   ]
  },
  {
   "cell_type": "markdown",
   "metadata": {},
   "source": [
    "### * Extraiga la media, desviación estándar e intervalos de confianza (a $\\pm.5$ desviaciones estándar) para las columnas `global_activity_power`, `global_reactive_power`, `voltage` y `global_intensity`\n",
    "\n",
    "### * Reporte sus resultados."
   ]
  },
  {
   "cell_type": "code",
   "execution_count": 21,
   "metadata": {},
   "outputs": [
    {
     "data": {
      "application/vnd.jupyter.widget-view+json": {
       "model_id": "",
       "version_major": 2,
       "version_minor": 0
      },
      "text/plain": [
       "FloatProgress(value=0.0, bar_style='info', description='Progress:', layout=Layout(height='25px', width='50%'),…"
      ]
     },
     "metadata": {},
     "output_type": "display_data"
    }
   ],
   "source": [
    "#creamos un diccionario para almacenar los datos solicitados\n",
    "columnas = [\n",
    "    'global_activity_power',\n",
    "    'global_reactive_power',\n",
    "    'voltage',\n",
    "    'global_intensity'\n",
    "]"
   ]
  },
  {
   "cell_type": "code",
   "execution_count": 22,
   "metadata": {},
   "outputs": [
    {
     "data": {
      "application/vnd.jupyter.widget-view+json": {
       "model_id": "",
       "version_major": 2,
       "version_minor": 0
      },
      "text/plain": [
       "FloatProgress(value=0.0, bar_style='info', description='Progress:', layout=Layout(height='25px', width='50%'),…"
      ]
     },
     "metadata": {},
     "output_type": "display_data"
    }
   ],
   "source": [
    "#obtenemos el total de datos no perdidos\n",
    "total_formateados = datos_formateados.count()"
   ]
  },
  {
   "cell_type": "code",
   "execution_count": 23,
   "metadata": {},
   "outputs": [
    {
     "data": {
      "application/vnd.jupyter.widget-view+json": {
       "model_id": "",
       "version_major": 2,
       "version_minor": 0
      },
      "text/plain": [
       "FloatProgress(value=0.0, bar_style='info', description='Progress:', layout=Layout(height='25px', width='50%'),…"
      ]
     },
     "metadata": {},
     "output_type": "display_data"
    }
   ],
   "source": [
    "#importamos la libreria para raices cuadradas\n",
    "from math import sqrt"
   ]
  },
  {
   "cell_type": "code",
   "execution_count": 24,
   "metadata": {},
   "outputs": [
    {
     "data": {
      "application/vnd.jupyter.widget-view+json": {
       "model_id": "",
       "version_major": 2,
       "version_minor": 0
      },
      "text/plain": [
       "FloatProgress(value=0.0, bar_style='info', description='Progress:', layout=Layout(height='25px', width='50%'),…"
      ]
     },
     "metadata": {},
     "output_type": "display_data"
    }
   ],
   "source": [
    "#calculamos los patrones\n",
    "patrones_globales = {}\n",
    "\n",
    "texto = '\\033[1mPATRONES GLOBALES\\033[0m\\n'\n",
    "\n",
    "#iteramos sobre las columnas\n",
    "for i, columna in enumerate(columnas):\n",
    "    texto += f\"\\n==> Columna '\\033[1m{columna}\\033[0m'\\n\"\n",
    "    patrones_globales[columna] = {}\n",
    "    #calculamos la media\n",
    "    media_tmp = datos_formateados\\\n",
    "        .map(lambda x: x[i+3])\\\n",
    "        .reduce(lambda x, y: x+y)\\\n",
    "        / total_formateados\n",
    "    texto += f\"    ==> \\x1b[4mMedia\\033[0m :\\t\\t\\t\\t{media_tmp}\\n\"\n",
    "    #almacenamos la media para el patron\n",
    "    patrones_globales[columna]['media'] = media_tmp\n",
    "    \n",
    "    #calculamos la desviacion estandar\n",
    "    desviacion_tmp = sqrt(datos_formateados\\\n",
    "        .map(lambda x: x[i+3])\\\n",
    "        .map(lambda x: (x-media_tmp)**2)\\\n",
    "        .reduce(lambda x,y: x+y)\\\n",
    "        / total_formateados)\n",
    "    texto += f\"    ==> \\x1b[4mDesviacion estandar\\033[0m :\\t\\t{desviacion_tmp}\\n\"\n",
    "    #almacenamos la desviacion para el patron\n",
    "    patrones_globales[columna]['desviacion'] = media_tmp\n",
    "    \n",
    "    #calculamos el intervalo de confianza\n",
    "    intervalo_minimo_tmp = media_tmp-(desviacion_tmp/2) \n",
    "    intervalo_maximo_tmp = media_tmp+(desviacion_tmp/2)\n",
    "    texto += f\"    ==> \\x1b[4mIntervalo de confianza\\033[0m :\\t[{intervalo_minimo_tmp}\"\n",
    "    texto += f\" .. {intervalo_maximo_tmp}]\\n\"\n",
    "    #almacenamos el intervalo para el patron\n",
    "    patrones_globales[columna]['intervalo_confianza_minimo'] = intervalo_minimo_tmp\n",
    "    patrones_globales[columna]['intervalo_confianza_maximo'] = intervalo_maximo_tmp"
   ]
  },
  {
   "cell_type": "code",
   "execution_count": 25,
   "metadata": {
    "scrolled": false
   },
   "outputs": [
    {
     "data": {
      "application/vnd.jupyter.widget-view+json": {
       "model_id": "",
       "version_major": 2,
       "version_minor": 0
      },
      "text/plain": [
       "FloatProgress(value=0.0, bar_style='info', description='Progress:', layout=Layout(height='25px', width='50%'),…"
      ]
     },
     "metadata": {},
     "output_type": "display_data"
    },
    {
     "name": "stdout",
     "output_type": "stream",
     "text": [
      "\u001b[1mPATRONES GLOBALES\u001b[0m\n",
      "\n",
      "==> Columna '\u001b[1mglobal_activity_power\u001b[0m'\n",
      "    ==> \u001b[4mMedia\u001b[0m :\t\t\t\t1.0916150365007313\n",
      "    ==> \u001b[4mDesviacion estandar\u001b[0m :\t\t1.0572939031266517\n",
      "    ==> \u001b[4mIntervalo de confianza\u001b[0m :\t[0.5629680849374055 .. 1.6202619880640572]\n",
      "\n",
      "==> Columna '\u001b[1mglobal_reactive_power\u001b[0m'\n",
      "    ==> \u001b[4mMedia\u001b[0m :\t\t\t\t0.12371447630388727\n",
      "    ==> \u001b[4mDesviacion estandar\u001b[0m :\t\t0.11272195204774406\n",
      "    ==> \u001b[4mIntervalo de confianza\u001b[0m :\t[0.06735350028001524 .. 0.1800754523277593]\n",
      "\n",
      "==> Columna '\u001b[1mvoltage\u001b[0m'\n",
      "    ==> \u001b[4mMedia\u001b[0m :\t\t\t\t240.83985797455423\n",
      "    ==> \u001b[4mDesviacion estandar\u001b[0m :\t\t3.2399858884913204\n",
      "    ==> \u001b[4mIntervalo de confianza\u001b[0m :\t[239.21986503030857 .. 242.4598509187999]\n",
      "\n",
      "==> Columna '\u001b[1mglobal_intensity\u001b[0m'\n",
      "    ==> \u001b[4mMedia\u001b[0m :\t\t\t\t4.627759310588489\n",
      "    ==> \u001b[4mDesviacion estandar\u001b[0m :\t\t4.444395175415986\n",
      "    ==> \u001b[4mIntervalo de confianza\u001b[0m :\t[2.4055617228804964 .. 6.849956898296482]"
     ]
    }
   ],
   "source": [
    "#reportamos lo solicitado\n",
    "print(texto)"
   ]
  },
  {
   "cell_type": "markdown",
   "metadata": {},
   "source": [
    "## Ejercicio 4: Patrón temporal"
   ]
  },
  {
   "cell_type": "markdown",
   "metadata": {},
   "source": [
    "### * Reporte el promedio de `global_activity_power` a nivel mensual y anual. Genere un objeto con la acción `collectAsmap()` del RDD procesado."
   ]
  },
  {
   "cell_type": "code",
   "execution_count": 26,
   "metadata": {},
   "outputs": [
    {
     "data": {
      "application/vnd.jupyter.widget-view+json": {
       "model_id": "",
       "version_major": 2,
       "version_minor": 0
      },
      "text/plain": [
       "FloatProgress(value=0.0, bar_style='info', description='Progress:', layout=Layout(height='25px', width='50%'),…"
      ]
     },
     "metadata": {},
     "output_type": "display_data"
    }
   ],
   "source": [
    "#creamos el RDD\n",
    "global_activity_power_means = datos_formateados\\\n",
    "    .keyBy(lambda x: (x[0], x[1]))\\\n",
    "    .mapValues(lambda x: (x[3], 1))\\\n",
    "    .reduceByKey(lambda x, y: (x[0] + y[0], x[1] + y[1]))\\\n",
    "    .mapValues(lambda x: (x[0]/x[1]))\\\n",
    "    .sortByKey(ascending=False)\\"
   ]
  },
  {
   "cell_type": "code",
   "execution_count": 27,
   "metadata": {},
   "outputs": [
    {
     "data": {
      "application/vnd.jupyter.widget-view+json": {
       "model_id": "",
       "version_major": 2,
       "version_minor": 0
      },
      "text/plain": [
       "FloatProgress(value=0.0, bar_style='info', description='Progress:', layout=Layout(height='25px', width='50%'),…"
      ]
     },
     "metadata": {},
     "output_type": "display_data"
    },
    {
     "name": "stdout",
     "output_type": "stream",
     "text": [
      "[((2010, 11), 1.196854466897542), ((2010, 10), 1.1633986872466457), ((2010, 9), 0.9564424307878864), ((2010, 8), 0.5907781579088224), ((2010, 7), 0.7210679450704021), ((2010, 6), 0.9696148895782476), ((2010, 5), 1.0952843925715077), ((2010, 4), 1.0272951688695853), ((2010, 3), 1.1300752821908384), ((2010, 2), 1.3758546058832082)]"
     ]
    }
   ],
   "source": [
    "#lo reportamos\n",
    "global_activity_power_means.take(10)"
   ]
  },
  {
   "cell_type": "code",
   "execution_count": 28,
   "metadata": {},
   "outputs": [
    {
     "data": {
      "application/vnd.jupyter.widget-view+json": {
       "model_id": "",
       "version_major": 2,
       "version_minor": 0
      },
      "text/plain": [
       "FloatProgress(value=0.0, bar_style='info', description='Progress:', layout=Layout(height='25px', width='50%'),…"
      ]
     },
     "metadata": {},
     "output_type": "display_data"
    }
   ],
   "source": [
    "#generamos el RDD como collectAsMap\n",
    "gap_asm = global_activity_power_means.collectAsMap()"
   ]
  },
  {
   "cell_type": "code",
   "execution_count": 29,
   "metadata": {},
   "outputs": [
    {
     "data": {
      "application/vnd.jupyter.widget-view+json": {
       "model_id": "",
       "version_major": 2,
       "version_minor": 0
      },
      "text/plain": [
       "FloatProgress(value=0.0, bar_style='info', description='Progress:', layout=Layout(height='25px', width='50%'),…"
      ]
     },
     "metadata": {},
     "output_type": "display_data"
    },
    {
     "name": "stdout",
     "output_type": "stream",
     "text": [
      "1.196854466897542"
     ]
    }
   ],
   "source": [
    "#lo revisamos\n",
    "gap_asm[(2010, 11)]"
   ]
  },
  {
   "cell_type": "markdown",
   "metadata": {},
   "source": [
    "### * Reporte todas aquellos registros que presenten un promedio de global_activity_power superior a .5 desviaciones estándares. ¿A qué meses y años corresponden?"
   ]
  },
  {
   "cell_type": "code",
   "execution_count": 30,
   "metadata": {},
   "outputs": [
    {
     "data": {
      "application/vnd.jupyter.widget-view+json": {
       "model_id": "",
       "version_major": 2,
       "version_minor": 0
      },
      "text/plain": [
       "FloatProgress(value=0.0, bar_style='info', description='Progress:', layout=Layout(height='25px', width='50%'),…"
      ]
     },
     "metadata": {},
     "output_type": "display_data"
    }
   ],
   "source": [
    "#creamos una lista con los resultados solicitados\n",
    "sobre_intervalo_confianza = [(k, v, gap_asm[k,v]) for k, v in gap_asm if gap_asm[k,v] > patrones_globales['global_activity_power']['intervalo_confianza_maximo']]"
   ]
  },
  {
   "cell_type": "code",
   "execution_count": 31,
   "metadata": {
    "scrolled": true
   },
   "outputs": [
    {
     "data": {
      "application/vnd.jupyter.widget-view+json": {
       "model_id": "",
       "version_major": 2,
       "version_minor": 0
      },
      "text/plain": [
       "FloatProgress(value=0.0, bar_style='info', description='Progress:', layout=Layout(height='25px', width='50%'),…"
      ]
     },
     "metadata": {},
     "output_type": "display_data"
    },
    {
     "name": "stdout",
     "output_type": "stream",
     "text": [
      "Registros con promedio de 'global_activity_power' \u001b[1msobre\u001b[0m el intervalo de confianza de \u001b[1m1.6202619880640572\u001b[0m:\n",
      "\n",
      "\u001b[4ma?o\u001b[0m: \u001b[1m2007\u001b[0m, \u001b[4mmes\u001b[0m: \u001b[1m12\u001b[0m, \u001b[4mpromedio\u001b[0m: \u001b[1m1.6264739353480613\u001b[0m\n",
      "\n",
      "\u001b[4ma?o\u001b[0m: \u001b[1m2006\u001b[0m, \u001b[4mmes\u001b[0m: \u001b[1m12\u001b[0m, \u001b[4mpromedio\u001b[0m: \u001b[1m1.9012951073117563\u001b[0m"
     ]
    }
   ],
   "source": [
    "#reportamos lo solicitado\n",
    "texto2 = f\"Registros con promedio de 'global_activity_power' \\033[1msobre\\033[0m el intervalo de confianza de \"\n",
    "texto2 += f\"\\033[1m{patrones_globales['global_activity_power']['intervalo_confianza_maximo']}\\033[0m:\\n\"\n",
    "print(texto2)\n",
    "for i in sobre_intervalo_confianza:\n",
    "    print(f\"\\x1b[4maño\\033[0m: \\033[1m{i[0]}\\033[0m, \\x1b[4mmes\\033[0m: \\033[1m{i[1]}\\033[0m, \\x1b[4mpromedio\\033[0m: \\033[1m{i[2]}\\033[0m\\n\")"
   ]
  },
  {
   "cell_type": "markdown",
   "metadata": {},
   "source": [
    "### * Reporte todos aquellos registros que presenten un promedio de global_activity_power inferior a .5 desviaciones estándares. ¿A qué meses y años corresponden?"
   ]
  },
  {
   "cell_type": "code",
   "execution_count": 32,
   "metadata": {},
   "outputs": [
    {
     "data": {
      "application/vnd.jupyter.widget-view+json": {
       "model_id": "",
       "version_major": 2,
       "version_minor": 0
      },
      "text/plain": [
       "FloatProgress(value=0.0, bar_style='info', description='Progress:', layout=Layout(height='25px', width='50%'),…"
      ]
     },
     "metadata": {},
     "output_type": "display_data"
    }
   ],
   "source": [
    "#creamos una lista con los resultados solicitados\n",
    "bajo_intervalo_confianza = [(k, v, gap_asm[k,v]) for k, v in gap_asm if gap_asm[k,v] < patrones_globales['global_activity_power']['intervalo_confianza_minimo']]"
   ]
  },
  {
   "cell_type": "code",
   "execution_count": 33,
   "metadata": {
    "scrolled": true
   },
   "outputs": [
    {
     "data": {
      "application/vnd.jupyter.widget-view+json": {
       "model_id": "",
       "version_major": 2,
       "version_minor": 0
      },
      "text/plain": [
       "FloatProgress(value=0.0, bar_style='info', description='Progress:', layout=Layout(height='25px', width='50%'),…"
      ]
     },
     "metadata": {},
     "output_type": "display_data"
    },
    {
     "name": "stdout",
     "output_type": "stream",
     "text": [
      "Registros con promedio de 'global_activity_power' \u001b[1mbajo\u001b[0m el intervalo de confianza de \u001b[1m0.5629680849374055\u001b[0m:\n",
      "\n",
      "\u001b[4ma?o\u001b[0m: \u001b[1m2008\u001b[0m, \u001b[4mmes\u001b[0m: \u001b[1m8\u001b[0m, \u001b[4mpromedio\u001b[0m: \u001b[1m0.27648819391553775\u001b[0m"
     ]
    }
   ],
   "source": [
    "#reportamos lo solicitado\n",
    "texto2 = f\"Registros con promedio de 'global_activity_power' \\033[1mbajo\\033[0m el intervalo de confianza de \"\n",
    "texto2 += f\"\\033[1m{patrones_globales['global_activity_power']['intervalo_confianza_minimo']}\\033[0m:\\n\"\n",
    "print(texto2)\n",
    "for i in bajo_intervalo_confianza:\n",
    "    print(f\"\\x1b[4maño\\033[0m: \\033[1m{i[0]}\\033[0m, \\x1b[4mmes\\033[0m: \\033[1m{i[1]}\\033[0m, \\x1b[4mpromedio\\033[0m: \\033[1m{i[2]}\\033[0m\\n\")"
   ]
  },
  {
   "cell_type": "markdown",
   "metadata": {},
   "source": [
    "## Ejercicio 5: Consumo energético general"
   ]
  },
  {
   "cell_type": "markdown",
   "metadata": {},
   "source": [
    "### * El siguiente objetivo es calcular el consumo energético general para cada registro en el RDD. La fórmula se detalla a continuación:\n",
    "\n",
    "$$ConsumoEnergeticoGeneral = Global Activity Power \\dfrac{1000}{60} - SubMetering1 - SubMetering2 - SubMetering3$$"
   ]
  },
  {
   "cell_type": "markdown",
   "metadata": {},
   "source": [
    "### * Implemente la función para todos los registros."
   ]
  },
  {
   "cell_type": "code",
   "execution_count": 34,
   "metadata": {},
   "outputs": [
    {
     "data": {
      "application/vnd.jupyter.widget-view+json": {
       "model_id": "",
       "version_major": 2,
       "version_minor": 0
      },
      "text/plain": [
       "FloatProgress(value=0.0, bar_style='info', description='Progress:', layout=Layout(height='25px', width='50%'),…"
      ]
     },
     "metadata": {},
     "output_type": "display_data"
    }
   ],
   "source": [
    "#creamos nuestra funcion\n",
    "def ceg(global_activity_power, sub_metering_1, sub_metering_2, sub_metering_3):\n",
    "    return [global_activity_power*(1000/60) - sub_metering_1 - sub_metering_2 - sub_metering_3]"
   ]
  },
  {
   "cell_type": "code",
   "execution_count": 35,
   "metadata": {},
   "outputs": [
    {
     "data": {
      "application/vnd.jupyter.widget-view+json": {
       "model_id": "",
       "version_major": 2,
       "version_minor": 0
      },
      "text/plain": [
       "FloatProgress(value=0.0, bar_style='info', description='Progress:', layout=Layout(height='25px', width='50%'),…"
      ]
     },
     "metadata": {},
     "output_type": "display_data"
    }
   ],
   "source": [
    "#la implementamos para todos los registros\n",
    "consumo_energetico_general = datos_formateados\\\n",
    "    .map(lambda x: tuple(list(x) + ceg(x[3], x[7], x[8], x[9])) )\\\n"
   ]
  },
  {
   "cell_type": "code",
   "execution_count": 36,
   "metadata": {},
   "outputs": [
    {
     "data": {
      "application/vnd.jupyter.widget-view+json": {
       "model_id": "",
       "version_major": 2,
       "version_minor": 0
      },
      "text/plain": [
       "FloatProgress(value=0.0, bar_style='info', description='Progress:', layout=Layout(height='25px', width='50%'),…"
      ]
     },
     "metadata": {},
     "output_type": "display_data"
    },
    {
     "name": "stdout",
     "output_type": "stream",
     "text": [
      "[(2006, 12, 16, 4.216, 0.418, 234.84, 18.4, 0.0, 1.0, 17.0, 52.26666666666668)]"
     ]
    }
   ],
   "source": [
    "#revisamos\n",
    "consumo_energetico_general.take(1)"
   ]
  },
  {
   "cell_type": "markdown",
   "metadata": {},
   "source": [
    "### * Genere el RDD con el consumo energético general promedio por Año, Mes y Día."
   ]
  },
  {
   "cell_type": "code",
   "execution_count": 37,
   "metadata": {},
   "outputs": [
    {
     "data": {
      "application/vnd.jupyter.widget-view+json": {
       "model_id": "",
       "version_major": 2,
       "version_minor": 0
      },
      "text/plain": [
       "FloatProgress(value=0.0, bar_style='info', description='Progress:', layout=Layout(height='25px', width='50%'),…"
      ]
     },
     "metadata": {},
     "output_type": "display_data"
    }
   ],
   "source": [
    "#creamos el RDD\n",
    "ceg_amd_promedio = consumo_energetico_general\\\n",
    "    .keyBy(lambda x: (x[0], x[1], x[2]))\\\n",
    "    .mapValues(lambda x: (x[-1], 1))\\\n",
    "    .reduceByKey(lambda x, y: (x[0] + y[0], x[1] + y[1]))\\\n",
    "    .mapValues(lambda x: (x[0]/x[1]))\\\n",
    "    .sortByKey(ascending=False)\\"
   ]
  },
  {
   "cell_type": "code",
   "execution_count": 38,
   "metadata": {},
   "outputs": [
    {
     "data": {
      "application/vnd.jupyter.widget-view+json": {
       "model_id": "",
       "version_major": 2,
       "version_minor": 0
      },
      "text/plain": [
       "FloatProgress(value=0.0, bar_style='info', description='Progress:', layout=Layout(height='25px', width='50%'),…"
      ]
     },
     "metadata": {},
     "output_type": "display_data"
    },
    {
     "name": "stdout",
     "output_type": "stream",
     "text": [
      "[((2010, 11, 26), 10.568276590129326), ((2010, 11, 25), 11.999120370370347)]"
     ]
    }
   ],
   "source": [
    "#revisamos\n",
    "ceg_amd_promedio.take(2)"
   ]
  },
  {
   "cell_type": "markdown",
   "metadata": {},
   "source": [
    "### * Reporte el consumo energético general para todos los días de Octubre del 2008."
   ]
  },
  {
   "cell_type": "code",
   "execution_count": 39,
   "metadata": {},
   "outputs": [
    {
     "data": {
      "application/vnd.jupyter.widget-view+json": {
       "model_id": "",
       "version_major": 2,
       "version_minor": 0
      },
      "text/plain": [
       "FloatProgress(value=0.0, bar_style='info', description='Progress:', layout=Layout(height='25px', width='50%'),…"
      ]
     },
     "metadata": {},
     "output_type": "display_data"
    }
   ],
   "source": [
    "#filtramos por 2008 y octubre\n",
    "ceg_dias_octubre_2018 = ceg_amd_promedio\\\n",
    "    .filter(lambda x: x[0][0] == 2008 and x[0][1] == 10)\\\n",
    "    .sortBy(lambda x: x[0][2])\\\n",
    "    .collect()"
   ]
  },
  {
   "cell_type": "code",
   "execution_count": 40,
   "metadata": {},
   "outputs": [
    {
     "data": {
      "application/vnd.jupyter.widget-view+json": {
       "model_id": "",
       "version_major": 2,
       "version_minor": 0
      },
      "text/plain": [
       "FloatProgress(value=0.0, bar_style='info', description='Progress:', layout=Layout(height='25px', width='50%'),…"
      ]
     },
     "metadata": {},
     "output_type": "display_data"
    },
    {
     "name": "stdout",
     "output_type": "stream",
     "text": [
      "\u001b[1mConsumo Energetico General\u001b[0m para el mes de \u001b[1mOctubre\u001b[0m de \u001b[1m2008\u001b[0m:\n",
      "\n",
      "\u001b[4mDia\u001b[0m: \u001b[1m01\u001b[0m - \u001b[4mCEG\u001b[0m: \u001b[1m8.57574074074073\u001b[0m\n",
      "\u001b[4mDia\u001b[0m: \u001b[1m02\u001b[0m - \u001b[4mCEG\u001b[0m: \u001b[1m9.024560185185186\u001b[0m\n",
      "\u001b[4mDia\u001b[0m: \u001b[1m03\u001b[0m - \u001b[4mCEG\u001b[0m: \u001b[1m8.53773148148149\u001b[0m\n",
      "\u001b[4mDia\u001b[0m: \u001b[1m04\u001b[0m - \u001b[4mCEG\u001b[0m: \u001b[1m12.739074074074084\u001b[0m\n",
      "\u001b[4mDia\u001b[0m: \u001b[1m05\u001b[0m - \u001b[4mCEG\u001b[0m: \u001b[1m10.773958333333315\u001b[0m\n",
      "\u001b[4mDia\u001b[0m: \u001b[1m06\u001b[0m - \u001b[4mCEG\u001b[0m: \u001b[1m8.952569444444435\u001b[0m\n",
      "\u001b[4mDia\u001b[0m: \u001b[1m07\u001b[0m - \u001b[4mCEG\u001b[0m: \u001b[1m12.406342592592578\u001b[0m\n",
      "\u001b[4mDia\u001b[0m: \u001b[1m08\u001b[0m - \u001b[4mCEG\u001b[0m: \u001b[1m9.159444444444452\u001b[0m\n",
      "\u001b[4mDia\u001b[0m: \u001b[1m09\u001b[0m - \u001b[4mCEG\u001b[0m: \u001b[1m12.0231712962963\u001b[0m\n",
      "\u001b[4mDia\u001b[0m: \u001b[1m10\u001b[0m - \u001b[4mCEG\u001b[0m: \u001b[1m8.937939814814817\u001b[0m\n",
      "\u001b[4mDia\u001b[0m: \u001b[1m11\u001b[0m - \u001b[4mCEG\u001b[0m: \u001b[1m8.313263888888887\u001b[0m\n",
      "\u001b[4mDia\u001b[0m: \u001b[1m12\u001b[0m - \u001b[4mCEG\u001b[0m: \u001b[1m11.281249999999998\u001b[0m\n",
      "\u001b[4mDia\u001b[0m: \u001b[1m13\u001b[0m - \u001b[4mCEG\u001b[0m: \u001b[1m9.243935185185197\u001b[0m\n",
      "\u001b[4mDia\u001b[0m: \u001b[1m14\u001b[0m - \u001b[4mCEG\u001b[0m: \u001b[1m10.596944444444446\u001b[0m\n",
      "\u001b[4mDia\u001b[0m: \u001b[1m15\u001b[0m - \u001b[4mCEG\u001b[0m: \u001b[1m11.752962962962973\u001b[0m\n",
      "\u001b[4mDia\u001b[0m: \u001b[1m16\u001b[0m - \u001b[4mCEG\u001b[0m: \u001b[1m11.51157407407408\u001b[0m\n",
      "\u001b[4mDia\u001b[0m: \u001b[1m17\u001b[0m - \u001b[4mCEG\u001b[0m: \u001b[1m11.286643518518511\u001b[0m\n",
      "\u001b[4mDia\u001b[0m: \u001b[1m18\u001b[0m - \u001b[4mCEG\u001b[0m: \u001b[1m15.777662037037043\u001b[0m\n",
      "\u001b[4mDia\u001b[0m: \u001b[1m19\u001b[0m - \u001b[4mCEG\u001b[0m: \u001b[1m13.581643518518502\u001b[0m\n",
      "\u001b[4mDia\u001b[0m: \u001b[1m20\u001b[0m - \u001b[4mCEG\u001b[0m: \u001b[1m9.601087962962959\u001b[0m\n",
      "\u001b[4mDia\u001b[0m: \u001b[1m21\u001b[0m - \u001b[4mCEG\u001b[0m: \u001b[1m13.572407407407413\u001b[0m\n",
      "\u001b[4mDia\u001b[0m: \u001b[1m22\u001b[0m - \u001b[4mCEG\u001b[0m: \u001b[1m10.932291666666671\u001b[0m\n",
      "\u001b[4mDia\u001b[0m: \u001b[1m23\u001b[0m - \u001b[4mCEG\u001b[0m: \u001b[1m12.271689814814822\u001b[0m\n",
      "\u001b[4mDia\u001b[0m: \u001b[1m24\u001b[0m - \u001b[4mCEG\u001b[0m: \u001b[1m10.485949074074057\u001b[0m\n",
      "\u001b[4mDia\u001b[0m: \u001b[1m25\u001b[0m - \u001b[4mCEG\u001b[0m: \u001b[1m7.746552135528486\u001b[0m\n",
      "\u001b[4mDia\u001b[0m: \u001b[1m26\u001b[0m - \u001b[4mCEG\u001b[0m: \u001b[1m4.411018518518521\u001b[0m\n",
      "\u001b[4mDia\u001b[0m: \u001b[1m27\u001b[0m - \u001b[4mCEG\u001b[0m: \u001b[1m4.418425925925917\u001b[0m\n",
      "\u001b[4mDia\u001b[0m: \u001b[1m28\u001b[0m - \u001b[4mCEG\u001b[0m: \u001b[1m10.0045138888889\u001b[0m\n",
      "\u001b[4mDia\u001b[0m: \u001b[1m29\u001b[0m - \u001b[4mCEG\u001b[0m: \u001b[1m14.916157407407386\u001b[0m\n",
      "\u001b[4mDia\u001b[0m: \u001b[1m30\u001b[0m - \u001b[4mCEG\u001b[0m: \u001b[1m10.656944444444443\u001b[0m\n",
      "\u001b[4mDia\u001b[0m: \u001b[1m31\u001b[0m - \u001b[4mCEG\u001b[0m: \u001b[1m7.385787037037059\u001b[0m"
     ]
    }
   ],
   "source": [
    "#reportamos\n",
    "print(f\"\\033[1mConsumo Energetico General\\033[0m para el mes de \\033[1mOctubre\\033[0m de \\033[1m2008\\033[0m:\\n\")\n",
    "for i in ceg_dias_octubre_2018:\n",
    "    dia = i[0][2]\n",
    "    if dia < 10:\n",
    "        dia_txt = f\"0{dia}\"\n",
    "    else:\n",
    "        dia_txt = f\"{dia}\"\n",
    "    print(f\"\\x1b[4mDia\\033[0m: \\033[1m{dia_txt}\\033[0m - \\x1b[4mCEG\\033[0m: \\033[1m{i[1]}\\033[0m\")\n"
   ]
  },
  {
   "cell_type": "markdown",
   "metadata": {},
   "source": [
    "## (Opcional) Ejercicio 6: Submetering"
   ]
  },
  {
   "cell_type": "markdown",
   "metadata": {},
   "source": [
    "### * Identifique el consumo promedio por mes y año para cada medición de submetering (1, 2 y 3)."
   ]
  },
  {
   "cell_type": "code",
   "execution_count": 41,
   "metadata": {},
   "outputs": [
    {
     "data": {
      "application/vnd.jupyter.widget-view+json": {
       "model_id": "",
       "version_major": 2,
       "version_minor": 0
      },
      "text/plain": [
       "FloatProgress(value=0.0, bar_style='info', description='Progress:', layout=Layout(height='25px', width='50%'),…"
      ]
     },
     "metadata": {},
     "output_type": "display_data"
    }
   ],
   "source": [
    "#creamos el RDD para submetering 1\n",
    "s1_promedio = datos_formateados\\\n",
    "    .keyBy(lambda x: (x[0], x[1]))\\\n",
    "    .mapValues(lambda x: (x[7], 1))\\\n",
    "    .reduceByKey(lambda x, y: (x[0] + y[0], x[1] + y[1]))\\\n",
    "    .mapValues(lambda x: (x[0]/x[1]))\\\n",
    "    .sortByKey(ascending=False)\\"
   ]
  },
  {
   "cell_type": "code",
   "execution_count": 42,
   "metadata": {},
   "outputs": [
    {
     "data": {
      "application/vnd.jupyter.widget-view+json": {
       "model_id": "",
       "version_major": 2,
       "version_minor": 0
      },
      "text/plain": [
       "FloatProgress(value=0.0, bar_style='info', description='Progress:', layout=Layout(height='25px', width='50%'),…"
      ]
     },
     "metadata": {},
     "output_type": "display_data"
    },
    {
     "name": "stdout",
     "output_type": "stream",
     "text": [
      "[((2010, 11), 1.2388159836835466), ((2010, 10), 1.0797508904769373), ((2010, 9), 0.9710771013881938), ((2010, 8), 0.33407280697065267), ((2010, 7), 0.39577499495956453)]"
     ]
    }
   ],
   "source": [
    "#revisamos\n",
    "s1_promedio.take(5)"
   ]
  },
  {
   "cell_type": "code",
   "execution_count": 43,
   "metadata": {},
   "outputs": [
    {
     "data": {
      "application/vnd.jupyter.widget-view+json": {
       "model_id": "",
       "version_major": 2,
       "version_minor": 0
      },
      "text/plain": [
       "FloatProgress(value=0.0, bar_style='info', description='Progress:', layout=Layout(height='25px', width='50%'),…"
      ]
     },
     "metadata": {},
     "output_type": "display_data"
    }
   ],
   "source": [
    "#creamos el RDD para submetering 2\n",
    "s2_promedio = datos_formateados\\\n",
    "    .keyBy(lambda x: (x[0], x[1]))\\\n",
    "    .mapValues(lambda x: (x[8], 1))\\\n",
    "    .reduceByKey(lambda x, y: (x[0] + y[0], x[1] + y[1]))\\\n",
    "    .mapValues(lambda x: (x[0]/x[1]))\\\n",
    "    .sortByKey(ascending=False)\\"
   ]
  },
  {
   "cell_type": "code",
   "execution_count": 44,
   "metadata": {},
   "outputs": [
    {
     "data": {
      "application/vnd.jupyter.widget-view+json": {
       "model_id": "",
       "version_major": 2,
       "version_minor": 0
      },
      "text/plain": [
       "FloatProgress(value=0.0, bar_style='info', description='Progress:', layout=Layout(height='25px', width='50%'),…"
      ]
     },
     "metadata": {},
     "output_type": "display_data"
    },
    {
     "name": "stdout",
     "output_type": "stream",
     "text": [
      "[((2010, 11), 1.1346912486917318), ((2010, 10), 1.3490445574497636), ((2010, 9), 0.8563074572610173), ((2010, 8), 0.7212006200887369), ((2010, 7), 0.7697081027800802)]"
     ]
    }
   ],
   "source": [
    "#revisamos\n",
    "s2_promedio.take(5)"
   ]
  },
  {
   "cell_type": "code",
   "execution_count": 45,
   "metadata": {},
   "outputs": [
    {
     "data": {
      "application/vnd.jupyter.widget-view+json": {
       "model_id": "",
       "version_major": 2,
       "version_minor": 0
      },
      "text/plain": [
       "FloatProgress(value=0.0, bar_style='info', description='Progress:', layout=Layout(height='25px', width='50%'),…"
      ]
     },
     "metadata": {},
     "output_type": "display_data"
    }
   ],
   "source": [
    "#creamos el RDD para submetering 3\n",
    "s3_promedio = datos_formateados\\\n",
    "    .keyBy(lambda x: (x[0], x[1]))\\\n",
    "    .mapValues(lambda x: (x[9], 1))\\\n",
    "    .reduceByKey(lambda x, y: (x[0] + y[0], x[1] + y[1]))\\\n",
    "    .mapValues(lambda x: (x[0]/x[1]))\\\n",
    "    .sortByKey(ascending=False)\\"
   ]
  },
  {
   "cell_type": "code",
   "execution_count": 46,
   "metadata": {},
   "outputs": [
    {
     "data": {
      "application/vnd.jupyter.widget-view+json": {
       "model_id": "",
       "version_major": 2,
       "version_minor": 0
      },
      "text/plain": [
       "FloatProgress(value=0.0, bar_style='info', description='Progress:', layout=Layout(height='25px', width='50%'),…"
      ]
     },
     "metadata": {},
     "output_type": "display_data"
    },
    {
     "name": "stdout",
     "output_type": "stream",
     "text": [
      "[((2010, 11), 6.631591659286692), ((2010, 10), 7.071596585945025), ((2010, 9), 6.792429470800516), ((2010, 8), 4.28152563211632), ((2010, 7), 4.321602186428907)]"
     ]
    }
   ],
   "source": [
    "#revisamos\n",
    "s3_promedio.take(5)"
   ]
  },
  {
   "cell_type": "markdown",
   "metadata": {},
   "source": [
    "### * Identifique aquellos registros donde el consumo promedio del submetering 3 sea mayor al submetering 1."
   ]
  },
  {
   "cell_type": "code",
   "execution_count": 47,
   "metadata": {},
   "outputs": [
    {
     "data": {
      "application/vnd.jupyter.widget-view+json": {
       "model_id": "",
       "version_major": 2,
       "version_minor": 0
      },
      "text/plain": [
       "FloatProgress(value=0.0, bar_style='info', description='Progress:', layout=Layout(height='25px', width='50%'),…"
      ]
     },
     "metadata": {},
     "output_type": "display_data"
    }
   ],
   "source": [
    "#creamos una funcion para obtener lo solicitado\n",
    "def registros_x_mayor_y(rdd_joined, x, y):\n",
    "    x_mayor_y = rdd_joined\\\n",
    "        .filter(lambda x: x[1][0] > x[1][1])\\\n",
    "        .sortByKey(ascending=True)\\\n",
    "        .collect()\n",
    "    #reportamos\n",
    "    texto = f\"Registros donde el \\033[1mconsumo promedio del submetering {x} es mayor\"\n",
    "    texto += f\" al del submetering {y}\\033[0m (total: {len(x_mayor_y)}):\\n\"\n",
    "    print(texto)\n",
    "    for i in x_mayor_y:\n",
    "        mes = i[0][1]\n",
    "        if mes < 10:\n",
    "            mes_txt = f\"0{mes}\"\n",
    "        else:\n",
    "            mes_txt = f\"{mes}\"\n",
    "        texto = f\"año: \\033[1m{i[0][0]}\\033[0m - mes \\033[1m{mes_txt}\\033[0m, promedio s{x}: \"\n",
    "        texto += f\"\\033[1m{i[1][1]}\\033[0m\\t-\\tpromedio s{y}: \\033[1m{i[1][0]}\\033[0m\"\n",
    "        print(texto)"
   ]
  },
  {
   "cell_type": "code",
   "execution_count": 48,
   "metadata": {},
   "outputs": [
    {
     "data": {
      "application/vnd.jupyter.widget-view+json": {
       "model_id": "",
       "version_major": 2,
       "version_minor": 0
      },
      "text/plain": [
       "FloatProgress(value=0.0, bar_style='info', description='Progress:', layout=Layout(height='25px', width='50%'),…"
      ]
     },
     "metadata": {},
     "output_type": "display_data"
    },
    {
     "name": "stdout",
     "output_type": "stream",
     "text": [
      "[((2010, 8), (4.28152563211632, 0.33407280697065267))]"
     ]
    }
   ],
   "source": [
    "#realizamos el join y revisamos\n",
    "join_s3_s1 = s3_promedio.join(s1_promedio)\n",
    "join_s3_s1.take(1)"
   ]
  },
  {
   "cell_type": "code",
   "execution_count": 49,
   "metadata": {},
   "outputs": [
    {
     "data": {
      "application/vnd.jupyter.widget-view+json": {
       "model_id": "",
       "version_major": 2,
       "version_minor": 0
      },
      "text/plain": [
       "FloatProgress(value=0.0, bar_style='info', description='Progress:', layout=Layout(height='25px', width='50%'),…"
      ]
     },
     "metadata": {},
     "output_type": "display_data"
    },
    {
     "name": "stdout",
     "output_type": "stream",
     "text": [
      "Registros donde el \u001b[1mconsumo promedio del submetering 3 es mayor al del submetering 1\u001b[0m (total: 48):\n",
      "\n",
      "a?o: \u001b[1m2006\u001b[0m - mes \u001b[1m12\u001b[0m, promedio s3: \u001b[1m1.2486358675882139\u001b[0m\t-\tpromedio s1: \u001b[1m7.409558021098581\u001b[0m\n",
      "a?o: \u001b[1m2007\u001b[0m - mes \u001b[1m01\u001b[0m, promedio s3: \u001b[1m1.2642367489582866\u001b[0m\t-\tpromedio s1: \u001b[1m7.383350508535329\u001b[0m\n",
      "a?o: \u001b[1m2007\u001b[0m - mes \u001b[1m02\u001b[0m, promedio s3: \u001b[1m1.1802172726821767\u001b[0m\t-\tpromedio s1: \u001b[1m6.703556724043851\u001b[0m\n",
      "a?o: \u001b[1m2007\u001b[0m - mes \u001b[1m03\u001b[0m, promedio s3: \u001b[1m1.3613432200542126\u001b[0m\t-\tpromedio s1: \u001b[1m6.5046484016219\u001b[0m\n",
      "a?o: \u001b[1m2007\u001b[0m - mes \u001b[1m04\u001b[0m, promedio s3: \u001b[1m1.065886465536895\u001b[0m\t-\tpromedio s1: \u001b[1m4.800339438153862\u001b[0m\n",
      "a?o: \u001b[1m2007\u001b[0m - mes \u001b[1m05\u001b[0m, promedio s3: \u001b[1m1.6966173835125449\u001b[0m\t-\tpromedio s1: \u001b[1m5.1399641577060935\u001b[0m\n",
      "a?o: \u001b[1m2007\u001b[0m - mes \u001b[1m06\u001b[0m, promedio s3: \u001b[1m1.3826725676020113\u001b[0m\t-\tpromedio s1: \u001b[1m4.375906573672869\u001b[0m\n",
      "a?o: \u001b[1m2007\u001b[0m - mes \u001b[1m07\u001b[0m, promedio s3: \u001b[1m0.9672650475184794\u001b[0m\t-\tpromedio s1: \u001b[1m3.478285290615381\u001b[0m\n",
      "a?o: \u001b[1m2007\u001b[0m - mes \u001b[1m08\u001b[0m, promedio s3: \u001b[1m0.812474785960823\u001b[0m\t-\tpromedio s1: \u001b[1m5.05271415123941\u001b[0m\n",
      "a?o: \u001b[1m2007\u001b[0m - mes \u001b[1m09\u001b[0m, promedio s3: \u001b[1m1.2232279272188527\u001b[0m\t-\tpromedio s1: \u001b[1m5.24040464836335\u001b[0m\n",
      "a?o: \u001b[1m2007\u001b[0m - mes \u001b[1m10\u001b[0m, promedio s3: \u001b[1m0.9681885389130337\u001b[0m\t-\tpromedio s1: \u001b[1m5.7368161655988175\u001b[0m\n",
      "a?o: \u001b[1m2007\u001b[0m - mes \u001b[1m11\u001b[0m, promedio s3: \u001b[1m1.1765128015185888\u001b[0m\t-\tpromedio s1: \u001b[1m6.937589703227001\u001b[0m\n",
      "a?o: \u001b[1m2007\u001b[0m - mes \u001b[1m12\u001b[0m, promedio s3: \u001b[1m1.6597594032124376\u001b[0m\t-\tpromedio s1: \u001b[1m8.118976679585117\u001b[0m\n",
      "a?o: \u001b[1m2008\u001b[0m - mes \u001b[1m01\u001b[0m, promedio s3: \u001b[1m1.3835659400972244\u001b[0m\t-\tpromedio s1: \u001b[1m6.993324223212886\u001b[0m\n",
      "a?o: \u001b[1m2008\u001b[0m - mes \u001b[1m02\u001b[0m, promedio s3: \u001b[1m0.9625212539214982\u001b[0m\t-\tpromedio s1: \u001b[1m6.12874488109778\u001b[0m\n",
      "a?o: \u001b[1m2008\u001b[0m - mes \u001b[1m03\u001b[0m, promedio s3: \u001b[1m1.413786151123457\u001b[0m\t-\tpromedio s1: \u001b[1m6.265149308900289\u001b[0m\n",
      "a?o: \u001b[1m2008\u001b[0m - mes \u001b[1m04\u001b[0m, promedio s3: \u001b[1m1.0898148148148148\u001b[0m\t-\tpromedio s1: \u001b[1m6.844398148148148\u001b[0m\n",
      "a?o: \u001b[1m2008\u001b[0m - mes \u001b[1m05\u001b[0m, promedio s3: \u001b[1m1.1892109861552937\u001b[0m\t-\tpromedio s1: \u001b[1m6.510596352883193\u001b[0m\n",
      "a?o: \u001b[1m2008\u001b[0m - mes \u001b[1m06\u001b[0m, promedio s3: \u001b[1m1.5909627537674482\u001b[0m\t-\tpromedio s1: \u001b[1m6.715502673673002\u001b[0m\n",
      "a?o: \u001b[1m2008\u001b[0m - mes \u001b[1m07\u001b[0m, promedio s3: \u001b[1m1.0599265200053767\u001b[0m\t-\tpromedio s1: \u001b[1m5.090461042161387\u001b[0m\n",
      "a?o: \u001b[1m2008\u001b[0m - mes \u001b[1m08\u001b[0m, promedio s3: \u001b[1m0.08676463999283122\u001b[0m\t-\tpromedio s1: \u001b[1m1.7846901742909629\u001b[0m\n",
      "a?o: \u001b[1m2008\u001b[0m - mes \u001b[1m09\u001b[0m, promedio s3: \u001b[1m1.2124074074074074\u001b[0m\t-\tpromedio s1: \u001b[1m6.580601851851852\u001b[0m\n",
      "a?o: \u001b[1m2008\u001b[0m - mes \u001b[1m10\u001b[0m, promedio s3: \u001b[1m0.9886987913985246\u001b[0m\t-\tpromedio s1: \u001b[1m6.186223288562011\u001b[0m\n",
      "a?o: \u001b[1m2008\u001b[0m - mes \u001b[1m11\u001b[0m, promedio s3: \u001b[1m1.344423606769929\u001b[0m\t-\tpromedio s1: \u001b[1m6.497071149081985\u001b[0m\n",
      "a?o: \u001b[1m2008\u001b[0m - mes \u001b[1m12\u001b[0m, promedio s3: \u001b[1m1.0120711705445489\u001b[0m\t-\tpromedio s1: \u001b[1m6.895959074693172\u001b[0m\n",
      "a?o: \u001b[1m2009\u001b[0m - mes \u001b[1m01\u001b[0m, promedio s3: \u001b[1m1.6723268890432132\u001b[0m\t-\tpromedio s1: \u001b[1m7.383812361388024\u001b[0m\n",
      "a?o: \u001b[1m2009\u001b[0m - mes \u001b[1m02\u001b[0m, promedio s3: \u001b[1m1.1699622416534181\u001b[0m\t-\tpromedio s1: \u001b[1m7.357064785373609\u001b[0m\n",
      "a?o: \u001b[1m2009\u001b[0m - mes \u001b[1m03\u001b[0m, promedio s3: \u001b[1m1.4482055647654464\u001b[0m\t-\tpromedio s1: \u001b[1m7.363613961198978\u001b[0m\n",
      "a?o: \u001b[1m2009\u001b[0m - mes \u001b[1m04\u001b[0m, promedio s3: \u001b[1m1.2617713783045512\u001b[0m\t-\tpromedio s1: \u001b[1m7.126255845178018\u001b[0m\n",
      "a?o: \u001b[1m2009\u001b[0m - mes \u001b[1m05\u001b[0m, promedio s3: \u001b[1m0.9761179317143113\u001b[0m\t-\tpromedio s1: \u001b[1m6.968545568599337\u001b[0m\n",
      "a?o: \u001b[1m2009\u001b[0m - mes \u001b[1m06\u001b[0m, promedio s3: \u001b[1m0.7861135480636672\u001b[0m\t-\tpromedio s1: \u001b[1m6.5163303672139365\u001b[0m\n",
      "a?o: \u001b[1m2009\u001b[0m - mes \u001b[1m07\u001b[0m, promedio s3: \u001b[1m0.4083251187382382\u001b[0m\t-\tpromedio s1: \u001b[1m4.210413119455148\u001b[0m\n",
      "a?o: \u001b[1m2009\u001b[0m - mes \u001b[1m08\u001b[0m, promedio s3: \u001b[1m0.7776863471165055\u001b[0m\t-\tpromedio s1: \u001b[1m4.390134631648723\u001b[0m\n",
      "a?o: \u001b[1m2009\u001b[0m - mes \u001b[1m09\u001b[0m, promedio s3: \u001b[1m1.194573697247494\u001b[0m\t-\tpromedio s1: \u001b[1m6.864990624348913\u001b[0m\n",
      "a?o: \u001b[1m2009\u001b[0m - mes \u001b[1m10\u001b[0m, promedio s3: \u001b[1m1.226013127534219\u001b[0m\t-\tpromedio s1: \u001b[1m7.336745894845315\u001b[0m\n",
      "a?o: \u001b[1m2009\u001b[0m - mes \u001b[1m11\u001b[0m, promedio s3: \u001b[1m1.3992222042176903\u001b[0m\t-\tpromedio s1: \u001b[1m7.7670547929350215\u001b[0m\n",
      "a?o: \u001b[1m2009\u001b[0m - mes \u001b[1m12\u001b[0m, promedio s3: \u001b[1m1.2948832833012232\u001b[0m\t-\tpromedio s1: \u001b[1m8.600497334109951\u001b[0m\n",
      "a?o: \u001b[1m2010\u001b[0m - mes \u001b[1m01\u001b[0m, promedio s3: \u001b[1m1.2982003902768073\u001b[0m\t-\tpromedio s1: \u001b[1m9.538003806403431\u001b[0m\n",
      "a?o: \u001b[1m2010\u001b[0m - mes \u001b[1m02\u001b[0m, promedio s3: \u001b[1m1.2219852175207104\u001b[0m\t-\tpromedio s1: \u001b[1m10.211667245399077\u001b[0m\n",
      "a?o: \u001b[1m2010\u001b[0m - mes \u001b[1m03\u001b[0m, promedio s3: \u001b[1m0.823434163283505\u001b[0m\t-\tpromedio s1: \u001b[1m7.6115739328373975\u001b[0m\n",
      "a?o: \u001b[1m2010\u001b[0m - mes \u001b[1m04\u001b[0m, promedio s3: \u001b[1m0.8841871339614343\u001b[0m\t-\tpromedio s1: \u001b[1m7.780064353341513\u001b[0m\n",
      "a?o: \u001b[1m2010\u001b[0m - mes \u001b[1m05\u001b[0m, promedio s3: \u001b[1m1.077689912408432\u001b[0m\t-\tpromedio s1: \u001b[1m8.168305741616075\u001b[0m\n",
      "a?o: \u001b[1m2010\u001b[0m - mes \u001b[1m06\u001b[0m, promedio s3: \u001b[1m1.5219917588777259\u001b[0m\t-\tpromedio s1: \u001b[1m7.105282651974629\u001b[0m\n",
      "a?o: \u001b[1m2010\u001b[0m - mes \u001b[1m07\u001b[0m, promedio s3: \u001b[1m0.39577499495956453\u001b[0m\t-\tpromedio s1: \u001b[1m4.321602186428907\u001b[0m\n",
      "a?o: \u001b[1m2010\u001b[0m - mes \u001b[1m08\u001b[0m, promedio s3: \u001b[1m0.33407280697065267\u001b[0m\t-\tpromedio s1: \u001b[1m4.28152563211632\u001b[0m\n",
      "a?o: \u001b[1m2010\u001b[0m - mes \u001b[1m09\u001b[0m, promedio s3: \u001b[1m0.9710771013881938\u001b[0m\t-\tpromedio s1: \u001b[1m6.792429470800516\u001b[0m\n",
      "a?o: \u001b[1m2010\u001b[0m - mes \u001b[1m10\u001b[0m, promedio s3: \u001b[1m1.0797508904769373\u001b[0m\t-\tpromedio s1: \u001b[1m7.071596585945025\u001b[0m\n",
      "a?o: \u001b[1m2010\u001b[0m - mes \u001b[1m11\u001b[0m, promedio s3: \u001b[1m1.2388159836835466\u001b[0m\t-\tpromedio s1: \u001b[1m6.631591659286692\u001b[0m"
     ]
    }
   ],
   "source": [
    "#ejecutamos nuestra funcion\n",
    "registros_x_mayor_y(join_s3_s1, 3, 1)"
   ]
  },
  {
   "cell_type": "markdown",
   "metadata": {},
   "source": [
    "### * Identifique aquellos registros donde el consumo promedio del submetering 2 sea mayor al submetering 1."
   ]
  },
  {
   "cell_type": "code",
   "execution_count": 50,
   "metadata": {},
   "outputs": [
    {
     "data": {
      "application/vnd.jupyter.widget-view+json": {
       "model_id": "",
       "version_major": 2,
       "version_minor": 0
      },
      "text/plain": [
       "FloatProgress(value=0.0, bar_style='info', description='Progress:', layout=Layout(height='25px', width='50%'),…"
      ]
     },
     "metadata": {},
     "output_type": "display_data"
    },
    {
     "name": "stdout",
     "output_type": "stream",
     "text": [
      "[((2010, 8), (0.7212006200887369, 0.33407280697065267))]"
     ]
    }
   ],
   "source": [
    "#realizamos el join y revisamos\n",
    "join_s2_s1 = s2_promedio.join(s1_promedio)\n",
    "join_s2_s1.take(1)"
   ]
  },
  {
   "cell_type": "code",
   "execution_count": 51,
   "metadata": {},
   "outputs": [
    {
     "data": {
      "application/vnd.jupyter.widget-view+json": {
       "model_id": "",
       "version_major": 2,
       "version_minor": 0
      },
      "text/plain": [
       "FloatProgress(value=0.0, bar_style='info', description='Progress:', layout=Layout(height='25px', width='50%'),…"
      ]
     },
     "metadata": {},
     "output_type": "display_data"
    },
    {
     "name": "stdout",
     "output_type": "stream",
     "text": [
      "Registros donde el \u001b[1mconsumo promedio del submetering 2 es mayor al del submetering 1\u001b[0m (total: 29):\n",
      "\n",
      "a?o: \u001b[1m2006\u001b[0m - mes \u001b[1m12\u001b[0m, promedio s2: \u001b[1m1.2486358675882139\u001b[0m\t-\tpromedio s1: \u001b[1m2.21498726809749\u001b[0m\n",
      "a?o: \u001b[1m2007\u001b[0m - mes \u001b[1m01\u001b[0m, promedio s2: \u001b[1m1.2642367489582866\u001b[0m\t-\tpromedio s1: \u001b[1m1.7759308212733544\u001b[0m\n",
      "a?o: \u001b[1m2007\u001b[0m - mes \u001b[1m02\u001b[0m, promedio s2: \u001b[1m1.1802172726821767\u001b[0m\t-\tpromedio s1: \u001b[1m1.6023612282355275\u001b[0m\n",
      "a?o: \u001b[1m2007\u001b[0m - mes \u001b[1m03\u001b[0m, promedio s2: \u001b[1m1.3613432200542126\u001b[0m\t-\tpromedio s1: \u001b[1m2.346871569703622\u001b[0m\n",
      "a?o: \u001b[1m2007\u001b[0m - mes \u001b[1m06\u001b[0m, promedio s2: \u001b[1m1.3826725676020113\u001b[0m\t-\tpromedio s1: \u001b[1m1.6205714020900432\u001b[0m\n",
      "a?o: \u001b[1m2007\u001b[0m - mes \u001b[1m07\u001b[0m, promedio s2: \u001b[1m0.9672650475184794\u001b[0m\t-\tpromedio s1: \u001b[1m1.252173717675077\u001b[0m\n",
      "a?o: \u001b[1m2007\u001b[0m - mes \u001b[1m08\u001b[0m, promedio s2: \u001b[1m0.812474785960823\u001b[0m\t-\tpromedio s1: \u001b[1m1.1141467569142498\u001b[0m\n",
      "a?o: \u001b[1m2007\u001b[0m - mes \u001b[1m09\u001b[0m, promedio s2: \u001b[1m1.2232279272188527\u001b[0m\t-\tpromedio s1: \u001b[1m1.7426038242511228\u001b[0m\n",
      "a?o: \u001b[1m2007\u001b[0m - mes \u001b[1m10\u001b[0m, promedio s2: \u001b[1m0.9681885389130337\u001b[0m\t-\tpromedio s1: \u001b[1m1.9694878802813747\u001b[0m\n",
      "a?o: \u001b[1m2007\u001b[0m - mes \u001b[1m11\u001b[0m, promedio s2: \u001b[1m1.1765128015185888\u001b[0m\t-\tpromedio s1: \u001b[1m1.705310431038474\u001b[0m\n",
      "a?o: \u001b[1m2007\u001b[0m - mes \u001b[1m12\u001b[0m, promedio s2: \u001b[1m1.6597594032124376\u001b[0m\t-\tpromedio s1: \u001b[1m1.857814915208674\u001b[0m\n",
      "a?o: \u001b[1m2008\u001b[0m - mes \u001b[1m01\u001b[0m, promedio s2: \u001b[1m1.3835659400972244\u001b[0m\t-\tpromedio s1: \u001b[1m1.4093281659535384\u001b[0m\n",
      "a?o: \u001b[1m2008\u001b[0m - mes \u001b[1m02\u001b[0m, promedio s2: \u001b[1m0.9625212539214982\u001b[0m\t-\tpromedio s1: \u001b[1m1.356562971477836\u001b[0m\n",
      "a?o: \u001b[1m2008\u001b[0m - mes \u001b[1m03\u001b[0m, promedio s2: \u001b[1m1.413786151123457\u001b[0m\t-\tpromedio s1: \u001b[1m1.7759582427921772\u001b[0m\n",
      "a?o: \u001b[1m2008\u001b[0m - mes \u001b[1m04\u001b[0m, promedio s2: \u001b[1m1.0898148148148148\u001b[0m\t-\tpromedio s1: \u001b[1m1.6405324074074075\u001b[0m\n",
      "a?o: \u001b[1m2008\u001b[0m - mes \u001b[1m05\u001b[0m, promedio s2: \u001b[1m1.1892109861552937\u001b[0m\t-\tpromedio s1: \u001b[1m1.3196603790492405\u001b[0m\n",
      "a?o: \u001b[1m2008\u001b[0m - mes \u001b[1m08\u001b[0m, promedio s2: \u001b[1m0.08676463999283122\u001b[0m\t-\tpromedio s1: \u001b[1m0.49876786594381467\u001b[0m\n",
      "a?o: \u001b[1m2008\u001b[0m - mes \u001b[1m10\u001b[0m, promedio s2: \u001b[1m0.9886987913985246\u001b[0m\t-\tpromedio s1: \u001b[1m1.4177635266946207\u001b[0m\n",
      "a?o: \u001b[1m2009\u001b[0m - mes \u001b[1m02\u001b[0m, promedio s2: \u001b[1m1.1699622416534181\u001b[0m\t-\tpromedio s1: \u001b[1m1.2590421303656598\u001b[0m\n",
      "a?o: \u001b[1m2009\u001b[0m - mes \u001b[1m05\u001b[0m, promedio s2: \u001b[1m0.9761179317143113\u001b[0m\t-\tpromedio s1: \u001b[1m1.1223899991038624\u001b[0m\n",
      "a?o: \u001b[1m2009\u001b[0m - mes \u001b[1m07\u001b[0m, promedio s2: \u001b[1m0.4083251187382382\u001b[0m\t-\tpromedio s1: \u001b[1m0.9527735460166682\u001b[0m\n",
      "a?o: \u001b[1m2009\u001b[0m - mes \u001b[1m08\u001b[0m, promedio s2: \u001b[1m0.7776863471165055\u001b[0m\t-\tpromedio s1: \u001b[1m0.8735513954604677\u001b[0m\n",
      "a?o: \u001b[1m2010\u001b[0m - mes \u001b[1m01\u001b[0m, promedio s2: \u001b[1m1.2982003902768073\u001b[0m\t-\tpromedio s1: \u001b[1m1.3627887927919247\u001b[0m\n",
      "a?o: \u001b[1m2010\u001b[0m - mes \u001b[1m02\u001b[0m, promedio s2: \u001b[1m1.2219852175207104\u001b[0m\t-\tpromedio s1: \u001b[1m1.3291829951882534\u001b[0m\n",
      "a?o: \u001b[1m2010\u001b[0m - mes \u001b[1m03\u001b[0m, promedio s2: \u001b[1m0.823434163283505\u001b[0m\t-\tpromedio s1: \u001b[1m1.4284842653650294\u001b[0m\n",
      "a?o: \u001b[1m2010\u001b[0m - mes \u001b[1m05\u001b[0m, promedio s2: \u001b[1m1.077689912408432\u001b[0m\t-\tpromedio s1: \u001b[1m1.173323775174175\u001b[0m\n",
      "a?o: \u001b[1m2010\u001b[0m - mes \u001b[1m07\u001b[0m, promedio s2: \u001b[1m0.39577499495956453\u001b[0m\t-\tpromedio s1: \u001b[1m0.7697081027800802\u001b[0m\n",
      "a?o: \u001b[1m2010\u001b[0m - mes \u001b[1m08\u001b[0m, promedio s2: \u001b[1m0.33407280697065267\u001b[0m\t-\tpromedio s1: \u001b[1m0.7212006200887369\u001b[0m\n",
      "a?o: \u001b[1m2010\u001b[0m - mes \u001b[1m10\u001b[0m, promedio s2: \u001b[1m1.0797508904769373\u001b[0m\t-\tpromedio s1: \u001b[1m1.3490445574497636\u001b[0m"
     ]
    }
   ],
   "source": [
    "#ejecutamos nuestra funcion\n",
    "registros_x_mayor_y(join_s2_s1, 2, 1)"
   ]
  },
  {
   "cell_type": "markdown",
   "metadata": {},
   "source": [
    "### * Identifique aquellos registros donde el consumo promedio del submetering 3 sea mayor al submetering 2."
   ]
  },
  {
   "cell_type": "code",
   "execution_count": 52,
   "metadata": {},
   "outputs": [
    {
     "data": {
      "application/vnd.jupyter.widget-view+json": {
       "model_id": "",
       "version_major": 2,
       "version_minor": 0
      },
      "text/plain": [
       "FloatProgress(value=0.0, bar_style='info', description='Progress:', layout=Layout(height='25px', width='50%'),…"
      ]
     },
     "metadata": {},
     "output_type": "display_data"
    },
    {
     "name": "stdout",
     "output_type": "stream",
     "text": [
      "[((2010, 8), (4.28152563211632, 0.7212006200887369))]"
     ]
    }
   ],
   "source": [
    "#realizamos el join y revisamos\n",
    "join_s3_s2 = s3_promedio.join(s2_promedio)\n",
    "join_s3_s2.take(1)"
   ]
  },
  {
   "cell_type": "code",
   "execution_count": 53,
   "metadata": {},
   "outputs": [
    {
     "data": {
      "application/vnd.jupyter.widget-view+json": {
       "model_id": "",
       "version_major": 2,
       "version_minor": 0
      },
      "text/plain": [
       "FloatProgress(value=0.0, bar_style='info', description='Progress:', layout=Layout(height='25px', width='50%'),…"
      ]
     },
     "metadata": {},
     "output_type": "display_data"
    },
    {
     "name": "stdout",
     "output_type": "stream",
     "text": [
      "Registros donde el \u001b[1mconsumo promedio del submetering 3 es mayor al del submetering 2\u001b[0m (total: 48):\n",
      "\n",
      "a?o: \u001b[1m2006\u001b[0m - mes \u001b[1m12\u001b[0m, promedio s3: \u001b[1m2.21498726809749\u001b[0m\t-\tpromedio s2: \u001b[1m7.409558021098581\u001b[0m\n",
      "a?o: \u001b[1m2007\u001b[0m - mes \u001b[1m01\u001b[0m, promedio s3: \u001b[1m1.7759308212733544\u001b[0m\t-\tpromedio s2: \u001b[1m7.383350508535329\u001b[0m\n",
      "a?o: \u001b[1m2007\u001b[0m - mes \u001b[1m02\u001b[0m, promedio s3: \u001b[1m1.6023612282355275\u001b[0m\t-\tpromedio s2: \u001b[1m6.703556724043851\u001b[0m\n",
      "a?o: \u001b[1m2007\u001b[0m - mes \u001b[1m03\u001b[0m, promedio s3: \u001b[1m2.346871569703622\u001b[0m\t-\tpromedio s2: \u001b[1m6.5046484016219\u001b[0m\n",
      "a?o: \u001b[1m2007\u001b[0m - mes \u001b[1m04\u001b[0m, promedio s3: \u001b[1m0.9731489221572055\u001b[0m\t-\tpromedio s2: \u001b[1m4.800339438153862\u001b[0m\n",
      "a?o: \u001b[1m2007\u001b[0m - mes \u001b[1m05\u001b[0m, promedio s3: \u001b[1m1.6158602150537635\u001b[0m\t-\tpromedio s2: \u001b[1m5.1399641577060935\u001b[0m\n",
      "a?o: \u001b[1m2007\u001b[0m - mes \u001b[1m06\u001b[0m, promedio s3: \u001b[1m1.6205714020900432\u001b[0m\t-\tpromedio s2: \u001b[1m4.375906573672869\u001b[0m\n",
      "a?o: \u001b[1m2007\u001b[0m - mes \u001b[1m07\u001b[0m, promedio s3: \u001b[1m1.252173717675077\u001b[0m\t-\tpromedio s2: \u001b[1m3.478285290615381\u001b[0m\n",
      "a?o: \u001b[1m2007\u001b[0m - mes \u001b[1m08\u001b[0m, promedio s3: \u001b[1m1.1141467569142498\u001b[0m\t-\tpromedio s2: \u001b[1m5.05271415123941\u001b[0m\n",
      "a?o: \u001b[1m2007\u001b[0m - mes \u001b[1m09\u001b[0m, promedio s3: \u001b[1m1.7426038242511228\u001b[0m\t-\tpromedio s2: \u001b[1m5.24040464836335\u001b[0m\n",
      "a?o: \u001b[1m2007\u001b[0m - mes \u001b[1m10\u001b[0m, promedio s3: \u001b[1m1.9694878802813747\u001b[0m\t-\tpromedio s2: \u001b[1m5.7368161655988175\u001b[0m\n",
      "a?o: \u001b[1m2007\u001b[0m - mes \u001b[1m11\u001b[0m, promedio s3: \u001b[1m1.705310431038474\u001b[0m\t-\tpromedio s2: \u001b[1m6.937589703227001\u001b[0m\n",
      "a?o: \u001b[1m2007\u001b[0m - mes \u001b[1m12\u001b[0m, promedio s3: \u001b[1m1.857814915208674\u001b[0m\t-\tpromedio s2: \u001b[1m8.118976679585117\u001b[0m\n",
      "a?o: \u001b[1m2008\u001b[0m - mes \u001b[1m01\u001b[0m, promedio s3: \u001b[1m1.4093281659535384\u001b[0m\t-\tpromedio s2: \u001b[1m6.993324223212886\u001b[0m\n",
      "a?o: \u001b[1m2008\u001b[0m - mes \u001b[1m02\u001b[0m, promedio s3: \u001b[1m1.356562971477836\u001b[0m\t-\tpromedio s2: \u001b[1m6.12874488109778\u001b[0m\n",
      "a?o: \u001b[1m2008\u001b[0m - mes \u001b[1m03\u001b[0m, promedio s3: \u001b[1m1.7759582427921772\u001b[0m\t-\tpromedio s2: \u001b[1m6.265149308900289\u001b[0m\n",
      "a?o: \u001b[1m2008\u001b[0m - mes \u001b[1m04\u001b[0m, promedio s3: \u001b[1m1.6405324074074075\u001b[0m\t-\tpromedio s2: \u001b[1m6.844398148148148\u001b[0m\n",
      "a?o: \u001b[1m2008\u001b[0m - mes \u001b[1m05\u001b[0m, promedio s3: \u001b[1m1.3196603790492405\u001b[0m\t-\tpromedio s2: \u001b[1m6.510596352883193\u001b[0m\n",
      "a?o: \u001b[1m2008\u001b[0m - mes \u001b[1m06\u001b[0m, promedio s3: \u001b[1m1.4687608509456238\u001b[0m\t-\tpromedio s2: \u001b[1m6.715502673673002\u001b[0m\n",
      "a?o: \u001b[1m2008\u001b[0m - mes \u001b[1m07\u001b[0m, promedio s3: \u001b[1m0.9950266589004884\u001b[0m\t-\tpromedio s2: \u001b[1m5.090461042161387\u001b[0m\n",
      "a?o: \u001b[1m2008\u001b[0m - mes \u001b[1m08\u001b[0m, promedio s3: \u001b[1m0.49876786594381467\u001b[0m\t-\tpromedio s2: \u001b[1m1.7846901742909629\u001b[0m\n",
      "a?o: \u001b[1m2008\u001b[0m - mes \u001b[1m09\u001b[0m, promedio s3: \u001b[1m1.032175925925926\u001b[0m\t-\tpromedio s2: \u001b[1m6.580601851851852\u001b[0m\n",
      "a?o: \u001b[1m2008\u001b[0m - mes \u001b[1m10\u001b[0m, promedio s3: \u001b[1m1.4177635266946207\u001b[0m\t-\tpromedio s2: \u001b[1m6.186223288562011\u001b[0m\n",
      "a?o: \u001b[1m2008\u001b[0m - mes \u001b[1m11\u001b[0m, promedio s3: \u001b[1m1.293950128498993\u001b[0m\t-\tpromedio s2: \u001b[1m6.497071149081985\u001b[0m\n",
      "a?o: \u001b[1m2008\u001b[0m - mes \u001b[1m12\u001b[0m, promedio s3: \u001b[1m0.8853463169467567\u001b[0m\t-\tpromedio s2: \u001b[1m6.895959074693172\u001b[0m\n",
      "a?o: \u001b[1m2009\u001b[0m - mes \u001b[1m01\u001b[0m, promedio s3: \u001b[1m1.6342660005824503\u001b[0m\t-\tpromedio s2: \u001b[1m7.383812361388024\u001b[0m\n",
      "a?o: \u001b[1m2009\u001b[0m - mes \u001b[1m02\u001b[0m, promedio s3: \u001b[1m1.2590421303656598\u001b[0m\t-\tpromedio s2: \u001b[1m7.357064785373609\u001b[0m\n",
      "a?o: \u001b[1m2009\u001b[0m - mes \u001b[1m03\u001b[0m, promedio s3: \u001b[1m1.0848828352524755\u001b[0m\t-\tpromedio s2: \u001b[1m7.363613961198978\u001b[0m\n",
      "a?o: \u001b[1m2009\u001b[0m - mes \u001b[1m04\u001b[0m, promedio s3: \u001b[1m1.217672114449743\u001b[0m\t-\tpromedio s2: \u001b[1m7.126255845178018\u001b[0m\n",
      "a?o: \u001b[1m2009\u001b[0m - mes \u001b[1m05\u001b[0m, promedio s3: \u001b[1m1.1223899991038624\u001b[0m\t-\tpromedio s2: \u001b[1m6.968545568599337\u001b[0m\n",
      "a?o: \u001b[1m2009\u001b[0m - mes \u001b[1m06\u001b[0m, promedio s3: \u001b[1m0.7469858378242887\u001b[0m\t-\tpromedio s2: \u001b[1m6.5163303672139365\u001b[0m\n",
      "a?o: \u001b[1m2009\u001b[0m - mes \u001b[1m07\u001b[0m, promedio s3: \u001b[1m0.9527735460166682\u001b[0m\t-\tpromedio s2: \u001b[1m4.210413119455148\u001b[0m\n",
      "a?o: \u001b[1m2009\u001b[0m - mes \u001b[1m08\u001b[0m, promedio s3: \u001b[1m0.8735513954604677\u001b[0m\t-\tpromedio s2: \u001b[1m4.390134631648723\u001b[0m\n",
      "a?o: \u001b[1m2009\u001b[0m - mes \u001b[1m09\u001b[0m, promedio s3: \u001b[1m1.0682223302544158\u001b[0m\t-\tpromedio s2: \u001b[1m6.864990624348913\u001b[0m\n",
      "a?o: \u001b[1m2009\u001b[0m - mes \u001b[1m10\u001b[0m, promedio s3: \u001b[1m1.2036335939425167\u001b[0m\t-\tpromedio s2: \u001b[1m7.336745894845315\u001b[0m\n",
      "a?o: \u001b[1m2009\u001b[0m - mes \u001b[1m11\u001b[0m, promedio s3: \u001b[1m1.2378295793884118\u001b[0m\t-\tpromedio s2: \u001b[1m7.7670547929350215\u001b[0m\n",
      "a?o: \u001b[1m2009\u001b[0m - mes \u001b[1m12\u001b[0m, promedio s3: \u001b[1m1.1983063757336798\u001b[0m\t-\tpromedio s2: \u001b[1m8.600497334109951\u001b[0m\n",
      "a?o: \u001b[1m2010\u001b[0m - mes \u001b[1m01\u001b[0m, promedio s3: \u001b[1m1.3627887927919247\u001b[0m\t-\tpromedio s2: \u001b[1m9.538003806403431\u001b[0m\n",
      "a?o: \u001b[1m2010\u001b[0m - mes \u001b[1m02\u001b[0m, promedio s3: \u001b[1m1.3291829951882534\u001b[0m\t-\tpromedio s2: \u001b[1m10.211667245399077\u001b[0m\n",
      "a?o: \u001b[1m2010\u001b[0m - mes \u001b[1m03\u001b[0m, promedio s3: \u001b[1m1.4284842653650294\u001b[0m\t-\tpromedio s2: \u001b[1m7.6115739328373975\u001b[0m\n",
      "a?o: \u001b[1m2010\u001b[0m - mes \u001b[1m04\u001b[0m, promedio s3: \u001b[1m0.8443713974860529\u001b[0m\t-\tpromedio s2: \u001b[1m7.780064353341513\u001b[0m\n",
      "a?o: \u001b[1m2010\u001b[0m - mes \u001b[1m05\u001b[0m, promedio s3: \u001b[1m1.173323775174175\u001b[0m\t-\tpromedio s2: \u001b[1m8.168305741616075\u001b[0m\n",
      "a?o: \u001b[1m2010\u001b[0m - mes \u001b[1m06\u001b[0m, promedio s3: \u001b[1m1.1036390573637669\u001b[0m\t-\tpromedio s2: \u001b[1m7.105282651974629\u001b[0m\n",
      "a?o: \u001b[1m2010\u001b[0m - mes \u001b[1m07\u001b[0m, promedio s3: \u001b[1m0.7697081027800802\u001b[0m\t-\tpromedio s2: \u001b[1m4.321602186428907\u001b[0m\n",
      "a?o: \u001b[1m2010\u001b[0m - mes \u001b[1m08\u001b[0m, promedio s3: \u001b[1m0.7212006200887369\u001b[0m\t-\tpromedio s2: \u001b[1m4.28152563211632\u001b[0m\n",
      "a?o: \u001b[1m2010\u001b[0m - mes \u001b[1m09\u001b[0m, promedio s3: \u001b[1m0.8563074572610173\u001b[0m\t-\tpromedio s2: \u001b[1m6.792429470800516\u001b[0m\n",
      "a?o: \u001b[1m2010\u001b[0m - mes \u001b[1m10\u001b[0m, promedio s3: \u001b[1m1.3490445574497636\u001b[0m\t-\tpromedio s2: \u001b[1m7.071596585945025\u001b[0m\n",
      "a?o: \u001b[1m2010\u001b[0m - mes \u001b[1m11\u001b[0m, promedio s3: \u001b[1m1.1346912486917318\u001b[0m\t-\tpromedio s2: \u001b[1m6.631591659286692\u001b[0m"
     ]
    }
   ],
   "source": [
    "#ejecutamos nuestra funcion\n",
    "registros_x_mayor_y(join_s3_s2, 3, 2)"
   ]
  },
  {
   "cell_type": "markdown",
   "metadata": {},
   "source": [
    "### *Identifique aquellos registros donde el consumo promedio del submetering 2 sea mayor al submetering 3."
   ]
  },
  {
   "cell_type": "code",
   "execution_count": 54,
   "metadata": {},
   "outputs": [
    {
     "data": {
      "application/vnd.jupyter.widget-view+json": {
       "model_id": "",
       "version_major": 2,
       "version_minor": 0
      },
      "text/plain": [
       "FloatProgress(value=0.0, bar_style='info', description='Progress:', layout=Layout(height='25px', width='50%'),…"
      ]
     },
     "metadata": {},
     "output_type": "display_data"
    },
    {
     "name": "stdout",
     "output_type": "stream",
     "text": [
      "[((2010, 8), (0.7212006200887369, 4.28152563211632))]"
     ]
    }
   ],
   "source": [
    "#realizamos el join y revisamos\n",
    "join_s2_s3 = s2_promedio.join(s3_promedio)\n",
    "join_s2_s3.take(1)"
   ]
  },
  {
   "cell_type": "code",
   "execution_count": 55,
   "metadata": {},
   "outputs": [
    {
     "data": {
      "application/vnd.jupyter.widget-view+json": {
       "model_id": "",
       "version_major": 2,
       "version_minor": 0
      },
      "text/plain": [
       "FloatProgress(value=0.0, bar_style='info', description='Progress:', layout=Layout(height='25px', width='50%'),…"
      ]
     },
     "metadata": {},
     "output_type": "display_data"
    },
    {
     "name": "stdout",
     "output_type": "stream",
     "text": [
      "Registros donde el \u001b[1mconsumo promedio del submetering 2 es mayor al del submetering 3\u001b[0m (total: 0):"
     ]
    }
   ],
   "source": [
    "#ejecutamos nuestra funcion\n",
    "registros_x_mayor_y(join_s2_s3, 2, 3)"
   ]
  },
  {
   "cell_type": "code",
   "execution_count": null,
   "metadata": {},
   "outputs": [],
   "source": []
  },
  {
   "cell_type": "code",
   "execution_count": null,
   "metadata": {},
   "outputs": [],
   "source": []
  }
 ],
 "metadata": {
  "kernelspec": {
   "display_name": "PySpark",
   "language": "python",
   "name": "pysparkkernel"
  },
  "language_info": {
   "codemirror_mode": {
    "name": "python",
    "version": 3
   },
   "file_extension": ".py",
   "mimetype": "text/x-python",
   "name": "pyspark",
   "pygments_lexer": "python3"
  }
 },
 "nbformat": 4,
 "nbformat_minor": 2
}
